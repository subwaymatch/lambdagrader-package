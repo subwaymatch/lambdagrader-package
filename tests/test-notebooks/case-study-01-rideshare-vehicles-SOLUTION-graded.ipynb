{
 "cells": [
  {
   "cell_type": "code",
   "execution_count": 1,
   "metadata": {},
   "outputs": [],
   "source": [
    "# LambdaGrader Before File Code\n",
    "# REMOVE_IN_HTML_OUTPUT\n",
    "import traceback\n",
    "import json\n",
    "from datetime import datetime\n",
    "\n",
    "grading_start_time = datetime.now()\n",
    "\n",
    "_graded_result = {\n",
    "    'grading_finished_at': None,\n",
    "    'grading_duration_in_seconds': 0,\n",
    "    'learner_score': 0,\n",
    "    'total_available': 0,\n",
    "    'num_test_cases': 0,\n",
    "    'num_passed_cases': 0,\n",
    "    'num_failed_cases': 0,\n",
    "    'results': []\n",
    "}\n",
    "\n",
    "is_lambdagrader_env = True\n",
    "\n",
    "def _record_test_case(test_case_name, did_pass, available_points, message=''):\n",
    "    global _graded_result\n",
    "    warning_message = ''\n",
    "    \n",
    "    if test_case_name in map(lambda x: x['test_case_name'], _graded_result['results']):\n",
    "        warning_message = f'[Warning] LambdaGrader: An identical test case name \"{test_case_name}\" already exists. Test cases with identical test case names will be graded \\n\\n'\n",
    "\n",
    "    _graded_result['results'].append({\n",
    "        'test_case_name': test_case_name,\n",
    "        'available_points': available_points,\n",
    "        'points': available_points if did_pass else 0,\n",
    "        'pass': did_pass,\n",
    "        'message': warning_message + message,\n",
    "    })"
   ]
  },
  {
   "cell_type": "markdown",
   "metadata": {},
   "source": [
    "# City of Chicago Uber/Lyft Vehicles Registered\n",
    "\n",
    "- 🏆 80 points available\n",
    "- 🤠 Author: Park (ypark32@illinois.edu)\n",
    "- ✏️ Last updated on 09/19/2022"
   ]
  },
  {
   "cell_type": "markdown",
   "metadata": {
    "id": "DiznwS2xem7h"
   },
   "source": [
    "---\n",
    "\n",
    "▶️ First, run the code cell below to import `unittest`, a module used for **🧭 Check Your Work** sections and the autograder."
   ]
  },
  {
   "cell_type": "code",
   "execution_count": 2,
   "metadata": {
    "id": "xOFvIip0em7h"
   },
   "outputs": [],
   "source": [
    "# DO NOT MODIFY THE CODE IN THIS CELL\n",
    "import unittest\n",
    "tc = unittest.TestCase()"
   ]
  },
  {
   "cell_type": "markdown",
   "metadata": {},
   "source": [
    "---\n",
    "\n",
    "## 💎 Case overview\n",
    "\n",
    "There have been four Transportation Network Providers (often called rideshare companies 🚗) licensed to operate in Chicago. These rideshare companies are required to routinely report vehicles, drivers, and trips information to the City of Chicago, which are published to the [Chicago Data Portal](https://data.cityofchicago.org/). The latest vehicles dataset can be downloaded at [registered vehicles dataset](https://data.cityofchicago.org/Transportation/Transportation-Network-Providers-Vehicles/bc6b-sq4u). The original dataset has been preprocessed to fit this case study.\n",
    "\n",
    "The reporting is done on a monthly basis, as indicated in the `REPORTED_YEAR` and `REPORTED_MONTH` columns. For each registered vehicle at a given month, the following information are provided:\n",
    "\n",
    "| Column Name       | Description                                                                                                                                                                                                                      |\n",
    "|-------------------|----------------------------------------------------------------------------------------------------------------------------------------------------------------------------------------------------------------------------------|\n",
    "| `REPORTD_YEAR`    | The year in which the vehicle was reported                                                                                                                                                                                       |\n",
    "| `REPORTED_MONTH`  | The month in which the vehicle was reported                                                                                                                                                                                      |\n",
    "| `STATE`           | The state of the license plate                                                                                                                                                                                                   |\n",
    "| `MAKE`            | The make of the vehicle                                                                                                                                                                                                          |\n",
    "| `MODEL`           | The model of the vehicle                                                                                                                                                                                                         |\n",
    "| `COLOR`           | The color of the vehicle                                                                                                                                                                                                         |\n",
    "| `MODEL_YEAR`      | The model year of the vehicle                                                                                                                                                                                                    |\n",
    "| `NUMBER_OF_TRIPS` | Number of trips provided in this month. Due to the complexities of matching, errors are possible in both directions. Values over 999 are converted to null as suspected error values that interfere with easy data visualization |\n",
    "| `MULTIPLE_TNPS`   | Whether the vehicle was reported by multiple TNPs in this month. Matching is imperfect so some vehicle records that should have been combined may be separate.                                                                   |\n",
    "\n",
    "### ⚔️ Your goal\n",
    "\n",
    "In this case study, you'll use Pandas to explore and analyze over 1 million monthly rideshare vehicle registrations. Below are some of the questions you'll be answering.\n",
    "\n",
    "- How many total trips did drivers make between 2015-2020?\n",
    "- How many trips did drivers make per month on average between 2015-2020?\n",
    "- Do Lincoln drivers make more trips compared to the overall average?\n",
    "- Do any drivers drive a red Tesla?\n",
    "- Do any drivers drive a Porsche or a Hummer?\n",
    "- Are there any vehicles that are brand new?\n",
    "- Do drivers who drive for two or more rideshare companies (e.g., Uber **and** Lyft) make more trips on average compared to other drivers who only drive for only one rideshare company?\n",
    "- Which automakers are popular amongst rideshare drivers?\n",
    "- Which automakers have the highest number of trips on average?\n",
    "- How many number of trips do drivers of Japanese big three automakers make on average?\n",
    "- Which make/model are popular amongst rideshare drivers?\n",
    "- How about colors?\n",
    "\n",
    "### Notes\n",
    "\n",
    "- Vehicle registrations that made less than 100 monthly trips are excluded. If you'd like to use the full dataset, you can download the full data (~350 MB) at [registered vehicles dataset](https://data.cityofchicago.org/Transportation/Transportation-Network-Providers-Vehicles/bc6b-sq4u).  \n",
    "- A vehicle will likely be registered multiple times. As an example, if a driver drives a Camry for 12 months, there will be 12 rows of duplicate vehicle information."
   ]
  },
  {
   "cell_type": "markdown",
   "metadata": {},
   "source": [
    "---\n",
    "\n",
    "### 🎯 Part 1: Import `numpy` and `pandas`\n",
    "\n",
    "#### 👇 Tasks\n",
    "\n",
    "- ✔️ Import the following Python packages.\n",
    "    1. `pandas`: Use alias `pd`.\n",
    "    2. `numpy`: Use alias `np`."
   ]
  },
  {
   "cell_type": "code",
   "execution_count": 3,
   "metadata": {},
   "outputs": [],
   "source": [
    "### BEGIN SOLUTION\n",
    "import pandas as pd\n",
    "import numpy as np\n",
    "### END SOLUTION"
   ]
  },
  {
   "cell_type": "markdown",
   "metadata": {},
   "source": [
    "#### 🧭 Check your work\n",
    "\n",
    "- Once you're done, run the code cell below to test correctness.\n",
    "- ✔️ If the code cell runs without an error, you're good to move on.\n",
    "- ❌ If the code cell throws an error, go back and fix incorrect parts."
   ]
  },
  {
   "cell_type": "code",
   "execution_count": 4,
   "metadata": {
    "nbgrader": {
     "grade": true,
     "grade_id": "part-01",
     "locked": true,
     "points": "2",
     "solution": false
    }
   },
   "outputs": [],
   "source": [
    "# Code Generated by LambdaGrader\n",
    "try:\n",
    "    _did_pass = True\n",
    "    _message = ''\n",
    "    # DO NOT CHANGE THE CODE IN THIS CELL\n",
    "    _test_case = \"part-01\"\n",
    "    _points = 2\n",
    "\n",
    "    tc.assertTrue('pd' in globals(), 'Check whether you have correctly import Pandas with an alias.')\n",
    "    tc.assertTrue('np' in globals(), 'Check whether you have correctly import NumPy with an alias.')\n",
    "except BaseException as ex:\n",
    "    _did_pass = False\n",
    "    _message = ''.join(traceback.TracebackException.from_exception(ex).format())\n",
    "finally:\n",
    "    _record_test_case(_test_case, _did_pass, _points, _message)"
   ]
  },
  {
   "cell_type": "markdown",
   "metadata": {},
   "source": [
    "---\n",
    "\n",
    "## 🔭 Explore Data\n",
    "\n",
    "### 📌 Load data"
   ]
  },
  {
   "cell_type": "markdown",
   "metadata": {},
   "source": [
    "▶️ Run the code cell below to configure Pandas, create a new `DataFrame` named `df_v` from a ZIP file, and clone the dataset for intermediate checks."
   ]
  },
  {
   "cell_type": "code",
   "execution_count": 5,
   "metadata": {},
   "outputs": [
    {
     "data": {
      "text/html": [
       "<div>\n",
       "<style scoped>\n",
       "    .dataframe tbody tr th:only-of-type {\n",
       "        vertical-align: middle;\n",
       "    }\n",
       "\n",
       "    .dataframe tbody tr th {\n",
       "        vertical-align: top;\n",
       "    }\n",
       "\n",
       "    .dataframe thead th {\n",
       "        text-align: right;\n",
       "    }\n",
       "</style>\n",
       "<table border=\"1\" class=\"dataframe\">\n",
       "  <thead>\n",
       "    <tr style=\"text-align: right;\">\n",
       "      <th></th>\n",
       "      <th>REPORTED_YEAR</th>\n",
       "      <th>REPORTED_MONTH</th>\n",
       "      <th>STATE</th>\n",
       "      <th>MAKE</th>\n",
       "      <th>MODEL</th>\n",
       "      <th>COLOR</th>\n",
       "      <th>MODEL_YEAR</th>\n",
       "      <th>NUMBER_OF_TRIPS</th>\n",
       "      <th>MULTIPLE_TNPS</th>\n",
       "    </tr>\n",
       "  </thead>\n",
       "  <tbody>\n",
       "    <tr>\n",
       "      <th>0</th>\n",
       "      <td>2015</td>\n",
       "      <td>3</td>\n",
       "      <td>IL</td>\n",
       "      <td>Toyota</td>\n",
       "      <td>Highlander</td>\n",
       "      <td>Black</td>\n",
       "      <td>2010</td>\n",
       "      <td>263</td>\n",
       "      <td>False</td>\n",
       "    </tr>\n",
       "    <tr>\n",
       "      <th>1</th>\n",
       "      <td>2015</td>\n",
       "      <td>3</td>\n",
       "      <td>IL</td>\n",
       "      <td>Toyota</td>\n",
       "      <td>Camry</td>\n",
       "      <td>Black</td>\n",
       "      <td>2008</td>\n",
       "      <td>204</td>\n",
       "      <td>False</td>\n",
       "    </tr>\n",
       "    <tr>\n",
       "      <th>2</th>\n",
       "      <td>2015</td>\n",
       "      <td>3</td>\n",
       "      <td>IL</td>\n",
       "      <td>Toyota</td>\n",
       "      <td>Camry</td>\n",
       "      <td>Black</td>\n",
       "      <td>2009</td>\n",
       "      <td>122</td>\n",
       "      <td>False</td>\n",
       "    </tr>\n",
       "    <tr>\n",
       "      <th>3</th>\n",
       "      <td>2015</td>\n",
       "      <td>3</td>\n",
       "      <td>IL</td>\n",
       "      <td>Mazda</td>\n",
       "      <td>Mazda3</td>\n",
       "      <td>Silver</td>\n",
       "      <td>2012</td>\n",
       "      <td>150</td>\n",
       "      <td>False</td>\n",
       "    </tr>\n",
       "    <tr>\n",
       "      <th>4</th>\n",
       "      <td>2015</td>\n",
       "      <td>3</td>\n",
       "      <td>IL</td>\n",
       "      <td>Chrysler</td>\n",
       "      <td>Pt Cruiser</td>\n",
       "      <td>White/Pearl</td>\n",
       "      <td>2008</td>\n",
       "      <td>208</td>\n",
       "      <td>False</td>\n",
       "    </tr>\n",
       "  </tbody>\n",
       "</table>\n",
       "</div>"
      ],
      "text/plain": [
       "   REPORTED_YEAR  REPORTED_MONTH STATE      MAKE       MODEL        COLOR  \\\n",
       "0           2015               3    IL    Toyota  Highlander        Black   \n",
       "1           2015               3    IL    Toyota       Camry        Black   \n",
       "2           2015               3    IL    Toyota       Camry        Black   \n",
       "3           2015               3    IL     Mazda      Mazda3       Silver   \n",
       "4           2015               3    IL  Chrysler  Pt Cruiser  White/Pearl   \n",
       "\n",
       "   MODEL_YEAR  NUMBER_OF_TRIPS  MULTIPLE_TNPS  \n",
       "0        2010              263          False  \n",
       "1        2008              204          False  \n",
       "2        2009              122          False  \n",
       "3        2012              150          False  \n",
       "4        2008              208          False  "
      ]
     },
     "execution_count": 5,
     "metadata": {},
     "output_type": "execute_result"
    }
   ],
   "source": [
    "# DO NOT CHANGE THE CODE IN THIS CELL\n",
    "# Display precision of decimal places to 1\n",
    "# Precision of decimal places does not have a significance in this case study\n",
    "pd.set_option('precision', 1)\n",
    "\n",
    "df_v = pd.read_csv('https://github.com/bdi475/datasets/blob/main/chicago-ridesharing-vehicles.zip?raw=true', compression='zip')\n",
    "\n",
    "# Used to keep a clean copy\n",
    "df_v_backup = df_v.copy()\n",
    "\n",
    "# Display the first 5 rows\n",
    "df_v.head()"
   ]
  },
  {
   "cell_type": "markdown",
   "metadata": {},
   "source": [
    "---\n",
    "\n",
    "### 🎯 Part2: Find the number of rows and columns in the dataset\n",
    "\n",
    "#### 👇 Tasks\n",
    "\n",
    "- ✔️ Store the number of rows in `df_v` to a new variable named `num_rows`.\n",
    "- ✔️ Store the number of columns in `df_v` to a new variable named `num_cols`.\n",
    "- ✔️ Both `num_rows` and `num_cols` must be `int`s.\n",
    "- ✔️ Use `.shape`, not `len()`."
   ]
  },
  {
   "cell_type": "code",
   "execution_count": 6,
   "metadata": {},
   "outputs": [
    {
     "name": "stdout",
     "output_type": "stream",
     "text": [
      "There are 1377583 rows and 9 columns in the dataset.\n",
      "🐼 With over a million rows, this dataset is by far the largest one we've worked with so far!!\n"
     ]
    }
   ],
   "source": [
    "### BEGIN SOLUTION\n",
    "num_rows = df_v.shape[0]\n",
    "num_cols = df_v.shape[1]\n",
    "### END SOLUTION\n",
    "\n",
    "print(f'There are {num_rows} rows and {num_cols} columns in the dataset.')\n",
    "print('🐼 With over a million rows, this dataset is by far the largest one we\\'ve worked with so far!!')"
   ]
  },
  {
   "cell_type": "markdown",
   "metadata": {},
   "source": [
    "#### 🧭 Check Your Work\n",
    "\n",
    "- Once you're done, run the code cell below to test correctness.\n",
    "- ✔️ If the code cell runs without an error, you're good to move on.\n",
    "- ❌ If the code cell throws an error, go back and fix incorrect parts."
   ]
  },
  {
   "cell_type": "code",
   "execution_count": 7,
   "metadata": {
    "nbgrader": {
     "grade": true,
     "grade_id": "part-02",
     "locked": true,
     "points": "2",
     "solution": false
    }
   },
   "outputs": [],
   "source": [
    "# Code Generated by LambdaGrader\n",
    "try:\n",
    "    _did_pass = True\n",
    "    _message = ''\n",
    "    # DO NOT CHANGE THE CODE IN THIS CELL\n",
    "    _test_case = \"part-02\"\n",
    "    _points = 2\n",
    "\n",
    "    tc.assertEqual(num_rows, len(df_v_backup.index), f'Number of rows should be {len(df_v_backup.index)}')\n",
    "    tc.assertEqual(num_cols, len(df_v_backup.columns), f'Number of columns should be {len(df_v_backup.columns)}')\n",
    "except BaseException as ex:\n",
    "    _did_pass = False\n",
    "    _message = ''.join(traceback.TracebackException.from_exception(ex).format())\n",
    "finally:\n",
    "    _record_test_case(_test_case, _did_pass, _points, _message)"
   ]
  },
  {
   "cell_type": "markdown",
   "metadata": {},
   "source": [
    "---\n",
    "\n",
    "### 🎯 Part 3: Concise summary of the dataset\n",
    "\n",
    "#### 👇 Tasks\n",
    "\n",
    "- ✔️ Use the `info()` method to print out a concise summary of `df_v`.\n",
    "\n",
    "#### 🚀 Hints\n",
    "\n",
    "- `my_dataframe.info()` prints out a concise summary of `my_dataframe`."
   ]
  },
  {
   "cell_type": "code",
   "execution_count": 8,
   "metadata": {},
   "outputs": [
    {
     "name": "stdout",
     "output_type": "stream",
     "text": [
      "<class 'pandas.core.frame.DataFrame'>\n",
      "RangeIndex: 1377583 entries, 0 to 1377582\n",
      "Data columns (total 9 columns):\n",
      " #   Column           Non-Null Count    Dtype \n",
      "---  ------           --------------    ----- \n",
      " 0   REPORTED_YEAR    1377583 non-null  int64 \n",
      " 1   REPORTED_MONTH   1377583 non-null  int64 \n",
      " 2   STATE            1377583 non-null  object\n",
      " 3   MAKE             1377583 non-null  object\n",
      " 4   MODEL            1377583 non-null  object\n",
      " 5   COLOR            1377583 non-null  object\n",
      " 6   MODEL_YEAR       1377583 non-null  int64 \n",
      " 7   NUMBER_OF_TRIPS  1377583 non-null  int64 \n",
      " 8   MULTIPLE_TNPS    1377583 non-null  bool  \n",
      "dtypes: bool(1), int64(4), object(4)\n",
      "memory usage: 85.4+ MB\n"
     ]
    }
   ],
   "source": [
    "### BEGIN SOLUTION\n",
    "df_v.info()\n",
    "### END SOLUTION"
   ]
  },
  {
   "cell_type": "code",
   "execution_count": 9,
   "metadata": {
    "nbgrader": {
     "grade": true,
     "grade_id": "part-03",
     "locked": true,
     "points": "2",
     "solution": false
    }
   },
   "outputs": [],
   "source": [
    "# Code Generated by LambdaGrader\n",
    "try:\n",
    "    _did_pass = True\n",
    "    _message = ''\n",
    "    # DO NOT CHANGE THE CODE IN THIS CELL\n",
    "    _test_case = \"part-03\"\n",
    "    _points = 2\n",
    "except BaseException as ex:\n",
    "    _did_pass = False\n",
    "    _message = ''.join(traceback.TracebackException.from_exception(ex).format())\n",
    "finally:\n",
    "    _record_test_case(_test_case, _did_pass, _points, _message)"
   ]
  },
  {
   "cell_type": "markdown",
   "metadata": {},
   "source": [
    "---\n",
    "\n",
    "### 🎯 Part 4: Total number of trips\n",
    "\n",
    "#### 👇 Tasks\n",
    "\n",
    "- ✔️ Calculate the total number of trips (monthly) made by all registered vehicles in `df_v`.\n",
    "- ✔️ Store the result to a new variable named `total_num_trips`.\n",
    "- ✔️ `total_num_trips` should be an `int` type (e.g., `int`, `np.int64`).\n",
    "\n",
    "#### 🚀 Hints\n",
    "\n",
    "- Sum all values in the `NUMBER_OF_TRIPS` column."
   ]
  },
  {
   "cell_type": "code",
   "execution_count": 10,
   "metadata": {},
   "outputs": [
    {
     "name": "stdout",
     "output_type": "stream",
     "text": [
      "328935191 trips were made in total.\n"
     ]
    }
   ],
   "source": [
    "### BEGIN SOLUTION\n",
    "total_num_trips = df_v['NUMBER_OF_TRIPS'].sum()\n",
    "### END SOLUTION\n",
    "\n",
    "print(f'{total_num_trips} trips were made in total.')"
   ]
  },
  {
   "cell_type": "markdown",
   "metadata": {},
   "source": [
    "#### 🧭 Check Your Work\n",
    "\n",
    "- Once you're done, run the code cell below to test correctness.\n",
    "- ✔️ If the code cell runs without an error, you're good to move on.\n",
    "- ❌ If the code cell throws an error, go back and fix incorrect parts."
   ]
  },
  {
   "cell_type": "code",
   "execution_count": 11,
   "metadata": {
    "nbgrader": {
     "grade": true,
     "grade_id": "part-04",
     "locked": true,
     "points": "3",
     "solution": false
    }
   },
   "outputs": [],
   "source": [
    "# Code Generated by LambdaGrader\n",
    "try:\n",
    "    _did_pass = True\n",
    "    _message = ''\n",
    "    # DO NOT CHANGE THE CODE IN THIS CELL\n",
    "    _test_case = \"part-04\"\n",
    "    _points = 3\n",
    "\n",
    "    tc.assertEqual(total_num_trips, np.sum(df_v_backup['_'.join(['nUmbEr', 'oF', 'TrIpS']).upper()]))\n",
    "except BaseException as ex:\n",
    "    _did_pass = False\n",
    "    _message = ''.join(traceback.TracebackException.from_exception(ex).format())\n",
    "finally:\n",
    "    _record_test_case(_test_case, _did_pass, _points, _message)"
   ]
  },
  {
   "cell_type": "markdown",
   "metadata": {},
   "source": [
    "---\n",
    "\n",
    "### 🎯 Part 5: Average number of trips (monthly)\n",
    "\n",
    "#### 👇 Tasks\n",
    "\n",
    "- ✔️ Calculate the average number of trips (monthly) made by all registered vehicles in `df_v`.\n",
    "- ✔️ Store the result to a new variable named `avg_num_trips`.\n",
    "- ✔️ `avg_num_trips` should be a `float` type (e.g., `float`, `np.float64`).\n",
    "\n",
    "#### 🚀 Hints\n",
    "\n",
    "- Find the mean of all values in the `NUMBER_OF_TRIPS` column."
   ]
  },
  {
   "cell_type": "code",
   "execution_count": 12,
   "metadata": {},
   "outputs": [
    {
     "name": "stdout",
     "output_type": "stream",
     "text": [
      "On average, a vehicle made 238.8 trips each month.\n"
     ]
    }
   ],
   "source": [
    "### BEGIN SOLUTION\n",
    "avg_num_trips = df_v['NUMBER_OF_TRIPS'].mean()\n",
    "### END SOLUTION\n",
    "\n",
    "print(f'On average, a vehicle made {round(avg_num_trips, 1)} trips each month.')"
   ]
  },
  {
   "cell_type": "markdown",
   "metadata": {},
   "source": [
    "#### 🧭 Check Your Work\n",
    "\n",
    "- Once you're done, run the code cell below to test correctness.\n",
    "- ✔️ If the code cell runs without an error, you're good to move on.\n",
    "- ❌ If the code cell throws an error, go back and fix incorrect parts."
   ]
  },
  {
   "cell_type": "code",
   "execution_count": 13,
   "metadata": {
    "nbgrader": {
     "grade": true,
     "grade_id": "part-05",
     "locked": true,
     "points": "3",
     "solution": false
    }
   },
   "outputs": [],
   "source": [
    "# Code Generated by LambdaGrader\n",
    "try:\n",
    "    _did_pass = True\n",
    "    _message = ''\n",
    "    # DO NOT CHANGE THE CODE IN THIS CELL\n",
    "    _test_case = \"part-05\"\n",
    "    _points = 3\n",
    "\n",
    "    tc.assertAlmostEqual(avg_num_trips, np.mean(df_v_backup['_'.join(['nUmbEr', 'oF', 'TrIpS']).upper()]))\n",
    "except BaseException as ex:\n",
    "    _did_pass = False\n",
    "    _message = ''.join(traceback.TracebackException.from_exception(ex).format())\n",
    "finally:\n",
    "    _record_test_case(_test_case, _did_pass, _points, _message)"
   ]
  },
  {
   "cell_type": "markdown",
   "metadata": {},
   "source": [
    "---\n",
    "\n",
    "### 🎯 Part 6: Filter Lincoln vehicles\n",
    "\n",
    "#### 👇 Tasks\n",
    "\n",
    "- ✔️ Using `df_v`, filter rows where the vehicle's `MAKE` is `\"Lincoln\"`.\n",
    "    - Store the result to a new variable named `df_lincoln`.\n",
    "- ✔️ `df_v` should remain unaltered after your code."
   ]
  },
  {
   "cell_type": "code",
   "execution_count": 14,
   "metadata": {},
   "outputs": [
    {
     "data": {
      "text/html": [
       "<div>\n",
       "<style scoped>\n",
       "    .dataframe tbody tr th:only-of-type {\n",
       "        vertical-align: middle;\n",
       "    }\n",
       "\n",
       "    .dataframe tbody tr th {\n",
       "        vertical-align: top;\n",
       "    }\n",
       "\n",
       "    .dataframe thead th {\n",
       "        text-align: right;\n",
       "    }\n",
       "</style>\n",
       "<table border=\"1\" class=\"dataframe\">\n",
       "  <thead>\n",
       "    <tr style=\"text-align: right;\">\n",
       "      <th></th>\n",
       "      <th>REPORTED_YEAR</th>\n",
       "      <th>REPORTED_MONTH</th>\n",
       "      <th>STATE</th>\n",
       "      <th>MAKE</th>\n",
       "      <th>MODEL</th>\n",
       "      <th>COLOR</th>\n",
       "      <th>MODEL_YEAR</th>\n",
       "      <th>NUMBER_OF_TRIPS</th>\n",
       "      <th>MULTIPLE_TNPS</th>\n",
       "    </tr>\n",
       "  </thead>\n",
       "  <tbody>\n",
       "    <tr>\n",
       "      <th>107</th>\n",
       "      <td>2015</td>\n",
       "      <td>3</td>\n",
       "      <td>IL</td>\n",
       "      <td>Lincoln</td>\n",
       "      <td>Mkz</td>\n",
       "      <td>Black</td>\n",
       "      <td>2007</td>\n",
       "      <td>115</td>\n",
       "      <td>False</td>\n",
       "    </tr>\n",
       "    <tr>\n",
       "      <th>468</th>\n",
       "      <td>2015</td>\n",
       "      <td>3</td>\n",
       "      <td>IL</td>\n",
       "      <td>Lincoln</td>\n",
       "      <td>Mks</td>\n",
       "      <td>Black</td>\n",
       "      <td>2009</td>\n",
       "      <td>160</td>\n",
       "      <td>False</td>\n",
       "    </tr>\n",
       "    <tr>\n",
       "      <th>731</th>\n",
       "      <td>2015</td>\n",
       "      <td>3</td>\n",
       "      <td>IL</td>\n",
       "      <td>Lincoln</td>\n",
       "      <td>Mks</td>\n",
       "      <td>Black</td>\n",
       "      <td>2009</td>\n",
       "      <td>152</td>\n",
       "      <td>False</td>\n",
       "    </tr>\n",
       "    <tr>\n",
       "      <th>768</th>\n",
       "      <td>2015</td>\n",
       "      <td>3</td>\n",
       "      <td>IL</td>\n",
       "      <td>Lincoln</td>\n",
       "      <td>Town Car</td>\n",
       "      <td>Black</td>\n",
       "      <td>2007</td>\n",
       "      <td>145</td>\n",
       "      <td>False</td>\n",
       "    </tr>\n",
       "    <tr>\n",
       "      <th>781</th>\n",
       "      <td>2015</td>\n",
       "      <td>3</td>\n",
       "      <td>IL</td>\n",
       "      <td>Lincoln</td>\n",
       "      <td>Mks</td>\n",
       "      <td>Black</td>\n",
       "      <td>2010</td>\n",
       "      <td>215</td>\n",
       "      <td>False</td>\n",
       "    </tr>\n",
       "  </tbody>\n",
       "</table>\n",
       "</div>"
      ],
      "text/plain": [
       "     REPORTED_YEAR  REPORTED_MONTH STATE     MAKE     MODEL  COLOR  \\\n",
       "107           2015               3    IL  Lincoln       Mkz  Black   \n",
       "468           2015               3    IL  Lincoln       Mks  Black   \n",
       "731           2015               3    IL  Lincoln       Mks  Black   \n",
       "768           2015               3    IL  Lincoln  Town Car  Black   \n",
       "781           2015               3    IL  Lincoln       Mks  Black   \n",
       "\n",
       "     MODEL_YEAR  NUMBER_OF_TRIPS  MULTIPLE_TNPS  \n",
       "107        2007              115          False  \n",
       "468        2009              160          False  \n",
       "731        2009              152          False  \n",
       "768        2007              145          False  \n",
       "781        2010              215          False  "
      ]
     },
     "metadata": {},
     "output_type": "display_data"
    },
    {
     "name": "stdout",
     "output_type": "stream",
     "text": [
      "There are 24093 monthly Lincoln vehicle registrations.\n"
     ]
    }
   ],
   "source": [
    "### BEGIN SOLUTION\n",
    "df_lincoln = df_v[df_v['MAKE'] == 'Lincoln']\n",
    "### END SOLUTION\n",
    "\n",
    "display(df_lincoln.head(5))\n",
    "print(f'There are {df_lincoln.shape[0]} monthly Lincoln vehicle registrations.')"
   ]
  },
  {
   "cell_type": "markdown",
   "metadata": {},
   "source": [
    "#### 🧭 Check Your Work\n",
    "\n",
    "- Once you're done, run the code cell below to test correctness.\n",
    "- ✔️ If the code cell runs without an error, you're good to move on.\n",
    "- ❌ If the code cell throws an error, go back and fix incorrect parts."
   ]
  },
  {
   "cell_type": "code",
   "execution_count": 15,
   "metadata": {
    "nbgrader": {
     "grade": true,
     "grade_id": "part-06",
     "locked": true,
     "points": "2",
     "solution": false
    }
   },
   "outputs": [],
   "source": [
    "# Code Generated by LambdaGrader\n",
    "try:\n",
    "    _did_pass = True\n",
    "    _message = ''\n",
    "    # DO NOT CHANGE THE CODE IN THIS CELL\n",
    "    _test_case = \"part-06\"\n",
    "    _points = 2\n",
    "\n",
    "    tc.assertEqual(df_v.shape, df_v_backup.shape, 'df_v should remain unaltered.')\n",
    "\n",
    "    pd.testing.assert_frame_equal(df_lincoln\n",
    "                                      .sort_values(df_v_backup.columns.tolist())\n",
    "                                      .reset_index(drop=True),\n",
    "                                  df_v_backup.query(f'{\"\".join([\"ma\", \"ke\"]).upper()} == \"{\"lIncOlN\".capitalize()}\"')\n",
    "                                      .sort_values(df_v_backup.columns.tolist())\n",
    "                                      .reset_index(drop=True),\n",
    "                                  check_like=True)\n",
    "except BaseException as ex:\n",
    "    _did_pass = False\n",
    "    _message = ''.join(traceback.TracebackException.from_exception(ex).format())\n",
    "finally:\n",
    "    _record_test_case(_test_case, _did_pass, _points, _message)"
   ]
  },
  {
   "cell_type": "markdown",
   "metadata": {},
   "source": [
    "---\n",
    "\n",
    "### 🎯 Part 7: Average number of trips (monthly) of Lincoln vehicles\n",
    "\n",
    "#### 👇 Tasks\n",
    "\n",
    "- ✔️ Using `df_lincoln`, calculate the average number of trips (monthly) of all Lincoln vehicles.\n",
    "- ✔️ Store the result to a new variable named `avg_num_trips_lincoln`.\n",
    "- ✔️ `avg_num_trips_lincoln` should be a `float` type (e.g., `float`, `np.float64`).\n",
    "\n",
    "#### 🚀 Hints\n",
    "\n",
    "- Find the mean of all\n",
    "values in `df_lincoln`'s `NUMBER_OF_TRIPS` column."
   ]
  },
  {
   "cell_type": "code",
   "execution_count": 16,
   "metadata": {},
   "outputs": [
    {
     "name": "stdout",
     "output_type": "stream",
     "text": [
      "Lincoln drivers made 271.3 trips (monthly) on average.\n",
      "This is higher than the overall average of 238.8 trips (monthly).\n"
     ]
    }
   ],
   "source": [
    "### BEGIN SOLUTION\n",
    "avg_num_trips_lincoln = df_lincoln['NUMBER_OF_TRIPS'].mean()\n",
    "### END SOLUTION\n",
    "\n",
    "print(f'Lincoln drivers made {round(avg_num_trips_lincoln, 1)} trips (monthly) on average.')\n",
    "print(f'This is higher than the overall average of {round(avg_num_trips, 1)} trips (monthly).')"
   ]
  },
  {
   "cell_type": "markdown",
   "metadata": {},
   "source": [
    "#### 🧭 Check Your Work\n",
    "\n",
    "- Once you're done, run the code cell below to test correctness.\n",
    "- ✔️ If the code cell runs without an error, you're good to move on.\n",
    "- ❌ If the code cell throws an error, go back and fix incorrect parts."
   ]
  },
  {
   "cell_type": "code",
   "execution_count": 17,
   "metadata": {
    "nbgrader": {
     "grade": true,
     "grade_id": "part-07",
     "locked": true,
     "points": "3",
     "solution": false
    }
   },
   "outputs": [],
   "source": [
    "# Code Generated by LambdaGrader\n",
    "try:\n",
    "    _did_pass = True\n",
    "    _message = ''\n",
    "    # DO NOT CHANGE THE CODE IN THIS CELL\n",
    "    _test_case = \"part-07\"\n",
    "    _points = 3\n",
    "\n",
    "    tc.assertAlmostEqual(avg_num_trips_lincoln, df_v_backup.query(f'{\"\".join([\"mA\", \"Ke\"]).upper()} == \"{\"LiNCoLN\".capitalize()}\"') \\\n",
    "        [\"_\".join(['NuMBeR', 'oF', 'tRiPs']).upper()].mean())\n",
    "except BaseException as ex:\n",
    "    _did_pass = False\n",
    "    _message = ''.join(traceback.TracebackException.from_exception(ex).format())\n",
    "finally:\n",
    "    _record_test_case(_test_case, _did_pass, _points, _message)"
   ]
  },
  {
   "cell_type": "markdown",
   "metadata": {},
   "source": [
    "---\n",
    "\n",
    "### 🎯 Part 8: Red Tesla Vehicles\n",
    "\n",
    "#### 👇 Tasks\n",
    "\n",
    "- ✔️ Using `df_v`, filter rows where:\n",
    "    - `MAKE` is `Tesla`, **AND**\n",
    "    - `COLOR` is `Red`.\n",
    "- ✔️ Store the result to a new variable named `df_red_tesla`.\n",
    "- ✔️ `df_v` should remain unaltered after your code.\n",
    "\n",
    "#### 🚀 Hints\n",
    "\n",
    "- Use the logical AND operator (`&`) to check whether two conditions are both satisfied."
   ]
  },
  {
   "cell_type": "code",
   "execution_count": 18,
   "metadata": {},
   "outputs": [
    {
     "data": {
      "text/html": [
       "<div>\n",
       "<style scoped>\n",
       "    .dataframe tbody tr th:only-of-type {\n",
       "        vertical-align: middle;\n",
       "    }\n",
       "\n",
       "    .dataframe tbody tr th {\n",
       "        vertical-align: top;\n",
       "    }\n",
       "\n",
       "    .dataframe thead th {\n",
       "        text-align: right;\n",
       "    }\n",
       "</style>\n",
       "<table border=\"1\" class=\"dataframe\">\n",
       "  <thead>\n",
       "    <tr style=\"text-align: right;\">\n",
       "      <th></th>\n",
       "      <th>REPORTED_YEAR</th>\n",
       "      <th>REPORTED_MONTH</th>\n",
       "      <th>STATE</th>\n",
       "      <th>MAKE</th>\n",
       "      <th>MODEL</th>\n",
       "      <th>COLOR</th>\n",
       "      <th>MODEL_YEAR</th>\n",
       "      <th>NUMBER_OF_TRIPS</th>\n",
       "      <th>MULTIPLE_TNPS</th>\n",
       "    </tr>\n",
       "  </thead>\n",
       "  <tbody>\n",
       "    <tr>\n",
       "      <th>660034</th>\n",
       "      <td>2018</td>\n",
       "      <td>6</td>\n",
       "      <td>IL</td>\n",
       "      <td>Tesla</td>\n",
       "      <td>Model S</td>\n",
       "      <td>Red</td>\n",
       "      <td>2013</td>\n",
       "      <td>143</td>\n",
       "      <td>True</td>\n",
       "    </tr>\n",
       "    <tr>\n",
       "      <th>798621</th>\n",
       "      <td>2018</td>\n",
       "      <td>10</td>\n",
       "      <td>IL</td>\n",
       "      <td>Tesla</td>\n",
       "      <td>Model 3</td>\n",
       "      <td>Red</td>\n",
       "      <td>2018</td>\n",
       "      <td>184</td>\n",
       "      <td>False</td>\n",
       "    </tr>\n",
       "    <tr>\n",
       "      <th>808521</th>\n",
       "      <td>2018</td>\n",
       "      <td>11</td>\n",
       "      <td>IL</td>\n",
       "      <td>Tesla</td>\n",
       "      <td>Model S</td>\n",
       "      <td>Red</td>\n",
       "      <td>2013</td>\n",
       "      <td>305</td>\n",
       "      <td>True</td>\n",
       "    </tr>\n",
       "    <tr>\n",
       "      <th>816799</th>\n",
       "      <td>2018</td>\n",
       "      <td>11</td>\n",
       "      <td>IL</td>\n",
       "      <td>Tesla</td>\n",
       "      <td>Model 3</td>\n",
       "      <td>Red</td>\n",
       "      <td>2018</td>\n",
       "      <td>142</td>\n",
       "      <td>False</td>\n",
       "    </tr>\n",
       "    <tr>\n",
       "      <th>938426</th>\n",
       "      <td>2019</td>\n",
       "      <td>3</td>\n",
       "      <td>IL</td>\n",
       "      <td>Tesla</td>\n",
       "      <td>Model 3</td>\n",
       "      <td>Red</td>\n",
       "      <td>2018</td>\n",
       "      <td>220</td>\n",
       "      <td>True</td>\n",
       "    </tr>\n",
       "  </tbody>\n",
       "</table>\n",
       "</div>"
      ],
      "text/plain": [
       "        REPORTED_YEAR  REPORTED_MONTH STATE   MAKE    MODEL COLOR  MODEL_YEAR  \\\n",
       "660034           2018               6    IL  Tesla  Model S   Red        2013   \n",
       "798621           2018              10    IL  Tesla  Model 3   Red        2018   \n",
       "808521           2018              11    IL  Tesla  Model S   Red        2013   \n",
       "816799           2018              11    IL  Tesla  Model 3   Red        2018   \n",
       "938426           2019               3    IL  Tesla  Model 3   Red        2018   \n",
       "\n",
       "        NUMBER_OF_TRIPS  MULTIPLE_TNPS  \n",
       "660034              143           True  \n",
       "798621              184          False  \n",
       "808521              305           True  \n",
       "816799              142          False  \n",
       "938426              220           True  "
      ]
     },
     "execution_count": 18,
     "metadata": {},
     "output_type": "execute_result"
    }
   ],
   "source": [
    "### BEGIN SOLUTION\n",
    "df_red_tesla = df_v[(df_v['MAKE'] == 'Tesla') & (df_v['COLOR'] == 'Red')]\n",
    "### END SOLUTION\n",
    "\n",
    "df_red_tesla.head(5)"
   ]
  },
  {
   "cell_type": "markdown",
   "metadata": {},
   "source": [
    "#### 🧭 Check Your Work\n",
    "\n",
    "- Once you're done, run the code cell below to test correctness.\n",
    "- ✔️ If the code cell runs without an error, you're good to move on.\n",
    "- ❌ If the code cell throws an error, go back and fix incorrect parts."
   ]
  },
  {
   "cell_type": "code",
   "execution_count": 19,
   "metadata": {
    "nbgrader": {
     "grade": true,
     "grade_id": "part-08",
     "locked": true,
     "points": "4",
     "solution": false
    }
   },
   "outputs": [],
   "source": [
    "# Code Generated by LambdaGrader\n",
    "try:\n",
    "    _did_pass = True\n",
    "    _message = ''\n",
    "    # DO NOT CHANGE THE CODE IN THIS CELL\n",
    "    _test_case = \"part-08\"\n",
    "    _points = 4\n",
    "\n",
    "    tc.assertEqual(df_v.shape, df_v_backup.shape, 'df_v should remain unaltered.')\n",
    "\n",
    "    pd.testing.assert_frame_equal(df_v_backup\n",
    "                                      .query(f'{\"\".join([\"mA\", \"kE\"]).upper()} == \"{\"\".join([\"T\", \"e\", \"s\", \"l\", \"a\"])}\" \\\n",
    "                                              & {\"\".join([\"c\", \"OLO\", \"r\"]).upper()} == \"{(\"r\" + \"E\" + \"D\").capitalize()}\"')\n",
    "                                      .sort_values(df_v_backup.columns.tolist())\n",
    "                                      .reset_index(drop=True),\n",
    "                                  df_red_tesla\n",
    "                                      .sort_values(df_red_tesla.columns.tolist())\n",
    "                                      .reset_index(drop=True))\n",
    "except BaseException as ex:\n",
    "    _did_pass = False\n",
    "    _message = ''.join(traceback.TracebackException.from_exception(ex).format())\n",
    "finally:\n",
    "    _record_test_case(_test_case, _did_pass, _points, _message)"
   ]
  },
  {
   "cell_type": "markdown",
   "metadata": {},
   "source": [
    "---\n",
    "\n",
    "### 🎯 Part 9: Porsche + Hummer\n",
    "\n",
    "#### 👇 Tasks\n",
    "\n",
    "- ✔️ Using `df_v`, filter rows where:\n",
    "    - `MAKE` is `Porsche`, **OR**\n",
    "    - `MAKE` is `Hummer`.\n",
    "- ✔️ Store the result to a new variable named `df_porsche_hummer`.\n",
    "- ✔️ `df_v` should remain unaltered after your code.\n",
    "\n",
    "#### 🚀 Hints\n",
    "\n",
    "- Use the logical OR operator (`|`) to check whether at least one of the two conditions."
   ]
  },
  {
   "cell_type": "code",
   "execution_count": 20,
   "metadata": {},
   "outputs": [
    {
     "data": {
      "text/html": [
       "<div>\n",
       "<style scoped>\n",
       "    .dataframe tbody tr th:only-of-type {\n",
       "        vertical-align: middle;\n",
       "    }\n",
       "\n",
       "    .dataframe tbody tr th {\n",
       "        vertical-align: top;\n",
       "    }\n",
       "\n",
       "    .dataframe thead th {\n",
       "        text-align: right;\n",
       "    }\n",
       "</style>\n",
       "<table border=\"1\" class=\"dataframe\">\n",
       "  <thead>\n",
       "    <tr style=\"text-align: right;\">\n",
       "      <th></th>\n",
       "      <th>REPORTED_YEAR</th>\n",
       "      <th>REPORTED_MONTH</th>\n",
       "      <th>STATE</th>\n",
       "      <th>MAKE</th>\n",
       "      <th>MODEL</th>\n",
       "      <th>COLOR</th>\n",
       "      <th>MODEL_YEAR</th>\n",
       "      <th>NUMBER_OF_TRIPS</th>\n",
       "      <th>MULTIPLE_TNPS</th>\n",
       "    </tr>\n",
       "  </thead>\n",
       "  <tbody>\n",
       "    <tr>\n",
       "      <th>1882</th>\n",
       "      <td>2015</td>\n",
       "      <td>3</td>\n",
       "      <td>IL</td>\n",
       "      <td>Hummer</td>\n",
       "      <td>H3</td>\n",
       "      <td>Black</td>\n",
       "      <td>2008</td>\n",
       "      <td>111</td>\n",
       "      <td>False</td>\n",
       "    </tr>\n",
       "    <tr>\n",
       "      <th>13550</th>\n",
       "      <td>2015</td>\n",
       "      <td>5</td>\n",
       "      <td>IL</td>\n",
       "      <td>Hummer</td>\n",
       "      <td>H3</td>\n",
       "      <td>\"Silver\"</td>\n",
       "      <td>2006</td>\n",
       "      <td>140</td>\n",
       "      <td>False</td>\n",
       "    </tr>\n",
       "    <tr>\n",
       "      <th>22851</th>\n",
       "      <td>2015</td>\n",
       "      <td>6</td>\n",
       "      <td>IL</td>\n",
       "      <td>Porsche</td>\n",
       "      <td>Cayenne</td>\n",
       "      <td>Black</td>\n",
       "      <td>2005</td>\n",
       "      <td>113</td>\n",
       "      <td>False</td>\n",
       "    </tr>\n",
       "    <tr>\n",
       "      <th>27740</th>\n",
       "      <td>2015</td>\n",
       "      <td>7</td>\n",
       "      <td>IL</td>\n",
       "      <td>Hummer</td>\n",
       "      <td>H3</td>\n",
       "      <td>Black</td>\n",
       "      <td>2007</td>\n",
       "      <td>139</td>\n",
       "      <td>False</td>\n",
       "    </tr>\n",
       "    <tr>\n",
       "      <th>30697</th>\n",
       "      <td>2015</td>\n",
       "      <td>8</td>\n",
       "      <td>IL</td>\n",
       "      <td>Hummer</td>\n",
       "      <td>H3</td>\n",
       "      <td>Black</td>\n",
       "      <td>2006</td>\n",
       "      <td>119</td>\n",
       "      <td>False</td>\n",
       "    </tr>\n",
       "  </tbody>\n",
       "</table>\n",
       "</div>"
      ],
      "text/plain": [
       "       REPORTED_YEAR  REPORTED_MONTH STATE     MAKE    MODEL     COLOR  \\\n",
       "1882            2015               3    IL   Hummer       H3     Black   \n",
       "13550           2015               5    IL   Hummer       H3  \"Silver\"   \n",
       "22851           2015               6    IL  Porsche  Cayenne     Black   \n",
       "27740           2015               7    IL   Hummer       H3     Black   \n",
       "30697           2015               8    IL   Hummer       H3     Black   \n",
       "\n",
       "       MODEL_YEAR  NUMBER_OF_TRIPS  MULTIPLE_TNPS  \n",
       "1882         2008              111          False  \n",
       "13550        2006              140          False  \n",
       "22851        2005              113          False  \n",
       "27740        2007              139          False  \n",
       "30697        2006              119          False  "
      ]
     },
     "metadata": {},
     "output_type": "display_data"
    },
    {
     "name": "stdout",
     "output_type": "stream",
     "text": [
      "There are 411 Porsche and Hummer vehicles.\n"
     ]
    }
   ],
   "source": [
    "### BEGIN SOLUTION\n",
    "df_porsche_hummer = df_v[(df_v['MAKE'] == 'Porsche') | (df_v['MAKE'] == 'Hummer')]\n",
    "### END SOLUTION\n",
    "\n",
    "display(df_porsche_hummer.head(5))\n",
    "print(f'There are {df_porsche_hummer.shape[0]} Porsche and Hummer vehicles.')"
   ]
  },
  {
   "cell_type": "markdown",
   "metadata": {},
   "source": [
    "#### 🧭 Check Your Work\n",
    "\n",
    "- Once you're done, run the code cell below to test correctness.\n",
    "- ✔️ If the code cell runs without an error, you're good to move on.\n",
    "- ❌ If the code cell throws an error, go back and fix incorrect parts."
   ]
  },
  {
   "cell_type": "code",
   "execution_count": 21,
   "metadata": {
    "nbgrader": {
     "grade": true,
     "grade_id": "part-09",
     "locked": true,
     "points": "4",
     "solution": false
    }
   },
   "outputs": [],
   "source": [
    "# Code Generated by LambdaGrader\n",
    "try:\n",
    "    _did_pass = True\n",
    "    _message = ''\n",
    "    # DO NOT CHANGE THE CODE IN THIS CELL\n",
    "    _test_case = \"part-09\"\n",
    "    _points = 4\n",
    "\n",
    "    tc.assertEqual(df_v.shape, df_v_backup.shape, 'df_v should remain unaltered.')\n",
    "\n",
    "    pd.testing.assert_frame_equal(df_v_backup\n",
    "                                      .query(f'{\"mAKe\".upper()} == \"{\"PORsCHE\".capitalize()}\" \\\n",
    "                                          | {\"mAke\".upper()} == \"{\"HuMMeR\".capitalize()}\"')\n",
    "                                      .sort_values(df_v_backup.columns.tolist())\n",
    "                                      .reset_index(drop=True),\n",
    "                                  df_porsche_hummer\n",
    "                                      .sort_values(df_v_backup.columns.tolist())\n",
    "                                      .reset_index(drop=True))\n",
    "except BaseException as ex:\n",
    "    _did_pass = False\n",
    "    _message = ''.join(traceback.TracebackException.from_exception(ex).format())\n",
    "finally:\n",
    "    _record_test_case(_test_case, _did_pass, _points, _message)"
   ]
  },
  {
   "cell_type": "markdown",
   "metadata": {},
   "source": [
    "---\n",
    "\n",
    "### 🎯 Part 10: Maximum number of trips\n",
    "\n",
    "#### 👇 Tasks\n",
    "\n",
    "- ✔️ Find the maximum number of monthly trips for a given vehicle in `df_v`.\n",
    "- ✔️ Store the value in a new variable named `max_num_trips`.\n",
    "\n",
    "#### 🚀 Hints\n",
    "\n",
    "- Find the maximum value in the `\"NUMBER_OF_TRIPS\"` column."
   ]
  },
  {
   "cell_type": "code",
   "execution_count": 22,
   "metadata": {},
   "outputs": [],
   "source": [
    "### BEGIN SOLUTION\n",
    "max_num_trips = df_v['NUMBER_OF_TRIPS'].max()\n",
    "### END SOLUTION"
   ]
  },
  {
   "cell_type": "markdown",
   "metadata": {},
   "source": [
    "#### 🧭 Check Your Work\n",
    "\n",
    "- Once you're done, run the code cell below to test correctness.\n",
    "- ✔️ If the code cell runs without an error, you're good to move on.\n",
    "- ❌ If the code cell throws an error, go back and fix incorrect parts."
   ]
  },
  {
   "cell_type": "code",
   "execution_count": 23,
   "metadata": {
    "nbgrader": {
     "grade": true,
     "grade_id": "part-10",
     "locked": true,
     "points": "3",
     "solution": false
    }
   },
   "outputs": [],
   "source": [
    "# Code Generated by LambdaGrader\n",
    "try:\n",
    "    _did_pass = True\n",
    "    _message = ''\n",
    "    # DO NOT CHANGE THE CODE IN THIS CELL\n",
    "    _test_case = \"part-10\"\n",
    "    _points = 3\n",
    "\n",
    "    tc.assertEqual(max_num_trips, 999)\n",
    "except BaseException as ex:\n",
    "    _did_pass = False\n",
    "    _message = ''.join(traceback.TracebackException.from_exception(ex).format())\n",
    "finally:\n",
    "    _record_test_case(_test_case, _did_pass, _points, _message)"
   ]
  },
  {
   "cell_type": "markdown",
   "metadata": {},
   "source": [
    "---\n",
    "\n",
    "### 🎯 Part 11: Black Lincoln Mkzs with 999+ trips\n",
    "\n",
    "#### 👇 Tasks\n",
    "\n",
    "- ✔️ Using `df_v`, filter rows where:\n",
    "    - `MODEL` is `Mkz`, **AND**\n",
    "    - `COLOR` is `Black`, **AND**\n",
    "    - `NUMBER_OF_TRIPS` is greater than or equal to `999`.\n",
    "- ✔️ Store the result to a new variable named `df_black_mkz`.\n",
    "- ✔️ `df_v` should remain unaltered after your code.\n",
    "\n",
    "#### 🚀 Hints\n",
    "\n",
    "- Use the logical AND operator (`&`) with parentheses to check whether two or more conditions are satisfied.\n",
    "- **Example**: `df_filtered = df[(condition1) & (condition2) & (condition3)]`\n",
    "\n",
    "#### 🔑 Expected Output\n",
    "\n",
    "Your index column may contain different values.\n",
    "\n",
    "|         |   REPORTED_YEAR |   REPORTED_MONTH | STATE   | MAKE    | MODEL   | COLOR   |   MODEL_YEAR |   NUMBER_OF_TRIPS | MULTIPLE_TNPS   |\n",
    "|--------:|----------------:|-----------------:|:--------|:--------|:--------|:--------|-------------:|------------------:|:----------------|\n",
    "|  782967 |            2018 |                1 | IL      | Lincoln | Mkz     | Black   |         2017 |               999 | True            |\n",
    "| 1064108 |            2019 |                3 | IL      | Lincoln | Mkz     | Black   |         2016 |               999 | True            |\n",
    "| 1228454 |            2019 |                8 | IL      | Lincoln | Mkz     | Black   |         2018 |               999 | True            |\n",
    "| 1337522 |            2020 |                2 | IL      | Lincoln | Mkz     | Black   |         2017 |               999 | True            |"
   ]
  },
  {
   "cell_type": "code",
   "execution_count": 24,
   "metadata": {},
   "outputs": [
    {
     "data": {
      "text/html": [
       "<div>\n",
       "<style scoped>\n",
       "    .dataframe tbody tr th:only-of-type {\n",
       "        vertical-align: middle;\n",
       "    }\n",
       "\n",
       "    .dataframe tbody tr th {\n",
       "        vertical-align: top;\n",
       "    }\n",
       "\n",
       "    .dataframe thead th {\n",
       "        text-align: right;\n",
       "    }\n",
       "</style>\n",
       "<table border=\"1\" class=\"dataframe\">\n",
       "  <thead>\n",
       "    <tr style=\"text-align: right;\">\n",
       "      <th></th>\n",
       "      <th>REPORTED_YEAR</th>\n",
       "      <th>REPORTED_MONTH</th>\n",
       "      <th>STATE</th>\n",
       "      <th>MAKE</th>\n",
       "      <th>MODEL</th>\n",
       "      <th>COLOR</th>\n",
       "      <th>MODEL_YEAR</th>\n",
       "      <th>NUMBER_OF_TRIPS</th>\n",
       "      <th>MULTIPLE_TNPS</th>\n",
       "    </tr>\n",
       "  </thead>\n",
       "  <tbody>\n",
       "    <tr>\n",
       "      <th>539360</th>\n",
       "      <td>2018</td>\n",
       "      <td>1</td>\n",
       "      <td>IL</td>\n",
       "      <td>Lincoln</td>\n",
       "      <td>Mkz</td>\n",
       "      <td>Black</td>\n",
       "      <td>2017</td>\n",
       "      <td>999</td>\n",
       "      <td>True</td>\n",
       "    </tr>\n",
       "    <tr>\n",
       "      <th>946218</th>\n",
       "      <td>2019</td>\n",
       "      <td>3</td>\n",
       "      <td>IL</td>\n",
       "      <td>Lincoln</td>\n",
       "      <td>Mkz</td>\n",
       "      <td>Black</td>\n",
       "      <td>2016</td>\n",
       "      <td>999</td>\n",
       "      <td>True</td>\n",
       "    </tr>\n",
       "    <tr>\n",
       "      <th>1105919</th>\n",
       "      <td>2019</td>\n",
       "      <td>8</td>\n",
       "      <td>IL</td>\n",
       "      <td>Lincoln</td>\n",
       "      <td>Mkz</td>\n",
       "      <td>Black</td>\n",
       "      <td>2018</td>\n",
       "      <td>999</td>\n",
       "      <td>True</td>\n",
       "    </tr>\n",
       "    <tr>\n",
       "      <th>1287915</th>\n",
       "      <td>2020</td>\n",
       "      <td>2</td>\n",
       "      <td>IL</td>\n",
       "      <td>Lincoln</td>\n",
       "      <td>Mkz</td>\n",
       "      <td>Black</td>\n",
       "      <td>2017</td>\n",
       "      <td>999</td>\n",
       "      <td>True</td>\n",
       "    </tr>\n",
       "  </tbody>\n",
       "</table>\n",
       "</div>"
      ],
      "text/plain": [
       "         REPORTED_YEAR  REPORTED_MONTH STATE     MAKE MODEL  COLOR  \\\n",
       "539360            2018               1    IL  Lincoln   Mkz  Black   \n",
       "946218            2019               3    IL  Lincoln   Mkz  Black   \n",
       "1105919           2019               8    IL  Lincoln   Mkz  Black   \n",
       "1287915           2020               2    IL  Lincoln   Mkz  Black   \n",
       "\n",
       "         MODEL_YEAR  NUMBER_OF_TRIPS  MULTIPLE_TNPS  \n",
       "539360         2017              999           True  \n",
       "946218         2016              999           True  \n",
       "1105919        2018              999           True  \n",
       "1287915        2017              999           True  "
      ]
     },
     "metadata": {},
     "output_type": "display_data"
    },
    {
     "name": "stdout",
     "output_type": "stream",
     "text": [
      "There are 4 black Mkzs that have made 999+ trips in a given month.\n"
     ]
    }
   ],
   "source": [
    "### BEGIN SOLUTION\n",
    "df_black_mkz = df_v[(df_v['MODEL'] == 'Mkz') & (df_v['COLOR'] == 'Black') & (df_v['NUMBER_OF_TRIPS'] >= 999)]\n",
    "### END SOLUTION\n",
    "\n",
    "display(df_black_mkz)\n",
    "print(f'There are {df_black_mkz.shape[0]} black Mkzs that have made 999+ trips in a given month.')"
   ]
  },
  {
   "cell_type": "markdown",
   "metadata": {},
   "source": [
    "#### 🧭 Check Your Work\n",
    "\n",
    "- Once you're done, run the code cell below to test correctness.\n",
    "- ✔️ If the code cell runs without an error, you're good to move on.\n",
    "- ❌ If the code cell throws an error, go back and fix incorrect parts."
   ]
  },
  {
   "cell_type": "code",
   "execution_count": 25,
   "metadata": {
    "nbgrader": {
     "grade": true,
     "grade_id": "part-11",
     "locked": true,
     "points": "4",
     "solution": false
    }
   },
   "outputs": [],
   "source": [
    "# Code Generated by LambdaGrader\n",
    "try:\n",
    "    _did_pass = True\n",
    "    _message = ''\n",
    "    # DO NOT CHANGE THE CODE IN THIS CELL\n",
    "    _test_case = \"part-11\"\n",
    "    _points = 4\n",
    "\n",
    "    tc.assertEqual(df_v.shape, df_v_backup.shape, 'df_v should remain unaltered.')\n",
    "\n",
    "    pd.testing.assert_frame_equal(df_v_backup\n",
    "                                      .query(f'{\"mOdEL\".upper()} == \"{\"mKz\".capitalize()}\" \\\n",
    "                                          & {\"cOlOr\".upper()} == \"{\"bLaCK\".capitalize()}\" \\\n",
    "                                          & {\"_\".join([\"nUMBEr\", \"OF\", \"TripS\"]).upper()} > (100 * 10 - 2)')\n",
    "                                      .sort_values(df_v_backup.columns.tolist())\n",
    "                                      .reset_index(drop=True),\n",
    "                                  df_black_mkz\n",
    "                                      .sort_values(df_v_backup.columns.tolist())\n",
    "                                      .reset_index(drop=True))\n",
    "except BaseException as ex:\n",
    "    _did_pass = False\n",
    "    _message = ''.join(traceback.TracebackException.from_exception(ex).format())\n",
    "finally:\n",
    "    _record_test_case(_test_case, _did_pass, _points, _message)"
   ]
  },
  {
   "cell_type": "markdown",
   "metadata": {},
   "source": [
    "---\n",
    "\n",
    "### 🎯 Part 12: Latest model year vehicles\n",
    "\n",
    "#### 👇 Tasks\n",
    "\n",
    "- ✔️ Using `df_v`, filter rows where the vehicle's `MODEL_YEAR` (NOT `REPORTED_YEAR`) is 2022 or newer.\n",
    "- ✔️ Store the result to a new variable named `df_latest_models`.\n",
    "- ✔️ `df_v` should remain unaltered after your code.\n",
    "\n",
    "#### 🔑 Expected Output\n",
    "\n",
    "Your index column may contain different values.\n",
    "\n",
    "|         |   REPORTED_YEAR |   REPORTED_MONTH | STATE   | MAKE    | MODEL    | COLOR   |   MODEL_YEAR |   NUMBER_OF_TRIPS | MULTIPLE_TNPS   |\n",
    "|--------:|----------------:|-----------------:|:--------|:--------|:---------|:--------|-------------:|------------------:|:----------------|\n",
    "| 1599787 |            2021 |                3 | IL      | Acura   | Mdx      | Black   |         2022 |               122 | False           |\n",
    "| 1610215 |            2021 |                4 | IL      | Acura   | Mdx      | Black   |         2022 |               148 | True            |\n",
    "| 1623251 |            2021 |                5 | IL      | Kia     | Carnival | Black   |         2022 |               123 | False           |\n",
    "| 1631454 |            2021 |                6 | IL      | Hyundai | Tucson   | Blue    |         2022 |               121 | True            |\n",
    "| 1639844 |            2021 |                6 | IL      | Kia     | Carnival | Black   |         2022 |               449 | False           |"
   ]
  },
  {
   "cell_type": "code",
   "execution_count": 26,
   "metadata": {},
   "outputs": [
    {
     "data": {
      "text/html": [
       "<div>\n",
       "<style scoped>\n",
       "    .dataframe tbody tr th:only-of-type {\n",
       "        vertical-align: middle;\n",
       "    }\n",
       "\n",
       "    .dataframe tbody tr th {\n",
       "        vertical-align: top;\n",
       "    }\n",
       "\n",
       "    .dataframe thead th {\n",
       "        text-align: right;\n",
       "    }\n",
       "</style>\n",
       "<table border=\"1\" class=\"dataframe\">\n",
       "  <thead>\n",
       "    <tr style=\"text-align: right;\">\n",
       "      <th></th>\n",
       "      <th>REPORTED_YEAR</th>\n",
       "      <th>REPORTED_MONTH</th>\n",
       "      <th>STATE</th>\n",
       "      <th>MAKE</th>\n",
       "      <th>MODEL</th>\n",
       "      <th>COLOR</th>\n",
       "      <th>MODEL_YEAR</th>\n",
       "      <th>NUMBER_OF_TRIPS</th>\n",
       "      <th>MULTIPLE_TNPS</th>\n",
       "    </tr>\n",
       "  </thead>\n",
       "  <tbody>\n",
       "  </tbody>\n",
       "</table>\n",
       "</div>"
      ],
      "text/plain": [
       "Empty DataFrame\n",
       "Columns: [REPORTED_YEAR, REPORTED_MONTH, STATE, MAKE, MODEL, COLOR, MODEL_YEAR, NUMBER_OF_TRIPS, MULTIPLE_TNPS]\n",
       "Index: []"
      ]
     },
     "metadata": {},
     "output_type": "display_data"
    },
    {
     "name": "stdout",
     "output_type": "stream",
     "text": [
      "There are 0 latest model registrations.\n"
     ]
    }
   ],
   "source": [
    "### BEGIN SOLUTION\n",
    "df_latest_models = df_v[df_v['MODEL_YEAR'] >= 2022]\n",
    "### END SOLUTION\n",
    "\n",
    "display(df_latest_models.head(5))\n",
    "print(f'There are {df_latest_models.shape[0]} latest model registrations.')"
   ]
  },
  {
   "cell_type": "markdown",
   "metadata": {},
   "source": [
    "#### 🧭 Check Your Work\n",
    "\n",
    "- Once you're done, run the code cell below to test correctness.\n",
    "- ✔️ If the code cell runs without an error, you're good to move on.\n",
    "- ❌ If the code cell throws an error, go back and fix incorrect parts."
   ]
  },
  {
   "cell_type": "code",
   "execution_count": 27,
   "metadata": {
    "nbgrader": {
     "grade": true,
     "grade_id": "part-12",
     "locked": true,
     "points": "3",
     "solution": false
    }
   },
   "outputs": [],
   "source": [
    "# Code Generated by LambdaGrader\n",
    "try:\n",
    "    _did_pass = True\n",
    "    _message = ''\n",
    "    # DO NOT CHANGE THE CODE IN THIS CELL\n",
    "    _test_case = \"part-12\"\n",
    "    _points = 3\n",
    "\n",
    "    tc.assertEqual(df_v.shape, df_v_backup.shape, 'df_v should remain unaltered.')\n",
    "\n",
    "    pd.testing.assert_frame_equal(df_v_backup\n",
    "                                      .query(f'{\"_\".join([\"MoDeL\", \"YeaR\"]).upper()} > (1010 * 2 + 1)')\n",
    "                                      .sort_values(df_v_backup.columns.tolist())\n",
    "                                      .reset_index(drop=True),\n",
    "                                  df_latest_models\n",
    "                                      .sort_values(df_v_backup.columns.tolist())\n",
    "                                      .reset_index(drop=True))\n",
    "except BaseException as ex:\n",
    "    _did_pass = False\n",
    "    _message = ''.join(traceback.TracebackException.from_exception(ex).format())\n",
    "finally:\n",
    "    _record_test_case(_test_case, _did_pass, _points, _message)"
   ]
  },
  {
   "cell_type": "markdown",
   "metadata": {},
   "source": [
    "---\n",
    "\n",
    "### 🎯 Part 13: Compare average number of trips by `MULTIPLE_TNPS`\n",
    "\n",
    "A driver can choose to drive for only one ridesharing service (e.g., only for Uber) or choose to drive for two or more services (e.g., for both Uber **and** Lyft).\n",
    "\n",
    "`MULTIPLE_TNPS` column indicates whether a driver is registered for multiple rideshare services. The `MULTIPLE_TNPS` value of a registered vehicle will be:\n",
    "- `False` if the driver is only registered for one service (e.g., only for Uber)\n",
    "- `True` if the driver is registered for two or more services (e.g., Uber **and** Lyft)\n",
    "\n",
    "**Question**: Do drivers make more trips on average if they are registered in multiple rideshare services?\n",
    "\n",
    "Your goal is to answer that question using data. 📐\n",
    "\n",
    "#### 👇 Tasks\n",
    "\n",
    "- ✔️ Using `df_v`, calculate the following two metrics:\n",
    "    1. Average number of trips by vehicles where `MULTIPLE_TNPS` is `False`.\n",
    "        - ✏️ Store this to a new variable named `avg_num_trips_single_tnps`.\n",
    "        - `avg_num_trips_single_tnps` should be a `float`-typed variable.\n",
    "    2. Average number of trips by vehicles where `MULTIPLE_TNPS` is `True`.\n",
    "        - ✏️ Store this to a new variable named `avg_num_trips_multiple_tnps`.\n",
    "        - `avg_num_trips_multiple_tnps` should be a `float`-typed variable.\n",
    "- ✔️ `df_v` should remain unaltered after your code.\n",
    "\n",
    "#### 🚀 Hints\n",
    "\n",
    "- There are many ways to do this. The process described below is only one of them.\n",
    "- Create the following two `DataFrame`s using filter.\n",
    "    1. `df_single_tnps`: Only contains rows where `MULTIPLE_TNPS` is `False`.\n",
    "    2. `df_multiple_tnps`: Only contains rows where `MULTIPLE_TNPS` is `True`.\n",
    "- For each of the two `DataFrame`s you've created, calculate the average of `NUMBER_OF_TRIPS`.\n",
    "    - **Example**: `df_single_tnps['NUMBER_OF_TRIPS'].mean()`"
   ]
  },
  {
   "cell_type": "code",
   "execution_count": 28,
   "metadata": {},
   "outputs": [
    {
     "name": "stdout",
     "output_type": "stream",
     "text": [
      "Drivers driving for a single rideshare service made 223.0 trips (monthly) on average.\n",
      "Drivers driving for multiple rideshare services made 286.0 trips (monthly) on average.\n"
     ]
    }
   ],
   "source": [
    "### BEGIN SOLUTION\n",
    "df_single_tnps = df_v[~df_v['MULTIPLE_TNPS']]\n",
    "df_multiple_tnps = df_v[df_v['MULTIPLE_TNPS']]\n",
    "\n",
    "avg_num_trips_single_tnps = df_single_tnps['NUMBER_OF_TRIPS'].mean()\n",
    "avg_num_trips_multiple_tnps = df_multiple_tnps['NUMBER_OF_TRIPS'].mean()\n",
    "### END SOLUTION\n",
    "\n",
    "print(f'Drivers driving for a single rideshare service made {round(avg_num_trips_single_tnps, 1)} trips (monthly) on average.')\n",
    "print(f'Drivers driving for multiple rideshare services made {round(avg_num_trips_multiple_tnps, 1)} trips (monthly) on average.')"
   ]
  },
  {
   "cell_type": "markdown",
   "metadata": {},
   "source": [
    "#### 🧭 Check Your Work\n",
    "\n",
    "- Once you're done, run the code cell below to test correctness.\n",
    "- ✔️ If the code cell runs without an error, you're good to move on.\n",
    "- ❌ If the code cell throws an error, go back and fix incorrect parts."
   ]
  },
  {
   "cell_type": "code",
   "execution_count": 29,
   "metadata": {
    "nbgrader": {
     "grade": true,
     "grade_id": "part-13",
     "locked": true,
     "points": "6",
     "solution": false
    }
   },
   "outputs": [],
   "source": [
    "# Code Generated by LambdaGrader\n",
    "try:\n",
    "    _did_pass = True\n",
    "    _message = ''\n",
    "    # DO NOT CHANGE THE CODE IN THIS CELL\n",
    "    _test_case = \"part-13\"\n",
    "    _points = 6\n",
    "\n",
    "    tc.assertEqual(df_v.shape, df_v_backup.shape, 'df_v should remain unaltered.')\n",
    "\n",
    "    col_check = '_'.join(['MulTiPle', ''.join(['T', 'n', 'P', 's'])]).upper()\n",
    "    col_metric = '_'.join([''.join(['NuM', 'beR']), 'oF', ''.join(['T', 'r', 'I', 'P', 's'])]).upper()\n",
    "\n",
    "    tc.assertAlmostEqual(avg_num_trips_single_tnps, np.mean(df_v.query(f'~{col_check}')[col_metric]))\n",
    "    tc.assertAlmostEqual(avg_num_trips_multiple_tnps, np.mean(df_v.query(f'{col_check}')[col_metric]))\n",
    "except BaseException as ex:\n",
    "    _did_pass = False\n",
    "    _message = ''.join(traceback.TracebackException.from_exception(ex).format())\n",
    "finally:\n",
    "    _record_test_case(_test_case, _did_pass, _points, _message)"
   ]
  },
  {
   "cell_type": "markdown",
   "metadata": {},
   "source": [
    "---\n",
    "\n",
    "## 🔮 Make/Model/Color Analysis\n",
    "\n",
    "So far, we've looked at *individual* vehicle registrations. In this section, we will *aggregate* vehicles by one or more criteria."
   ]
  },
  {
   "cell_type": "markdown",
   "metadata": {},
   "source": [
    "---\n",
    "\n",
    "### 🎯 Part 14: Create a Summary of Metrics by Vehicle Manufacturer\n",
    "\n",
    "Our first *level of aggregation* is the vehicle manufacturer (`MAKE`). For each vehicle manufacturer, you'll be calculating the total number of registered vehicles (`NUM_REG`, total number of trips (`TOTAL_NUM_TRIPS`), and the average number of trips (`AVG_NUM_TRIPS`).\n",
    "\n",
    "#### 👇 Tasks\n",
    "\n",
    "- ✔️ Copy the code in the image above to the code cell below.\n",
    "    - 😺 *Try* to understand what the code does.\n",
    "- ✔️ `df_v` should remain unaltered after your code.\n",
    "- ✔️ **We will provide you the code for this deliverable.**\n",
    "\n",
    "![Groupby make](https://github.com/bdi475/images/blob/main/case-studies/rideshare-vehicles/carbon-groupby-make-01.png?raw=true)"
   ]
  },
  {
   "cell_type": "code",
   "execution_count": 30,
   "metadata": {},
   "outputs": [
    {
     "data": {
      "text/html": [
       "<div>\n",
       "<style scoped>\n",
       "    .dataframe tbody tr th:only-of-type {\n",
       "        vertical-align: middle;\n",
       "    }\n",
       "\n",
       "    .dataframe tbody tr th {\n",
       "        vertical-align: top;\n",
       "    }\n",
       "\n",
       "    .dataframe thead th {\n",
       "        text-align: right;\n",
       "    }\n",
       "</style>\n",
       "<table border=\"1\" class=\"dataframe\">\n",
       "  <thead>\n",
       "    <tr style=\"text-align: right;\">\n",
       "      <th></th>\n",
       "      <th>MAKE</th>\n",
       "      <th>NUM_REG</th>\n",
       "      <th>TOTAL_NUM_TRIPS</th>\n",
       "      <th>AVG_NUM_TRIPS</th>\n",
       "    </tr>\n",
       "  </thead>\n",
       "  <tbody>\n",
       "    <tr>\n",
       "      <th>0</th>\n",
       "      <td>Acura</td>\n",
       "      <td>19353</td>\n",
       "      <td>4326062</td>\n",
       "      <td>223.5</td>\n",
       "    </tr>\n",
       "    <tr>\n",
       "      <th>1</th>\n",
       "      <td>Alfa Romeo</td>\n",
       "      <td>30</td>\n",
       "      <td>7243</td>\n",
       "      <td>241.4</td>\n",
       "    </tr>\n",
       "    <tr>\n",
       "      <th>2</th>\n",
       "      <td>Am General</td>\n",
       "      <td>31</td>\n",
       "      <td>6889</td>\n",
       "      <td>222.2</td>\n",
       "    </tr>\n",
       "    <tr>\n",
       "      <th>3</th>\n",
       "      <td>Audi</td>\n",
       "      <td>4857</td>\n",
       "      <td>1026884</td>\n",
       "      <td>211.4</td>\n",
       "    </tr>\n",
       "    <tr>\n",
       "      <th>4</th>\n",
       "      <td>Bmw</td>\n",
       "      <td>8025</td>\n",
       "      <td>1619829</td>\n",
       "      <td>201.8</td>\n",
       "    </tr>\n",
       "    <tr>\n",
       "      <th>5</th>\n",
       "      <td>Buick</td>\n",
       "      <td>15234</td>\n",
       "      <td>3164821</td>\n",
       "      <td>207.7</td>\n",
       "    </tr>\n",
       "  </tbody>\n",
       "</table>\n",
       "</div>"
      ],
      "text/plain": [
       "         MAKE  NUM_REG  TOTAL_NUM_TRIPS  AVG_NUM_TRIPS\n",
       "0       Acura    19353          4326062          223.5\n",
       "1  Alfa Romeo       30             7243          241.4\n",
       "2  Am General       31             6889          222.2\n",
       "3        Audi     4857          1026884          211.4\n",
       "4         Bmw     8025          1619829          201.8\n",
       "5       Buick    15234          3164821          207.7"
      ]
     },
     "execution_count": 30,
     "metadata": {},
     "output_type": "execute_result"
    }
   ],
   "source": [
    "### BEGIN SOLUTION\n",
    "# Group by vehicle manufacturer\n",
    "df_by_make = df_v.groupby('MAKE', as_index=False).agg({\n",
    "    'NUMBER_OF_TRIPS': ['count', 'sum', 'mean']\n",
    "})\n",
    "\n",
    "# Reset columns\n",
    "df_by_make.columns = ['MAKE', 'NUM_REG', 'TOTAL_NUM_TRIPS', 'AVG_NUM_TRIPS']\n",
    "\n",
    "# Display first 6 rows\n",
    "df_by_make.head(6)\n",
    "### END SOLUTION"
   ]
  },
  {
   "cell_type": "markdown",
   "metadata": {},
   "source": [
    "#### 🧭 Check Your Work\n",
    "\n",
    "- Once you're done, run the code cell below to test correctness.\n",
    "- ✔️ If the code cell runs without an error, you're good to move on.\n",
    "- ❌ If the code cell throws an error, go back and fix incorrect parts."
   ]
  },
  {
   "cell_type": "code",
   "execution_count": 31,
   "metadata": {
    "nbgrader": {
     "grade": true,
     "grade_id": "part-14",
     "locked": true,
     "points": "3",
     "solution": false
    }
   },
   "outputs": [],
   "source": [
    "# Code Generated by LambdaGrader\n",
    "try:\n",
    "    _did_pass = True\n",
    "    _message = ''\n",
    "    # DO NOT CHANGE THE CODE IN THIS CELL\n",
    "    _test_case = \"part-14\"\n",
    "    _points = 3\n",
    "\n",
    "    df_check = df_v_backup.groupby(''.join(['m', 'ak', 'e']).upper()) \\\n",
    "        .agg({'number_of_trips'.upper(): [''.join(['c', 'ou', 'n', 't']), np.sum, np.mean]}) \\\n",
    "        .reset_index()\n",
    "    df_check.columns = ['AVG_NUM_TRIPS', 'TOTAL_NUM_TRIPS', 'NUM_REG', 'MAKE'][::-1]\n",
    "    df_check = df_check.sort_values(df_check.columns.tolist()).reset_index(drop=True)\n",
    "    df_by_make_backup = df_check.copy()\n",
    "\n",
    "    tc.assertEqual(df_v.shape, df_v_backup.shape, 'df_v should remain unaltered.')\n",
    "\n",
    "    pd.testing.assert_frame_equal(df_check,\n",
    "                                  df_by_make\n",
    "                                      .sort_values(df_by_make.columns.tolist())\n",
    "                                      .reset_index(drop=True))\n",
    "except BaseException as ex:\n",
    "    _did_pass = False\n",
    "    _message = ''.join(traceback.TracebackException.from_exception(ex).format())\n",
    "finally:\n",
    "    _record_test_case(_test_case, _did_pass, _points, _message)"
   ]
  },
  {
   "cell_type": "markdown",
   "metadata": {},
   "source": [
    "---\n",
    "\n",
    "### 🎯 Part 15: Sort by number of registered vehicles\n",
    "\n",
    "Can you sort `df_by_make` by popularity (i.e., number of registrations)?\n",
    "\n",
    "#### 👇 Tasks\n",
    "\n",
    "- ✔️ Sort `df_by_make` by `NUM_REG` in **descending** order.\n",
    "- ✔️ Store the sorted result to a new variable named `df_by_make_popularity`.\n",
    "- ✔️ `df_by_make` should remain unaltered after your code (out-of-place sort).\n",
    "    - In other words, your code should store the sorted result to `df_by_make_popularity` **without affecting `df_by_make`**.\n",
    "\n",
    "#### 🔑 Expected Output\n",
    "\n",
    "Your index column may contain different values.\n",
    "\n",
    "|    | MAKE      |   NUM_REG |   TOTAL_NUM_TRIPS | AVG_NUM_TRIPS |\n",
    "|---:|:----------|----------:|------------------:|--------------:|\n",
    "| 69 | Toyota    |    443236 |         117885589 |         266.0 |\n",
    "| 54 | Nissan    |    211955 |          50103680 |         236.4 |\n",
    "| 26 | Honda     |    148422 |          35092978 |         236.4 |\n",
    "| 13 | Chevrolet |    140633 |          30354594 |         215.8 |\n",
    "| 28 | Hyundai   |    130522 |          31992661 |         245.1 |"
   ]
  },
  {
   "cell_type": "code",
   "execution_count": 32,
   "metadata": {},
   "outputs": [
    {
     "data": {
      "text/html": [
       "<div>\n",
       "<style scoped>\n",
       "    .dataframe tbody tr th:only-of-type {\n",
       "        vertical-align: middle;\n",
       "    }\n",
       "\n",
       "    .dataframe tbody tr th {\n",
       "        vertical-align: top;\n",
       "    }\n",
       "\n",
       "    .dataframe thead th {\n",
       "        text-align: right;\n",
       "    }\n",
       "</style>\n",
       "<table border=\"1\" class=\"dataframe\">\n",
       "  <thead>\n",
       "    <tr style=\"text-align: right;\">\n",
       "      <th></th>\n",
       "      <th>MAKE</th>\n",
       "      <th>NUM_REG</th>\n",
       "      <th>TOTAL_NUM_TRIPS</th>\n",
       "      <th>AVG_NUM_TRIPS</th>\n",
       "    </tr>\n",
       "  </thead>\n",
       "  <tbody>\n",
       "    <tr>\n",
       "      <th>48</th>\n",
       "      <td>Toyota</td>\n",
       "      <td>351368</td>\n",
       "      <td>92779589</td>\n",
       "      <td>264.1</td>\n",
       "    </tr>\n",
       "    <tr>\n",
       "      <th>36</th>\n",
       "      <td>Nissan</td>\n",
       "      <td>178602</td>\n",
       "      <td>42355093</td>\n",
       "      <td>237.1</td>\n",
       "    </tr>\n",
       "    <tr>\n",
       "      <th>16</th>\n",
       "      <td>Honda</td>\n",
       "      <td>121011</td>\n",
       "      <td>28441079</td>\n",
       "      <td>235.0</td>\n",
       "    </tr>\n",
       "    <tr>\n",
       "      <th>8</th>\n",
       "      <td>Chevrolet</td>\n",
       "      <td>118649</td>\n",
       "      <td>25589661</td>\n",
       "      <td>215.7</td>\n",
       "    </tr>\n",
       "    <tr>\n",
       "      <th>18</th>\n",
       "      <td>Hyundai</td>\n",
       "      <td>109433</td>\n",
       "      <td>26840858</td>\n",
       "      <td>245.3</td>\n",
       "    </tr>\n",
       "  </tbody>\n",
       "</table>\n",
       "</div>"
      ],
      "text/plain": [
       "         MAKE  NUM_REG  TOTAL_NUM_TRIPS  AVG_NUM_TRIPS\n",
       "48     Toyota   351368         92779589          264.1\n",
       "36     Nissan   178602         42355093          237.1\n",
       "16      Honda   121011         28441079          235.0\n",
       "8   Chevrolet   118649         25589661          215.7\n",
       "18    Hyundai   109433         26840858          245.3"
      ]
     },
     "execution_count": 32,
     "metadata": {},
     "output_type": "execute_result"
    }
   ],
   "source": [
    "### BEGIN SOLUTION\n",
    "df_by_make_popularity = df_by_make.sort_values('NUM_REG', ascending=False)\n",
    "### END SOLUTION\n",
    "\n",
    "df_by_make_popularity.head(5)"
   ]
  },
  {
   "cell_type": "markdown",
   "metadata": {},
   "source": [
    "#### 🧭 Check Your Work\n",
    "\n",
    "- Once you're done, run the code cell below to test correctness.\n",
    "- ✔️ If the code cell runs without an error, you're good to move on.\n",
    "- ❌ If the code cell throws an error, go back and fix incorrect parts."
   ]
  },
  {
   "cell_type": "code",
   "execution_count": 33,
   "metadata": {
    "nbgrader": {
     "grade": true,
     "grade_id": "part-15",
     "locked": true,
     "points": "3",
     "solution": false
    }
   },
   "outputs": [],
   "source": [
    "# Code Generated by LambdaGrader\n",
    "try:\n",
    "    _did_pass = True\n",
    "    _message = ''\n",
    "    # DO NOT CHANGE THE CODE IN THIS CELL\n",
    "    _test_case = \"part-15\"\n",
    "    _points = 3\n",
    "\n",
    "    df_check = df_by_make_backup \\\n",
    "        .sort_values('_'.join(['num', 'reg']).upper(), ascending=bool(0), inplace=bool(0))\n",
    "\n",
    "    pd.testing.assert_frame_equal(df_by_make_backup\n",
    "                                      .sort_values(df_by_make_backup.columns.tolist())\n",
    "                                      .reset_index(drop=True),\n",
    "                                  df_by_make\n",
    "                                      .sort_values(df_by_make.columns.tolist())\n",
    "                                      .reset_index(drop=True),\n",
    "                                 'df_by_make should remain unaltered.')\n",
    "\n",
    "    pd.testing.assert_series_equal(df_check['NUM_REG'].reset_index(drop=True),\n",
    "                                  df_by_make_popularity['NUM_REG'].reset_index(drop=True))\n",
    "except BaseException as ex:\n",
    "    _did_pass = False\n",
    "    _message = ''.join(traceback.TracebackException.from_exception(ex).format())\n",
    "finally:\n",
    "    _record_test_case(_test_case, _did_pass, _points, _message)"
   ]
  },
  {
   "cell_type": "markdown",
   "metadata": {},
   "source": [
    "---\n",
    "\n",
    "### 🎯 Part 16: Sort by average number of trips (monthly)\n",
    "\n",
    "#### 👇 Tasks\n",
    "\n",
    "- ✔️ Sort `df_by_make` from 🎯 Part 14 (**NOT** `df_by_make_popularity`) by `AVG_NUM_TRIPS` in **descending** order.\n",
    "- ✔️ Store the sorted result to a new variable named `df_by_make_trips`.\n",
    "- ✔️ Drop `NUM_REG` and `TOTAL_NUM_TRIPS` columns from `df_by_make_trips`.\n",
    "    - After your code runs, `df_by_make_trips` should only have two columns - `MAKE` and `AVG_NUM_TRIPS`.\n",
    "- ✔️ `df_by_make` should remain unaltered after your code.\n",
    "    - In other words, your code should (1) store the sorted result to `df_by_make_trips` and (2) drop `NUM_REG` and `TOTAL_NUM_TRIPS` columns **without affecting `df_by_make`**.\n",
    "- ⚠️ **Warning**: Running your code more than once may throw an error since you cannot drop a column that has already been dropped. Despite the error message, this is not a huge problem as it won't have any effect on your `DataFrame`. The error message will go away if you go back a few steps and restart with a *fresh* `df_by_make`.\n",
    "\n",
    "#### 🔑 Expected Output\n",
    "\n",
    "Your index column may contain different values.\n",
    "\n",
    "|    | MAKE           |   AVG_NUM_TRIPS |\n",
    "|---:|:---------------|----------------:|\n",
    "| 67 | Taxi           |           499.5 |\n",
    "| 72 | Unique         |           483.0 |\n",
    "| 14 | Chevrolt       |           446.0 |\n",
    "| 40 | Lincoin        |           428.5 |\n",
    "| 22 | General Motors |           396.0 |"
   ]
  },
  {
   "cell_type": "code",
   "execution_count": 34,
   "metadata": {},
   "outputs": [
    {
     "data": {
      "text/html": [
       "<div>\n",
       "<style scoped>\n",
       "    .dataframe tbody tr th:only-of-type {\n",
       "        vertical-align: middle;\n",
       "    }\n",
       "\n",
       "    .dataframe tbody tr th {\n",
       "        vertical-align: top;\n",
       "    }\n",
       "\n",
       "    .dataframe thead th {\n",
       "        text-align: right;\n",
       "    }\n",
       "</style>\n",
       "<table border=\"1\" class=\"dataframe\">\n",
       "  <thead>\n",
       "    <tr style=\"text-align: right;\">\n",
       "      <th></th>\n",
       "      <th>MAKE</th>\n",
       "      <th>AVG_NUM_TRIPS</th>\n",
       "    </tr>\n",
       "  </thead>\n",
       "  <tbody>\n",
       "    <tr>\n",
       "      <th>6</th>\n",
       "      <td>Byd</td>\n",
       "      <td>288.1</td>\n",
       "    </tr>\n",
       "    <tr>\n",
       "      <th>26</th>\n",
       "      <td>Lincoln</td>\n",
       "      <td>271.3</td>\n",
       "    </tr>\n",
       "    <tr>\n",
       "      <th>28</th>\n",
       "      <td>Mercedes</td>\n",
       "      <td>269.5</td>\n",
       "    </tr>\n",
       "    <tr>\n",
       "      <th>48</th>\n",
       "      <td>Toyota</td>\n",
       "      <td>264.1</td>\n",
       "    </tr>\n",
       "    <tr>\n",
       "      <th>35</th>\n",
       "      <td>Mv Agusta</td>\n",
       "      <td>261.0</td>\n",
       "    </tr>\n",
       "  </tbody>\n",
       "</table>\n",
       "</div>"
      ],
      "text/plain": [
       "         MAKE  AVG_NUM_TRIPS\n",
       "6         Byd          288.1\n",
       "26    Lincoln          271.3\n",
       "28   Mercedes          269.5\n",
       "48     Toyota          264.1\n",
       "35  Mv Agusta          261.0"
      ]
     },
     "execution_count": 34,
     "metadata": {},
     "output_type": "execute_result"
    }
   ],
   "source": [
    "### BEGIN SOLUTION\n",
    "df_by_make_trips = df_by_make.sort_values('AVG_NUM_TRIPS', ascending=False)\n",
    "df_by_make_trips.drop(columns=['NUM_REG', 'TOTAL_NUM_TRIPS'], inplace=True)\n",
    "### END SOLUTION\n",
    "\n",
    "df_by_make_trips.head(5)"
   ]
  },
  {
   "cell_type": "markdown",
   "metadata": {},
   "source": [
    "#### 🧭 Check Your Work\n",
    "\n",
    "- Once you're done, run the code cell below to test correctness.\n",
    "- ✔️ If the code cell runs without an error, you're good to move on.\n",
    "- ❌ If the code cell throws an error, go back and fix incorrect parts."
   ]
  },
  {
   "cell_type": "code",
   "execution_count": 35,
   "metadata": {
    "nbgrader": {
     "grade": true,
     "grade_id": "part-16",
     "locked": true,
     "points": "5",
     "solution": false
    }
   },
   "outputs": [],
   "source": [
    "# Code Generated by LambdaGrader\n",
    "try:\n",
    "    _did_pass = True\n",
    "    _message = ''\n",
    "    # DO NOT CHANGE THE CODE IN THIS CELL\n",
    "    _test_case = \"part-16\"\n",
    "    _points = 5\n",
    "\n",
    "    df_check = df_by_make_backup \\\n",
    "            .sort_values('_'.join(['avg', 'num', 'trips']).upper(), ascending=bool(0), inplace=bool(0)) \\\n",
    "            .drop(columns=['NUM_REG', 'TOTAL_NUM_TRIPS'])\n",
    "\n",
    "    pd.testing.assert_frame_equal(df_check.reset_index(drop=True),\n",
    "                                  df_by_make_trips.reset_index(drop=True))\n",
    "except BaseException as ex:\n",
    "    _did_pass = False\n",
    "    _message = ''.join(traceback.TracebackException.from_exception(ex).format())\n",
    "finally:\n",
    "    _record_test_case(_test_case, _did_pass, _points, _message)"
   ]
  },
  {
   "cell_type": "markdown",
   "metadata": {},
   "source": [
    "---\n",
    "\n",
    "### 🎯 Part 17: Average number of trips of Japanese Big 3\n",
    "\n",
    "#### 👇 Tasks\n",
    "\n",
    "- ✔️ Using `df_by_make_trips`, retrieve the following three values.\n",
    "    1. `avg_num_trips_toyota`: Average number of trips (monthly) of Toyota vehicles\n",
    "    2. `avg_num_trips_nissan`: Average number of trips (monthly) of Nissan vehicles\n",
    "    3. `avg_num_trips_honda`: Average number of trips (monthly) of Honda vehicles\n",
    "- ✔️ All 3 variables must be `float`-typed.\n",
    "- ✔️ `df_by_make_trips` should remain unaltered after your code.\n",
    "- ⚠️ You must perform this task **programmatically**. You cannot manually enter the numbers (e.g., `avg_num_trips_toyota = 264.1` is NOT a correct answer).\n",
    "\n",
    "#### 🚀 Hints\n",
    "\n",
    "To retrieve the value of `major1` column of `Dylan` from `df_you`, you can use the following code:\n",
    "\n",
    "```python\n",
    "df_you[df_you['name'] == 'Dylan']['major1'].iloc[0]\n",
    "```\n",
    "\n",
    "**The code above will...**\n",
    "\n",
    "1. Filter row(s) where `name` is `Dylan`.\n",
    "2. Retrieve the `major1` column as a Pandas `Series`.\n",
    "3. Get the value of the first row in the `Series` (`iloc[0]` returns the value of the first row)."
   ]
  },
  {
   "cell_type": "code",
   "execution_count": 36,
   "metadata": {},
   "outputs": [
    {
     "name": "stdout",
     "output_type": "stream",
     "text": [
      "Toyota vehicles have an average number of 264.1 trips (monthly).\n",
      "Nissan vehicles have an average number of 237.1 trips (monthly).\n",
      "Honda vehicles have an average number of 235.0 trips (monthly).\n"
     ]
    }
   ],
   "source": [
    "### BEGIN SOLUTION\n",
    "avg_num_trips_toyota = df_by_make_trips[df_by_make_trips['MAKE'] == 'Toyota']['AVG_NUM_TRIPS'].iloc[0]\n",
    "avg_num_trips_nissan = df_by_make_trips[df_by_make_trips['MAKE'] == 'Nissan']['AVG_NUM_TRIPS'].iloc[0]\n",
    "avg_num_trips_honda = df_by_make_trips[df_by_make_trips['MAKE'] == 'Honda']['AVG_NUM_TRIPS'].iloc[0]\n",
    "### END SOLUTION\n",
    "\n",
    "print(f'Toyota vehicles have an average number of {round(avg_num_trips_toyota, 1)} trips (monthly).')\n",
    "print(f'Nissan vehicles have an average number of {round(avg_num_trips_nissan, 1)} trips (monthly).')\n",
    "print(f'Honda vehicles have an average number of {round(avg_num_trips_honda, 1)} trips (monthly).')"
   ]
  },
  {
   "cell_type": "markdown",
   "metadata": {},
   "source": [
    "#### 🧭 Check Your Work\n",
    "\n",
    "- Once you're done, run the code cell below to test correctness.\n",
    "- ✔️ If the code cell runs without an error, you're good to move on.\n",
    "- ❌ If the code cell throws an error, go back and fix incorrect parts."
   ]
  },
  {
   "cell_type": "code",
   "execution_count": 37,
   "metadata": {
    "nbgrader": {
     "grade": true,
     "grade_id": "part-17",
     "locked": true,
     "points": "6",
     "solution": false
    }
   },
   "outputs": [],
   "source": [
    "# Code Generated by LambdaGrader\n",
    "try:\n",
    "    _did_pass = True\n",
    "    _message = ''\n",
    "    # DO NOT CHANGE THE CODE IN THIS CELL\n",
    "    _test_case = \"part-17\"\n",
    "    _points = 6\n",
    "\n",
    "    df_check = df_v_backup.groupby('MAKE') \\\n",
    "        .agg({'number_of_trips'.upper(): [''.join(['c', 'ou', 'n', 't']), np.sum, np.mean]}) \\\n",
    "        .reset_index()\n",
    "    df_check.columns = ['AVG_NUM_TRIPS', 'TOTAL_NUM_TRIPS', 'NUM_REG', 'MAKE'][::-1]\n",
    "\n",
    "    col_check = '_'.join(['avg', 'num', 'trips']).upper()\n",
    "    make_check = list(map(lambda x: x.capitalize(), ['toYOta', 'niSSan', 'hONDa']))\n",
    "    var_check = [avg_num_trips_toyota, avg_num_trips_nissan, avg_num_trips_honda]\n",
    "\n",
    "    for i in range(len(var_check)):\n",
    "        tc.assertAlmostEqual(var_check[i], df_check.query(f'MAKE == \"{make_check[i]}\"')[col_check].iloc[0])\n",
    "except BaseException as ex:\n",
    "    _did_pass = False\n",
    "    _message = ''.join(traceback.TracebackException.from_exception(ex).format())\n",
    "finally:\n",
    "    _record_test_case(_test_case, _did_pass, _points, _message)"
   ]
  },
  {
   "cell_type": "markdown",
   "metadata": {},
   "source": [
    "---\n",
    "\n",
    "### 🎯 Part 18: Create a Summary of Metrics by Vehicle Model\n",
    "\n",
    "Our second *level of aggregation* is the vehicle manufacturer (`MAKE`) **and** model (`MODEL`). For each vehicle model, you'll be calculating the total number of registered vehicles (`NUM_REG`, total number of trips (`TOTAL_NUM_TRIPS`), and the average number of trips (`AVG_NUM_TRIPS`).\n",
    "\n",
    "**Again, we will provide you the code for this deliverable.**\n",
    "\n",
    "![Groupby make](https://github.com/bdi475/images/blob/main/case-studies/rideshare-vehicles/carbon-groupby-make-and-model-01.png?raw=true)"
   ]
  },
  {
   "cell_type": "markdown",
   "metadata": {},
   "source": [
    "#### 👇 Tasks\n",
    "\n",
    "- ✔️ Copy the code in the image above to the code cell below.\n",
    "    - 😺 *Try* to understand what the code does.\n",
    "- ✔️ `df_v` should remain unaltered after your code."
   ]
  },
  {
   "cell_type": "code",
   "execution_count": 38,
   "metadata": {},
   "outputs": [
    {
     "data": {
      "text/html": [
       "<div>\n",
       "<style scoped>\n",
       "    .dataframe tbody tr th:only-of-type {\n",
       "        vertical-align: middle;\n",
       "    }\n",
       "\n",
       "    .dataframe tbody tr th {\n",
       "        vertical-align: top;\n",
       "    }\n",
       "\n",
       "    .dataframe thead th {\n",
       "        text-align: right;\n",
       "    }\n",
       "</style>\n",
       "<table border=\"1\" class=\"dataframe\">\n",
       "  <thead>\n",
       "    <tr style=\"text-align: right;\">\n",
       "      <th></th>\n",
       "      <th>MAKE</th>\n",
       "      <th>MODEL</th>\n",
       "      <th>NUM_REG</th>\n",
       "      <th>TOTAL_NUM_TRIPS</th>\n",
       "      <th>AVG_NUM_TRIPS</th>\n",
       "    </tr>\n",
       "  </thead>\n",
       "  <tbody>\n",
       "    <tr>\n",
       "      <th>0</th>\n",
       "      <td>Acura</td>\n",
       "      <td>Ilx</td>\n",
       "      <td>826</td>\n",
       "      <td>180669</td>\n",
       "      <td>218.7</td>\n",
       "    </tr>\n",
       "    <tr>\n",
       "      <th>1</th>\n",
       "      <td>Acura</td>\n",
       "      <td>Mdx</td>\n",
       "      <td>9811</td>\n",
       "      <td>2235004</td>\n",
       "      <td>227.8</td>\n",
       "    </tr>\n",
       "    <tr>\n",
       "      <th>2</th>\n",
       "      <td>Acura</td>\n",
       "      <td>Rdx</td>\n",
       "      <td>1454</td>\n",
       "      <td>326177</td>\n",
       "      <td>224.3</td>\n",
       "    </tr>\n",
       "    <tr>\n",
       "      <th>3</th>\n",
       "      <td>Acura</td>\n",
       "      <td>Rl</td>\n",
       "      <td>329</td>\n",
       "      <td>65065</td>\n",
       "      <td>197.8</td>\n",
       "    </tr>\n",
       "    <tr>\n",
       "      <th>4</th>\n",
       "      <td>Acura</td>\n",
       "      <td>Rlx</td>\n",
       "      <td>36</td>\n",
       "      <td>6447</td>\n",
       "      <td>179.1</td>\n",
       "    </tr>\n",
       "    <tr>\n",
       "      <th>5</th>\n",
       "      <td>Acura</td>\n",
       "      <td>Tl</td>\n",
       "      <td>3367</td>\n",
       "      <td>733591</td>\n",
       "      <td>217.9</td>\n",
       "    </tr>\n",
       "  </tbody>\n",
       "</table>\n",
       "</div>"
      ],
      "text/plain": [
       "    MAKE MODEL  NUM_REG  TOTAL_NUM_TRIPS  AVG_NUM_TRIPS\n",
       "0  Acura   Ilx      826           180669          218.7\n",
       "1  Acura   Mdx     9811          2235004          227.8\n",
       "2  Acura   Rdx     1454           326177          224.3\n",
       "3  Acura    Rl      329            65065          197.8\n",
       "4  Acura   Rlx       36             6447          179.1\n",
       "5  Acura    Tl     3367           733591          217.9"
      ]
     },
     "execution_count": 38,
     "metadata": {},
     "output_type": "execute_result"
    }
   ],
   "source": [
    "### BEGIN SOLUTION\n",
    "# Group by MAKE & MODEL and calculate stats\n",
    "df_by_model = df_v.groupby(['MAKE', 'MODEL'], as_index=False).agg({\n",
    "    'NUMBER_OF_TRIPS': ['count', 'sum', 'mean']\n",
    "})\n",
    "\n",
    "# Rename columns\n",
    "df_by_model.columns = ['MAKE', 'MODEL', 'NUM_REG', 'TOTAL_NUM_TRIPS', 'AVG_NUM_TRIPS']\n",
    "\n",
    "# Display first 6 rows\n",
    "df_by_model.head(6)\n",
    "### END SOLUTION"
   ]
  },
  {
   "cell_type": "markdown",
   "metadata": {},
   "source": [
    "#### 🧭 Check Your Work\n",
    "\n",
    "- Once you're done, run the code cell below to test correctness.\n",
    "- ✔️ If the code cell runs without an error, you're good to move on.\n",
    "- ❌ If the code cell throws an error, go back and fix incorrect parts."
   ]
  },
  {
   "cell_type": "code",
   "execution_count": 39,
   "metadata": {
    "nbgrader": {
     "grade": true,
     "grade_id": "part-18",
     "locked": true,
     "points": "3",
     "solution": false
    }
   },
   "outputs": [],
   "source": [
    "# Code Generated by LambdaGrader\n",
    "try:\n",
    "    _did_pass = True\n",
    "    _message = ''\n",
    "    # DO NOT CHANGE THE CODE IN THIS CELL\n",
    "    _test_case = \"part-18\"\n",
    "    _points = 3\n",
    "\n",
    "    df_check = df_v_backup.groupby(['MODEL', 'MAKE'][::-1]) \\\n",
    "        .agg({'number_of_trips'.upper(): [''.join(['c', 'ou', 'n', 't']), np.sum, np.mean]}) \\\n",
    "        .reset_index()\n",
    "    df_check.columns = ['AVG_NUM_TRIPS', 'TOTAL_NUM_TRIPS', 'NUM_REG', 'MODEL', 'MAKE'][::-1]\n",
    "\n",
    "    tc.assertEqual(df_v.shape, df_v_backup.shape, 'df_v should remain unaltered.')\n",
    "\n",
    "    pd.testing.assert_frame_equal(df_check\n",
    "                                      .sort_values(df_check.columns.tolist())\n",
    "                                      .reset_index(drop=True),\n",
    "                                  df_by_model\n",
    "                                      .sort_values(df_by_model.columns.tolist())\n",
    "                                      .reset_index(drop=True))\n",
    "except BaseException as ex:\n",
    "    _did_pass = False\n",
    "    _message = ''.join(traceback.TracebackException.from_exception(ex).format())\n",
    "finally:\n",
    "    _record_test_case(_test_case, _did_pass, _points, _message)"
   ]
  },
  {
   "cell_type": "markdown",
   "metadata": {},
   "source": [
    "---\n",
    "\n",
    "### 🎯 Part 19: Rename columns\n",
    "\n",
    "#### 👇 Tasks\n",
    "\n",
    "- ✔️ Rename the following columns in `df_by_model`:\n",
    "    1. `MAKE` to `manufacturer`\n",
    "    2. `MODEL` to `model`\n",
    "    3. `NUM_REG` to `registrations`\n",
    "    4. `AVG_NUM_TRIPS` to `avg_trips`\n",
    "- ⚠️ Don't worry about the `TOTAL_NUM_TRIPS` column. You'll drop this column soon.\n",
    "\n",
    "#### 🚀 Hints\n",
    "\n",
    "To rename a column named `col1` to `col1_renamed` and `col2` to `col2_renamed` in `my_dataframe`, use the following code.\n",
    "\n",
    "![rename inplace](https://github.com/bdi475/images/blob/main/case-studies/rideshare-vehicles/carbon-rename-columns-inplace-02.png?raw=true)\n",
    "\n",
    "#### 🔑 Expected Output\n",
    "\n",
    "Your index column may contain different values.\n",
    "\n",
    "|    | manufacturer   | model   |   registrations |   TOTAL_NUM_TRIPS |   avg_trips |\n",
    "|---:|:---------------|:--------|----------------:|------------------:|------------:|\n",
    "|  0 | Acura          | 3.2 Tl  |               1 |               313 |     313     |\n",
    "|  1 | Acura          | Aw109   |               4 |               553 |     138.25  |\n",
    "|  2 | Acura          | Camry   |              13 |              2323 |     178.692 |\n",
    "|  3 | Acura          | Cl      |               5 |              1461 |     292.2   |\n",
    "|  4 | Acura          | Csx     |               5 |              1387 |     277.4   |"
   ]
  },
  {
   "cell_type": "code",
   "execution_count": 40,
   "metadata": {},
   "outputs": [
    {
     "data": {
      "text/html": [
       "<div>\n",
       "<style scoped>\n",
       "    .dataframe tbody tr th:only-of-type {\n",
       "        vertical-align: middle;\n",
       "    }\n",
       "\n",
       "    .dataframe tbody tr th {\n",
       "        vertical-align: top;\n",
       "    }\n",
       "\n",
       "    .dataframe thead th {\n",
       "        text-align: right;\n",
       "    }\n",
       "</style>\n",
       "<table border=\"1\" class=\"dataframe\">\n",
       "  <thead>\n",
       "    <tr style=\"text-align: right;\">\n",
       "      <th></th>\n",
       "      <th>manufacturer</th>\n",
       "      <th>model</th>\n",
       "      <th>registrations</th>\n",
       "      <th>TOTAL_NUM_TRIPS</th>\n",
       "      <th>avg_trips</th>\n",
       "    </tr>\n",
       "  </thead>\n",
       "  <tbody>\n",
       "    <tr>\n",
       "      <th>0</th>\n",
       "      <td>Acura</td>\n",
       "      <td>Ilx</td>\n",
       "      <td>826</td>\n",
       "      <td>180669</td>\n",
       "      <td>218.7</td>\n",
       "    </tr>\n",
       "    <tr>\n",
       "      <th>1</th>\n",
       "      <td>Acura</td>\n",
       "      <td>Mdx</td>\n",
       "      <td>9811</td>\n",
       "      <td>2235004</td>\n",
       "      <td>227.8</td>\n",
       "    </tr>\n",
       "    <tr>\n",
       "      <th>2</th>\n",
       "      <td>Acura</td>\n",
       "      <td>Rdx</td>\n",
       "      <td>1454</td>\n",
       "      <td>326177</td>\n",
       "      <td>224.3</td>\n",
       "    </tr>\n",
       "    <tr>\n",
       "      <th>3</th>\n",
       "      <td>Acura</td>\n",
       "      <td>Rl</td>\n",
       "      <td>329</td>\n",
       "      <td>65065</td>\n",
       "      <td>197.8</td>\n",
       "    </tr>\n",
       "    <tr>\n",
       "      <th>4</th>\n",
       "      <td>Acura</td>\n",
       "      <td>Rlx</td>\n",
       "      <td>36</td>\n",
       "      <td>6447</td>\n",
       "      <td>179.1</td>\n",
       "    </tr>\n",
       "  </tbody>\n",
       "</table>\n",
       "</div>"
      ],
      "text/plain": [
       "  manufacturer model  registrations  TOTAL_NUM_TRIPS  avg_trips\n",
       "0        Acura   Ilx            826           180669      218.7\n",
       "1        Acura   Mdx           9811          2235004      227.8\n",
       "2        Acura   Rdx           1454           326177      224.3\n",
       "3        Acura    Rl            329            65065      197.8\n",
       "4        Acura   Rlx             36             6447      179.1"
      ]
     },
     "execution_count": 40,
     "metadata": {},
     "output_type": "execute_result"
    }
   ],
   "source": [
    "### BEGIN SOLUTION\n",
    "df_by_model.rename(columns={\n",
    "    'MAKE': 'manufacturer', \n",
    "    'MODEL': 'model',\n",
    "    'NUM_REG': 'registrations',\n",
    "    'AVG_NUM_TRIPS': 'avg_trips'\n",
    "}, inplace=True)\n",
    "### END SOLUTION\n",
    "\n",
    "df_by_model.head(5)"
   ]
  },
  {
   "cell_type": "markdown",
   "metadata": {},
   "source": [
    "#### 🧭 Check Your Work\n",
    "\n",
    "- Once you're done, run the code cell below to test correctness.\n",
    "- ✔️ If the code cell runs without an error, you're good to move on.\n",
    "- ❌ If the code cell throws an error, go back and fix incorrect parts."
   ]
  },
  {
   "cell_type": "code",
   "execution_count": 41,
   "metadata": {
    "nbgrader": {
     "grade": true,
     "grade_id": "part-19",
     "locked": true,
     "points": "3",
     "solution": false
    }
   },
   "outputs": [],
   "source": [
    "# Code Generated by LambdaGrader\n",
    "try:\n",
    "    _did_pass = True\n",
    "    _message = ''\n",
    "    # DO NOT CHANGE THE CODE IN THIS CELL\n",
    "    _test_case = \"part-19\"\n",
    "    _points = 3\n",
    "\n",
    "    df_check = df_v_backup.groupby(['MODEL', 'MAKE'][::-1]) \\\n",
    "        .agg({'number_of_trips'.upper(): [''.join(['c', 'ou', 'n', 't']), np.sum, np.mean]}) \\\n",
    "        .reset_index()\n",
    "    df_check.columns = ['avg_trips', 'TOTAL_NUM_TRIPS', 'registrations', 'model', 'manufacturer'][::-1]\n",
    "\n",
    "    pd.testing.assert_frame_equal(df_check\n",
    "                                      .sort_values(df_check.columns.tolist())\n",
    "                                      .reset_index(drop=True),\n",
    "                                  df_by_model\n",
    "                                      .sort_values(df_by_model.columns.tolist())\n",
    "                                      .reset_index(drop=True))\n",
    "except BaseException as ex:\n",
    "    _did_pass = False\n",
    "    _message = ''.join(traceback.TracebackException.from_exception(ex).format())\n",
    "finally:\n",
    "    _record_test_case(_test_case, _did_pass, _points, _message)"
   ]
  },
  {
   "cell_type": "markdown",
   "metadata": {},
   "source": [
    "---\n",
    "\n",
    "### 🎯 Part 20: Drop `TOTAL_NUM_TRIPS` column\n",
    "\n",
    "#### 👇 Tasks\n",
    "\n",
    "- ✔️ Drop the `TOTAL_NUM_TRIPS` column from `df_by_model`.\n",
    "- ⚠️ **Warning**: Running your code more than once may throw an error since you cannot drop a column that has already been dropped. Despite the error message, this is not a huge problem as it won't have any effect on your `DataFrame`. The error message will go away if you go back a few steps and restart with a *fresh* `df_by_model`.\n",
    "\n",
    "#### 🔑 Expected Output\n",
    "\n",
    "Your index column may contain different values.\n",
    "\n",
    "|    | manufacturer   | model   |   registrations |   avg_trips |\n",
    "|---:|:---------------|:--------|----------------:|------------:|\n",
    "|  0 | Acura          | 3.2 Tl  |               1 |     313     |\n",
    "|  1 | Acura          | Aw109   |               4 |     138.25  |\n",
    "|  2 | Acura          | Camry   |              13 |     178.692 |\n",
    "|  3 | Acura          | Cl      |               5 |     292.2   |\n",
    "|  4 | Acura          | Csx     |               5 |     277.4   |"
   ]
  },
  {
   "cell_type": "code",
   "execution_count": 42,
   "metadata": {},
   "outputs": [
    {
     "data": {
      "text/html": [
       "<div>\n",
       "<style scoped>\n",
       "    .dataframe tbody tr th:only-of-type {\n",
       "        vertical-align: middle;\n",
       "    }\n",
       "\n",
       "    .dataframe tbody tr th {\n",
       "        vertical-align: top;\n",
       "    }\n",
       "\n",
       "    .dataframe thead th {\n",
       "        text-align: right;\n",
       "    }\n",
       "</style>\n",
       "<table border=\"1\" class=\"dataframe\">\n",
       "  <thead>\n",
       "    <tr style=\"text-align: right;\">\n",
       "      <th></th>\n",
       "      <th>manufacturer</th>\n",
       "      <th>model</th>\n",
       "      <th>registrations</th>\n",
       "      <th>avg_trips</th>\n",
       "    </tr>\n",
       "  </thead>\n",
       "  <tbody>\n",
       "    <tr>\n",
       "      <th>0</th>\n",
       "      <td>Acura</td>\n",
       "      <td>Ilx</td>\n",
       "      <td>826</td>\n",
       "      <td>218.7</td>\n",
       "    </tr>\n",
       "    <tr>\n",
       "      <th>1</th>\n",
       "      <td>Acura</td>\n",
       "      <td>Mdx</td>\n",
       "      <td>9811</td>\n",
       "      <td>227.8</td>\n",
       "    </tr>\n",
       "    <tr>\n",
       "      <th>2</th>\n",
       "      <td>Acura</td>\n",
       "      <td>Rdx</td>\n",
       "      <td>1454</td>\n",
       "      <td>224.3</td>\n",
       "    </tr>\n",
       "    <tr>\n",
       "      <th>3</th>\n",
       "      <td>Acura</td>\n",
       "      <td>Rl</td>\n",
       "      <td>329</td>\n",
       "      <td>197.8</td>\n",
       "    </tr>\n",
       "    <tr>\n",
       "      <th>4</th>\n",
       "      <td>Acura</td>\n",
       "      <td>Rlx</td>\n",
       "      <td>36</td>\n",
       "      <td>179.1</td>\n",
       "    </tr>\n",
       "  </tbody>\n",
       "</table>\n",
       "</div>"
      ],
      "text/plain": [
       "  manufacturer model  registrations  avg_trips\n",
       "0        Acura   Ilx            826      218.7\n",
       "1        Acura   Mdx           9811      227.8\n",
       "2        Acura   Rdx           1454      224.3\n",
       "3        Acura    Rl            329      197.8\n",
       "4        Acura   Rlx             36      179.1"
      ]
     },
     "execution_count": 42,
     "metadata": {},
     "output_type": "execute_result"
    }
   ],
   "source": [
    "### BEGIN SOLUTION\n",
    "df_by_model.drop(columns=['TOTAL_NUM_TRIPS'], inplace=True)\n",
    "### END SOLUTION\n",
    "\n",
    "df_by_model.head(5)"
   ]
  },
  {
   "cell_type": "markdown",
   "metadata": {},
   "source": [
    "#### 🧭 Check Your Work\n",
    "\n",
    "- Once you're done, run the code cell below to test correctness.\n",
    "- ✔️ If the code cell runs without an error, you're good to move on.\n",
    "- ❌ If the code cell throws an error, go back and fix incorrect parts."
   ]
  },
  {
   "cell_type": "code",
   "execution_count": 43,
   "metadata": {
    "nbgrader": {
     "grade": true,
     "grade_id": "part-20",
     "locked": true,
     "points": "2",
     "solution": false
    }
   },
   "outputs": [],
   "source": [
    "# Code Generated by LambdaGrader\n",
    "try:\n",
    "    _did_pass = True\n",
    "    _message = ''\n",
    "    # DO NOT CHANGE THE CODE IN THIS CELL\n",
    "    _test_case = \"part-20\"\n",
    "    _points = 2\n",
    "\n",
    "    df_check = df_v_backup.groupby(['MODEL', 'MAKE'][::-1]) \\\n",
    "        .agg({'number_of_trips'.upper(): [''.join(['c', 'ou', 'n', 't']), np.mean]}) \\\n",
    "        .reset_index()\n",
    "    df_check.columns = list(map(lambda x: x.lower(), ['AVg_TriPS', 'ReGisTraTiONS', 'MoDeL', 'ManUfacTurer'][::-1]))\n",
    "\n",
    "    pd.testing.assert_frame_equal(df_check\n",
    "                                      .sort_values(df_check.columns.tolist())\n",
    "                                      .reset_index(drop=True),\n",
    "                                  df_by_model\n",
    "                                      .sort_values(df_by_model.columns.tolist())\n",
    "                                      .reset_index(drop=True))\n",
    "except BaseException as ex:\n",
    "    _did_pass = False\n",
    "    _message = ''.join(traceback.TracebackException.from_exception(ex).format())\n",
    "finally:\n",
    "    _record_test_case(_test_case, _did_pass, _points, _message)"
   ]
  },
  {
   "cell_type": "markdown",
   "metadata": {},
   "source": [
    "---\n",
    "\n",
    "### 🎯 Part 21: Sort by number of registered vehicles\n",
    "\n",
    "Can you sort `df_by_model` by popularity?\n",
    "\n",
    "#### 👇 Tasks\n",
    "\n",
    "- ✔️ Sort `df_by_model` by `registrations` in **descending** order.\n",
    "- ✔️ Update `df_by_model` without creating a new variable.\n",
    "    - In other words, you're performing an **in-place** sort.\n",
    "\n",
    "#### 🔑 Expected Output\n",
    "\n",
    "Your index column may contain different values.\n",
    "\n",
    "|      | manufacturer   | model   |   registrations |   avg_trips |\n",
    "|-----:|:---------------|:--------|----------------:|------------:|\n",
    "| 1170 | Toyota         | Camry   |          157372 |     270.232 |\n",
    "| 1179 | Toyota         | Corolla |           79926 |     259.916 |\n",
    "|  973 | Nissan         | Altima  |           71884 |     238.125 |\n",
    "| 1211 | Toyota         | Prius   |           71005 |     280.718 |\n",
    "| 1014 | Nissan         | Sentra  |           65132 |     244.764 |"
   ]
  },
  {
   "cell_type": "code",
   "execution_count": 44,
   "metadata": {},
   "outputs": [
    {
     "data": {
      "text/html": [
       "<div>\n",
       "<style scoped>\n",
       "    .dataframe tbody tr th:only-of-type {\n",
       "        vertical-align: middle;\n",
       "    }\n",
       "\n",
       "    .dataframe tbody tr th {\n",
       "        vertical-align: top;\n",
       "    }\n",
       "\n",
       "    .dataframe thead th {\n",
       "        text-align: right;\n",
       "    }\n",
       "</style>\n",
       "<table border=\"1\" class=\"dataframe\">\n",
       "  <thead>\n",
       "    <tr style=\"text-align: right;\">\n",
       "      <th></th>\n",
       "      <th>manufacturer</th>\n",
       "      <th>model</th>\n",
       "      <th>registrations</th>\n",
       "      <th>avg_trips</th>\n",
       "    </tr>\n",
       "  </thead>\n",
       "  <tbody>\n",
       "    <tr>\n",
       "      <th>589</th>\n",
       "      <td>Toyota</td>\n",
       "      <td>Camry</td>\n",
       "      <td>129143</td>\n",
       "      <td>269.6</td>\n",
       "    </tr>\n",
       "    <tr>\n",
       "      <th>594</th>\n",
       "      <td>Toyota</td>\n",
       "      <td>Corolla</td>\n",
       "      <td>64887</td>\n",
       "      <td>259.6</td>\n",
       "    </tr>\n",
       "    <tr>\n",
       "      <th>493</th>\n",
       "      <td>Nissan</td>\n",
       "      <td>Altima</td>\n",
       "      <td>61352</td>\n",
       "      <td>239.7</td>\n",
       "    </tr>\n",
       "    <tr>\n",
       "      <th>607</th>\n",
       "      <td>Toyota</td>\n",
       "      <td>Prius</td>\n",
       "      <td>56870</td>\n",
       "      <td>278.4</td>\n",
       "    </tr>\n",
       "    <tr>\n",
       "      <th>509</th>\n",
       "      <td>Nissan</td>\n",
       "      <td>Sentra</td>\n",
       "      <td>54599</td>\n",
       "      <td>245.6</td>\n",
       "    </tr>\n",
       "  </tbody>\n",
       "</table>\n",
       "</div>"
      ],
      "text/plain": [
       "    manufacturer    model  registrations  avg_trips\n",
       "589       Toyota    Camry         129143      269.6\n",
       "594       Toyota  Corolla          64887      259.6\n",
       "493       Nissan   Altima          61352      239.7\n",
       "607       Toyota    Prius          56870      278.4\n",
       "509       Nissan   Sentra          54599      245.6"
      ]
     },
     "execution_count": 44,
     "metadata": {},
     "output_type": "execute_result"
    }
   ],
   "source": [
    "### BEGIN SOLUTION\n",
    "df_by_model.sort_values('registrations', ascending=False, inplace=True)\n",
    "### END SOLUTION\n",
    "\n",
    "df_by_model.head(5)"
   ]
  },
  {
   "cell_type": "markdown",
   "metadata": {},
   "source": [
    "#### 🧭 Check Your Work\n",
    "\n",
    "- Once you're done, run the code cell below to test correctness.\n",
    "- ✔️ If the code cell runs without an error, you're good to move on.\n",
    "- ❌ If the code cell throws an error, go back and fix incorrect parts."
   ]
  },
  {
   "cell_type": "code",
   "execution_count": 45,
   "metadata": {
    "nbgrader": {
     "grade": true,
     "grade_id": "part-21",
     "locked": true,
     "points": "2",
     "solution": false
    }
   },
   "outputs": [],
   "source": [
    "# Code Generated by LambdaGrader\n",
    "try:\n",
    "    _did_pass = True\n",
    "    _message = ''\n",
    "    # DO NOT CHANGE THE CODE IN THIS CELL\n",
    "    _test_case = \"part-21\"\n",
    "    _points = 2\n",
    "\n",
    "    df_check = df_v_backup.groupby(['MODEL', 'MAKE'][::-1]) \\\n",
    "        .agg({'number_of_trips'.upper(): [''.join(['c', 'o', 'u', 'n', 't']), np.mean]}) \\\n",
    "        .sort_values(('NUMBER_OF_TRIPS', 'count'), ascending=False) \\\n",
    "        .reset_index()\n",
    "    df_check.columns = list(map(lambda x: x.lower(), ['AVg_TriPS', 'ReGisTraTiONS', 'MoDeL', 'ManUfacTurer'][::-1]))\n",
    "\n",
    "    pd.testing.assert_series_equal(df_check['registrations'].reset_index(drop=True),\n",
    "                                   df_by_model['registrations'].reset_index(drop=True))\n",
    "    pd.testing.assert_frame_equal(df_check\n",
    "                                      .sort_values(['registrations', 'manufacturer', 'model'], ascending=[False, True, True])\n",
    "                                      .reset_index(drop=True),\n",
    "                                  df_by_model\n",
    "                                      .sort_values(['registrations', 'manufacturer', 'model'], ascending=[False, True, True])\n",
    "                                      .reset_index(drop=True))\n",
    "except BaseException as ex:\n",
    "    _did_pass = False\n",
    "    _message = ''.join(traceback.TracebackException.from_exception(ex).format())\n",
    "finally:\n",
    "    _record_test_case(_test_case, _did_pass, _points, _message)"
   ]
  },
  {
   "cell_type": "markdown",
   "metadata": {},
   "source": [
    "---\n",
    "\n",
    "### 🎯 Part 22: Number of Lincoln Ls registrations\n",
    "\n",
    "#### 👇 Tasks\n",
    "\n",
    "- ✔️ Using `df_by_model`, retrieve the number of Lincoln LS registrations.\n",
    "    - `manufacturer == 'Lincoln'`\n",
    "    - `model == 'Ls'` (case-sensitive)\n",
    "- ✔️ Store the result to a new variable named `num_lincoln_ls_registrations`.\n",
    "- ✔️ `num_lincoln_ls_registrations` should be an `int` type.\n",
    "- ✔️ `df_by_model` should remain unaltered after your code.\n",
    "- ⚠️ Filtering by the `model` column only (`model == 'Ls'`) may yield incorrect result as Lexus also has a model with the same name (Lexus LS). Use both `manufacturer` and `model` columns to find the matching row.\n",
    "\n",
    "#### 🚀 Hints\n",
    "\n",
    "To retrieve the `fav_restaurant` column value of a person where `name == 'Mark'` **and** `city == 'Metamora'`, use the code below.\n",
    "\n",
    "**The code below will...**\n",
    "\n",
    "1. Filter row(s) where `name` is `Josh` **and** `city` is `Chicago`.\n",
    "2. Retrieve the `fav_restaurant` column as a Pandas `Series`.\n",
    "3. Get the value of the first element in the `Series` (`iloc[0]` returns the value of the element at index position 0, which is the first element).\n",
    "\n",
    "```python\n",
    "df_you[(df_you['name'] == 'Josh') & (df_you['city'] == 'Chicago')]['fav_restaurant'].iloc[0]\n",
    "```"
   ]
  },
  {
   "cell_type": "code",
   "execution_count": 46,
   "metadata": {},
   "outputs": [
    {
     "name": "stdout",
     "output_type": "stream",
     "text": [
      "There are 92 Lincoln Ls registrations.\n"
     ]
    }
   ],
   "source": [
    "### BEGIN SOLUTION\n",
    "num_lincoln_ls_registrations = df_by_model[(df_by_model['manufacturer'] == 'Lincoln') & (df_by_model['model'] == 'Ls')]['registrations'].iloc[0]\n",
    "### END SOLUTION\n",
    "\n",
    "print(f'There are {num_lincoln_ls_registrations} Lincoln Ls registrations.')"
   ]
  },
  {
   "cell_type": "markdown",
   "metadata": {},
   "source": [
    "#### 🧭 Check Your Work\n",
    "\n",
    "- Once you're done, run the code cell below to test correctness.\n",
    "- ✔️ If the code cell runs without an error, you're good to move on.\n",
    "- ❌ If the code cell throws an error, go back and fix incorrect parts."
   ]
  },
  {
   "cell_type": "code",
   "execution_count": 47,
   "metadata": {
    "nbgrader": {
     "grade": true,
     "grade_id": "part-22",
     "locked": true,
     "points": "2",
     "solution": false
    }
   },
   "outputs": [],
   "source": [
    "# Code Generated by LambdaGrader\n",
    "try:\n",
    "    _did_pass = True\n",
    "    _message = ''\n",
    "    # DO NOT CHANGE THE CODE IN THIS CELL\n",
    "    _test_case = \"part-22\"\n",
    "    _points = 2\n",
    "\n",
    "    df_check = df_v_backup.groupby(['MODEL', 'MAKE'][::-1]) \\\n",
    "        .agg({'number_of_trips'.upper(): ''.join(['c', 'o', 'u', 'n', 't'])}) \\\n",
    "        .reset_index()\n",
    "\n",
    "    tc.assertEqual(num_lincoln_ls_registrations,\n",
    "                   df_check.query(f'MAKE == \"{\"lInCoLn\".capitalize()}\" & MODEL == \"{\"lS\".capitalize()}\"') \\\n",
    "                       ['_'.join(['nUmBer', 'oF', 'tRiPs']).upper()].iloc[0])\n",
    "except BaseException as ex:\n",
    "    _did_pass = False\n",
    "    _message = ''.join(traceback.TracebackException.from_exception(ex).format())\n",
    "finally:\n",
    "    _record_test_case(_test_case, _did_pass, _points, _message)"
   ]
  },
  {
   "cell_type": "markdown",
   "metadata": {},
   "source": [
    "---\n",
    "\n",
    "### 🎯 Part 23: Number of Ford 500 registrations\n",
    "\n",
    "This part is very similar to the previous one.\n",
    "\n",
    "#### 👇 Tasks\n",
    "\n",
    "- ✔️ Using `df_by_model`, retrieve the number of Ford 500 registrations.\n",
    "    - `manufacturer == 'Ford'`\n",
    "    - `model == '500'` (⚠️ string `'500'`, not number `500`)\n",
    "- ✔️ Store the result to a new variable named `num_ford_500_registrations`.\n",
    "- ✔️ `num_ford_500_registrations` should be an `int` type.\n",
    "- ✔️ `df_by_model` should remain unaltered after your code.\n",
    "- ⚠️ Filtering by the `model` column only (`model == '500'`) may yield incorrect result as Fiat also has a model with the same name (Fiat 500). Use both `manufacturer` and `model` columns to find the matching row."
   ]
  },
  {
   "cell_type": "code",
   "execution_count": 48,
   "metadata": {},
   "outputs": [
    {
     "name": "stdout",
     "output_type": "stream",
     "text": [
      "There are 94 Ford 500 registrations.\n"
     ]
    }
   ],
   "source": [
    "### BEGIN SOLUTION\n",
    "num_ford_500_registrations = df_by_model[(df_by_model['manufacturer'] == 'Ford') & (df_by_model['model'] == '500')]['registrations'].iloc[0]\n",
    "### END SOLUTION\n",
    "\n",
    "print(f'There are {num_ford_500_registrations} Ford 500 registrations.')"
   ]
  },
  {
   "cell_type": "markdown",
   "metadata": {},
   "source": [
    "#### 🧭 Check Your Work\n",
    "\n",
    "- Once you're done, run the code cell below to test correctness.\n",
    "- ✔️ If the code cell runs without an error, you're good to move on.\n",
    "- ❌ If the code cell throws an error, go back and fix incorrect parts."
   ]
  },
  {
   "cell_type": "code",
   "execution_count": 49,
   "metadata": {
    "nbgrader": {
     "grade": true,
     "grade_id": "part-23",
     "locked": true,
     "points": "2",
     "solution": false
    }
   },
   "outputs": [],
   "source": [
    "# Code Generated by LambdaGrader\n",
    "try:\n",
    "    _did_pass = True\n",
    "    _message = ''\n",
    "    # DO NOT CHANGE THE CODE IN THIS CELL\n",
    "    _test_case = \"part-23\"\n",
    "    _points = 2\n",
    "\n",
    "    df_check = df_v_backup.groupby(['MODEL', 'MAKE'][::-1]) \\\n",
    "        .agg({'number_of_trips'.upper(): ''.join(['c', 'o', 'u', 'n', 't'])}) \\\n",
    "        .reset_index()\n",
    "\n",
    "    tc.assertEqual(num_ford_500_registrations,\n",
    "                   df_check.query(f'MAKE == \"{\"fOrD\".capitalize()}\" & MODEL == \"{5 * 5 * 4 * 5}\"') \\\n",
    "                       ['_'.join(['nUmBer', 'oF', 'tRiPs']).upper()].iloc[0])\n",
    "except BaseException as ex:\n",
    "    _did_pass = False\n",
    "    _message = ''.join(traceback.TracebackException.from_exception(ex).format())\n",
    "finally:\n",
    "    _record_test_case(_test_case, _did_pass, _points, _message)"
   ]
  },
  {
   "cell_type": "markdown",
   "metadata": {},
   "source": [
    "---\n",
    "\n",
    "### 🎯 Part 24: Create a Summary of Metrics by Vehicle Model and Color\n",
    "\n",
    "Our final *level of aggregation* is the vehicle manufacturer (`MAKE`), model (`MODEL`), and color (`COLOR`).\n",
    "\n",
    "#### 👇 Tasks\n",
    "\n",
    "- ✔️ Copy the code in the image above to the code cell below.\n",
    "    - 😺 *Try* to understand what the code does.\n",
    "- ✔️ `df_v` should remain unaltered after your code.\n",
    "- ✔️  **Again, we will provide you the code for this deliverable.**\n",
    "\n",
    "![Groupby make](https://github.com/bdi475/images/blob/main/case-studies/rideshare-vehicles/carbon-groupby-make-model-color-01.png?raw=true)\n",
    "\n",
    "#### 🔑 Expected Output\n",
    "\n",
    "Your index column may contain different values.\n",
    "\n",
    "|    | MAKE   | MODEL   | COLOR       |   REPORTED_MONTH |\n",
    "|---:|:-------|:--------|:------------|-----------------:|\n",
    "|  0 | Acura  | 3.2 Tl  | White/Pearl |                1 |\n",
    "|  1 | Acura  | Aw109   | White       |                4 |\n",
    "|  2 | Acura  | Camry   | Black       |                9 |\n",
    "|  3 | Acura  | Camry   | White       |                4 |\n",
    "|  4 | Acura  | Cl      | Gray        |                3 |"
   ]
  },
  {
   "cell_type": "code",
   "execution_count": 50,
   "metadata": {},
   "outputs": [
    {
     "data": {
      "text/html": [
       "<div>\n",
       "<style scoped>\n",
       "    .dataframe tbody tr th:only-of-type {\n",
       "        vertical-align: middle;\n",
       "    }\n",
       "\n",
       "    .dataframe tbody tr th {\n",
       "        vertical-align: top;\n",
       "    }\n",
       "\n",
       "    .dataframe thead th {\n",
       "        text-align: right;\n",
       "    }\n",
       "</style>\n",
       "<table border=\"1\" class=\"dataframe\">\n",
       "  <thead>\n",
       "    <tr style=\"text-align: right;\">\n",
       "      <th></th>\n",
       "      <th>MAKE</th>\n",
       "      <th>MODEL</th>\n",
       "      <th>COLOR</th>\n",
       "      <th>REPORTED_MONTH</th>\n",
       "    </tr>\n",
       "  </thead>\n",
       "  <tbody>\n",
       "    <tr>\n",
       "      <th>0</th>\n",
       "      <td>Acura</td>\n",
       "      <td>Ilx</td>\n",
       "      <td>\"</td>\n",
       "      <td>1</td>\n",
       "    </tr>\n",
       "    <tr>\n",
       "      <th>1</th>\n",
       "      <td>Acura</td>\n",
       "      <td>Ilx</td>\n",
       "      <td>\"Grey\"</td>\n",
       "      <td>1</td>\n",
       "    </tr>\n",
       "    <tr>\n",
       "      <th>2</th>\n",
       "      <td>Acura</td>\n",
       "      <td>Ilx</td>\n",
       "      <td>Black</td>\n",
       "      <td>410</td>\n",
       "    </tr>\n",
       "    <tr>\n",
       "      <th>3</th>\n",
       "      <td>Acura</td>\n",
       "      <td>Ilx</td>\n",
       "      <td>Blue</td>\n",
       "      <td>35</td>\n",
       "    </tr>\n",
       "    <tr>\n",
       "      <th>4</th>\n",
       "      <td>Acura</td>\n",
       "      <td>Ilx</td>\n",
       "      <td>Brown</td>\n",
       "      <td>7</td>\n",
       "    </tr>\n",
       "  </tbody>\n",
       "</table>\n",
       "</div>"
      ],
      "text/plain": [
       "    MAKE MODEL   COLOR  REPORTED_MONTH\n",
       "0  Acura   Ilx       \"               1\n",
       "1  Acura   Ilx  \"Grey\"               1\n",
       "2  Acura   Ilx   Black             410\n",
       "3  Acura   Ilx    Blue              35\n",
       "4  Acura   Ilx   Brown               7"
      ]
     },
     "execution_count": 50,
     "metadata": {},
     "output_type": "execute_result"
    }
   ],
   "source": [
    "### BEGIN SOLUTION\n",
    "# Group by MAKE/MODEL/COLOR and count rows\n",
    "df_by_color = df_v.groupby(['MAKE', 'MODEL', 'COLOR'], as_index=False).agg({\n",
    "    'REPORTED_MONTH': 'count'\n",
    "})\n",
    "\n",
    "# Display first 6 rows\n",
    "df_by_color.head(5)\n",
    "### END SOLUTION"
   ]
  },
  {
   "cell_type": "markdown",
   "metadata": {},
   "source": [
    "#### 🧭 Check Your Work\n",
    "\n",
    "- Once you're done, run the code cell below to test correctness.\n",
    "- ✔️ If the code cell runs without an error, you're good to move on.\n",
    "- ❌ If the code cell throws an error, go back and fix incorrect parts."
   ]
  },
  {
   "cell_type": "code",
   "execution_count": 51,
   "metadata": {
    "nbgrader": {
     "grade": true,
     "grade_id": "part-24",
     "locked": true,
     "points": "2",
     "solution": false
    }
   },
   "outputs": [],
   "source": [
    "# Code Generated by LambdaGrader\n",
    "try:\n",
    "    _did_pass = True\n",
    "    _message = ''\n",
    "    # DO NOT CHANGE THE CODE IN THIS CELL\n",
    "    _test_case = \"part-24\"\n",
    "    _points = 2\n",
    "\n",
    "    df_check = df_v_backup.groupby(['COLOR', 'MODEL', 'MAKE'][::-1]) \\\n",
    "        .agg({'nUMbEr_of_trIPs'.upper(): ''.join(['c', 'ou', 'n', 't'])}) \\\n",
    "        .reset_index()\n",
    "    df_check.columns = ['REPORTED_MONTH', 'COLOR', 'MODEL', 'MAKE'][::-1]\n",
    "\n",
    "    tc.assertEqual(df_v.shape, df_v_backup.shape, 'df_v should remain unaltered.')\n",
    "\n",
    "    pd.testing.assert_frame_equal(df_check\n",
    "                                      .sort_values(df_check.columns.tolist())\n",
    "                                      .reset_index(drop=True),\n",
    "                                  df_by_color\n",
    "                                      .sort_values(df_by_color.columns.tolist())\n",
    "                                      .reset_index(drop=True))\n",
    "except BaseException as ex:\n",
    "    _did_pass = False\n",
    "    _message = ''.join(traceback.TracebackException.from_exception(ex).format())\n",
    "finally:\n",
    "    _record_test_case(_test_case, _did_pass, _points, _message)"
   ]
  },
  {
   "cell_type": "markdown",
   "metadata": {},
   "source": [
    "---\n",
    "\n",
    "### 🎯 Part 25: Rename columns\n",
    "\n",
    "#### 👇 Tasks\n",
    "\n",
    "- ✔️ Rename the following columns in `df_by_color` **in-place**:\n",
    "    1. `MAKE` to `manufacturer`\n",
    "    2. `MODEL` to `model`\n",
    "    3. `COLOR` to `color`\n",
    "    4. `REPORTED_MONTH` to `registrations`\n",
    "\n",
    "#### 🔑 Expected Output\n",
    "\n",
    "Your index column may contain different values.\n",
    "    \n",
    "|    | manufacturer   | model   | color       |   registrations |\n",
    "|---:|:---------------|:--------|:------------|----------------:|\n",
    "|  0 | Acura          | 3.2 Tl  | White/Pearl |               1 |\n",
    "|  1 | Acura          | Aw109   | White       |               4 |\n",
    "|  2 | Acura          | Camry   | Black       |               9 |"
   ]
  },
  {
   "cell_type": "code",
   "execution_count": 52,
   "metadata": {},
   "outputs": [
    {
     "data": {
      "text/html": [
       "<div>\n",
       "<style scoped>\n",
       "    .dataframe tbody tr th:only-of-type {\n",
       "        vertical-align: middle;\n",
       "    }\n",
       "\n",
       "    .dataframe tbody tr th {\n",
       "        vertical-align: top;\n",
       "    }\n",
       "\n",
       "    .dataframe thead th {\n",
       "        text-align: right;\n",
       "    }\n",
       "</style>\n",
       "<table border=\"1\" class=\"dataframe\">\n",
       "  <thead>\n",
       "    <tr style=\"text-align: right;\">\n",
       "      <th></th>\n",
       "      <th>manufacturer</th>\n",
       "      <th>model</th>\n",
       "      <th>color</th>\n",
       "      <th>registrations</th>\n",
       "    </tr>\n",
       "  </thead>\n",
       "  <tbody>\n",
       "    <tr>\n",
       "      <th>0</th>\n",
       "      <td>Acura</td>\n",
       "      <td>Ilx</td>\n",
       "      <td>\"</td>\n",
       "      <td>1</td>\n",
       "    </tr>\n",
       "    <tr>\n",
       "      <th>1</th>\n",
       "      <td>Acura</td>\n",
       "      <td>Ilx</td>\n",
       "      <td>\"Grey\"</td>\n",
       "      <td>1</td>\n",
       "    </tr>\n",
       "    <tr>\n",
       "      <th>2</th>\n",
       "      <td>Acura</td>\n",
       "      <td>Ilx</td>\n",
       "      <td>Black</td>\n",
       "      <td>410</td>\n",
       "    </tr>\n",
       "  </tbody>\n",
       "</table>\n",
       "</div>"
      ],
      "text/plain": [
       "  manufacturer model   color  registrations\n",
       "0        Acura   Ilx       \"              1\n",
       "1        Acura   Ilx  \"Grey\"              1\n",
       "2        Acura   Ilx   Black            410"
      ]
     },
     "execution_count": 52,
     "metadata": {},
     "output_type": "execute_result"
    }
   ],
   "source": [
    "### BEGIN SOLUTION\n",
    "df_by_color.rename(columns={\n",
    "    'MAKE': 'manufacturer', \n",
    "    'MODEL': 'model',\n",
    "    'COLOR': 'color',\n",
    "    'REPORTED_MONTH': 'registrations'\n",
    "}, inplace=True)\n",
    "### END SOLUTION\n",
    "\n",
    "df_by_color.head(3)"
   ]
  },
  {
   "cell_type": "markdown",
   "metadata": {},
   "source": [
    "#### 🧭 Check Your Work\n",
    "\n",
    "- Once you're done, run the code cell below to test correctness.\n",
    "- ✔️ If the code cell runs without an error, you're good to move on.\n",
    "- ❌ If the code cell throws an error, go back and fix incorrect parts."
   ]
  },
  {
   "cell_type": "code",
   "execution_count": 53,
   "metadata": {
    "nbgrader": {
     "grade": true,
     "grade_id": "part-25",
     "locked": true,
     "points": "3",
     "solution": false
    }
   },
   "outputs": [],
   "source": [
    "# Code Generated by LambdaGrader\n",
    "try:\n",
    "    _did_pass = True\n",
    "    _message = ''\n",
    "    # DO NOT CHANGE THE CODE IN THIS CELL\n",
    "    _test_case = \"part-25\"\n",
    "    _points = 3\n",
    "\n",
    "    df_check = df_v_backup.groupby(['COLOR', 'MODEL', 'MAKE'][::-1]) \\\n",
    "        .agg({'number_of_trips'.upper(): ''.join(['c', 'ou', 'n', 't'])}) \\\n",
    "        .reset_index()\n",
    "    df_check.columns = list(map(lambda x: x.lower(), ['RegIstraTioNs', 'CoLoR', 'MoDeL', 'ManUFacTuReR'][::-1]))\n",
    "\n",
    "    tc.assertEqual(df_by_color.shape, df_check.shape)\n",
    "    tc.assertEqual(df_by_color.columns.tolist(), df_check.columns.tolist())\n",
    "except BaseException as ex:\n",
    "    _did_pass = False\n",
    "    _message = ''.join(traceback.TracebackException.from_exception(ex).format())\n",
    "finally:\n",
    "    _record_test_case(_test_case, _did_pass, _points, _message)"
   ]
  },
  {
   "cell_type": "markdown",
   "metadata": {},
   "source": [
    "---\n",
    "\n",
    "### 🎯 Part 26: Sort by number of registered vehicles"
   ]
  },
  {
   "cell_type": "markdown",
   "metadata": {},
   "source": [
    "#### 👇 Tasks\n",
    "\n",
    "- ✔️ Sort `df_by_color` by `registrations` in **descending** order.\n",
    "- ✔️ Update `df_by_color` without creating a new variable.\n",
    "    - In other words, you're performing an **in-place** sort.\n",
    "\n",
    "#### 🔑 Expected Output\n",
    "\n",
    "Your index column may contain different values.\n",
    "\n",
    "|      | manufacturer   | model   | color   |   registrations |\n",
    "|-----:|:---------------|:--------|:--------|----------------:|\n",
    "| 8387 | Toyota         | Camry   | Black   |           46871 |\n",
    "| 8428 | Toyota         | Camry   | Silver  |           29727 |\n",
    "| 8436 | Toyota         | Camry   | White   |           23874 |\n",
    "| 6922 | Nissan         | Altima  | Black   |           18962 |\n",
    "| 8566 | Toyota         | Corolla | Silver  |           18361 |"
   ]
  },
  {
   "cell_type": "code",
   "execution_count": 54,
   "metadata": {},
   "outputs": [
    {
     "data": {
      "text/html": [
       "<div>\n",
       "<style scoped>\n",
       "    .dataframe tbody tr th:only-of-type {\n",
       "        vertical-align: middle;\n",
       "    }\n",
       "\n",
       "    .dataframe tbody tr th {\n",
       "        vertical-align: top;\n",
       "    }\n",
       "\n",
       "    .dataframe thead th {\n",
       "        text-align: right;\n",
       "    }\n",
       "</style>\n",
       "<table border=\"1\" class=\"dataframe\">\n",
       "  <thead>\n",
       "    <tr style=\"text-align: right;\">\n",
       "      <th></th>\n",
       "      <th>manufacturer</th>\n",
       "      <th>model</th>\n",
       "      <th>color</th>\n",
       "      <th>registrations</th>\n",
       "    </tr>\n",
       "  </thead>\n",
       "  <tbody>\n",
       "    <tr>\n",
       "      <th>7324</th>\n",
       "      <td>Toyota</td>\n",
       "      <td>Camry</td>\n",
       "      <td>Black</td>\n",
       "      <td>43233</td>\n",
       "    </tr>\n",
       "    <tr>\n",
       "      <th>7363</th>\n",
       "      <td>Toyota</td>\n",
       "      <td>Camry</td>\n",
       "      <td>Silver</td>\n",
       "      <td>26359</td>\n",
       "    </tr>\n",
       "    <tr>\n",
       "      <th>7371</th>\n",
       "      <td>Toyota</td>\n",
       "      <td>Camry</td>\n",
       "      <td>White</td>\n",
       "      <td>22224</td>\n",
       "    </tr>\n",
       "    <tr>\n",
       "      <th>6038</th>\n",
       "      <td>Nissan</td>\n",
       "      <td>Altima</td>\n",
       "      <td>Black</td>\n",
       "      <td>18185</td>\n",
       "    </tr>\n",
       "    <tr>\n",
       "      <th>7342</th>\n",
       "      <td>Toyota</td>\n",
       "      <td>Camry</td>\n",
       "      <td>Gray</td>\n",
       "      <td>16563</td>\n",
       "    </tr>\n",
       "  </tbody>\n",
       "</table>\n",
       "</div>"
      ],
      "text/plain": [
       "     manufacturer   model   color  registrations\n",
       "7324       Toyota   Camry   Black          43233\n",
       "7363       Toyota   Camry  Silver          26359\n",
       "7371       Toyota   Camry   White          22224\n",
       "6038       Nissan  Altima   Black          18185\n",
       "7342       Toyota   Camry    Gray          16563"
      ]
     },
     "execution_count": 54,
     "metadata": {},
     "output_type": "execute_result"
    }
   ],
   "source": [
    "### BEGIN SOLUTION\n",
    "df_by_color.sort_values('registrations', ascending=False, inplace=True)\n",
    "### END SOLUTION\n",
    "\n",
    "df_by_color.head(5)"
   ]
  },
  {
   "cell_type": "markdown",
   "metadata": {},
   "source": [
    "#### 🧭 Check Your Work\n",
    "\n",
    "- Once you're done, run the code cell below to test correctness.\n",
    "- ✔️ If the code cell runs without an error, you're good to move on.\n",
    "- ❌ If the code cell throws an error, go back and fix incorrect parts."
   ]
  },
  {
   "cell_type": "code",
   "execution_count": 55,
   "metadata": {
    "nbgrader": {
     "grade": true,
     "grade_id": "part-26",
     "locked": true,
     "points": "3",
     "solution": false
    }
   },
   "outputs": [],
   "source": [
    "# Code Generated by LambdaGrader\n",
    "try:\n",
    "    _did_pass = True\n",
    "    _message = ''\n",
    "    # DO NOT CHANGE THE CODE IN THIS CELL\n",
    "    _test_case = \"part-26\"\n",
    "    _points = 3\n",
    "\n",
    "    df_check = df_v_backup.groupby(['COLOR', 'MODEL', 'MAKE'][::-1]) \\\n",
    "        .agg({'number_of_trips'.upper(): ''.join(['c', 'ou', 'n', 't'])}) \\\n",
    "        .reset_index()\n",
    "    df_check.columns = list(map(lambda x: x.lower(), ['RegIstraTioNs', 'CoLoR', 'MoDeL', 'ManUFacTuReR'][::-1]))\n",
    "\n",
    "    pd.testing.assert_series_equal(df_check['registrations'].sort_values(ascending=False).reset_index(drop=True),\n",
    "                                   df_by_color['registrations'].reset_index(drop=True))\n",
    "    pd.testing.assert_frame_equal(df_check\n",
    "                                      .sort_values(['manufacturer', 'model', 'color'])\n",
    "                                      .reset_index(drop=True),\n",
    "                                  df_by_color\n",
    "                                      .sort_values(['manufacturer', 'model', 'color'])\n",
    "                                      .reset_index(drop=True))\n",
    "except BaseException as ex:\n",
    "    _did_pass = False\n",
    "    _message = ''.join(traceback.TracebackException.from_exception(ex).format())\n",
    "finally:\n",
    "    _record_test_case(_test_case, _did_pass, _points, _message)"
   ]
  },
  {
   "cell_type": "code",
   "execution_count": 56,
   "metadata": {},
   "outputs": [
    {
     "name": "stdout",
     "output_type": "stream",
     "text": [
      "{'grading_finished_at': '2022-09-21T23:53:11.369202', 'grading_duration_in_seconds': 8, 'learner_score': 80, 'total_available': 80, 'num_test_cases': 26, 'num_passed_cases': 26, 'num_failed_cases': 0, 'results': [{'test_case_name': 'part-01', 'available_points': 2, 'points': 2, 'pass': True, 'message': ''}, {'test_case_name': 'part-02', 'available_points': 2, 'points': 2, 'pass': True, 'message': ''}, {'test_case_name': 'part-03', 'available_points': 2, 'points': 2, 'pass': True, 'message': ''}, {'test_case_name': 'part-04', 'available_points': 3, 'points': 3, 'pass': True, 'message': ''}, {'test_case_name': 'part-05', 'available_points': 3, 'points': 3, 'pass': True, 'message': ''}, {'test_case_name': 'part-06', 'available_points': 2, 'points': 2, 'pass': True, 'message': ''}, {'test_case_name': 'part-07', 'available_points': 3, 'points': 3, 'pass': True, 'message': ''}, {'test_case_name': 'part-08', 'available_points': 4, 'points': 4, 'pass': True, 'message': ''}, {'test_case_name': 'part-09', 'available_points': 4, 'points': 4, 'pass': True, 'message': ''}, {'test_case_name': 'part-10', 'available_points': 3, 'points': 3, 'pass': True, 'message': ''}, {'test_case_name': 'part-11', 'available_points': 4, 'points': 4, 'pass': True, 'message': ''}, {'test_case_name': 'part-12', 'available_points': 3, 'points': 3, 'pass': True, 'message': ''}, {'test_case_name': 'part-13', 'available_points': 6, 'points': 6, 'pass': True, 'message': ''}, {'test_case_name': 'part-14', 'available_points': 3, 'points': 3, 'pass': True, 'message': ''}, {'test_case_name': 'part-15', 'available_points': 3, 'points': 3, 'pass': True, 'message': ''}, {'test_case_name': 'part-16', 'available_points': 5, 'points': 5, 'pass': True, 'message': ''}, {'test_case_name': 'part-17', 'available_points': 6, 'points': 6, 'pass': True, 'message': ''}, {'test_case_name': 'part-18', 'available_points': 3, 'points': 3, 'pass': True, 'message': ''}, {'test_case_name': 'part-19', 'available_points': 3, 'points': 3, 'pass': True, 'message': ''}, {'test_case_name': 'part-20', 'available_points': 2, 'points': 2, 'pass': True, 'message': ''}, {'test_case_name': 'part-21', 'available_points': 2, 'points': 2, 'pass': True, 'message': ''}, {'test_case_name': 'part-22', 'available_points': 2, 'points': 2, 'pass': True, 'message': ''}, {'test_case_name': 'part-23', 'available_points': 2, 'points': 2, 'pass': True, 'message': ''}, {'test_case_name': 'part-24', 'available_points': 2, 'points': 2, 'pass': True, 'message': ''}, {'test_case_name': 'part-25', 'available_points': 3, 'points': 3, 'pass': True, 'message': ''}, {'test_case_name': 'part-26', 'available_points': 3, 'points': 3, 'pass': True, 'message': ''}]}\n"
     ]
    }
   ],
   "source": [
    "# LambdaGrader After File Code\n",
    "# REMOVE_IN_HTML_OUTPUT\n",
    "import os\n",
    "\n",
    "grader_output_file_name = 'lambdagrader-result.json'\n",
    "grading_end_time = datetime.now()\n",
    "\n",
    "_graded_result['grading_finished_at'] = grading_end_time.isoformat()\n",
    "_graded_result['grading_duration_in_seconds'] = int((grading_end_time - grading_start_time).total_seconds())\n",
    "_graded_result['learner_score'] = 0\n",
    "_graded_result['total_available'] = 0\n",
    "_graded_result['num_test_cases'] = len(_graded_result['results'])\n",
    "_graded_result['num_passed_cases'] = 0\n",
    "_graded_result['num_failed_cases'] = 0\n",
    "\n",
    "for test_case_result in _graded_result['results']:\n",
    "    _graded_result['learner_score'] += test_case_result['points']\n",
    "    _graded_result['total_available'] += test_case_result['available_points']\n",
    "    \n",
    "    if test_case_result['pass']:\n",
    "        _graded_result['num_passed_cases'] += 1\n",
    "    else:\n",
    "        _graded_result['num_failed_cases'] += 1\n",
    "\n",
    "print(_graded_result)\n",
    "    \n",
    "with open(grader_output_file_name, 'w') as fp:\n",
    "    json.dump(_graded_result, fp)"
   ]
  }
 ],
 "metadata": {
  "kernelspec": {
   "display_name": "Python 3 (ipykernel)",
   "language": "python",
   "name": "python3"
  },
  "language_info": {
   "codemirror_mode": {
    "name": "ipython",
    "version": 3
   },
   "file_extension": ".py",
   "mimetype": "text/x-python",
   "name": "python",
   "nbconvert_exporter": "python",
   "pygments_lexer": "ipython3",
   "version": "3.9.7"
  }
 },
 "nbformat": 4,
 "nbformat_minor": 4
}
