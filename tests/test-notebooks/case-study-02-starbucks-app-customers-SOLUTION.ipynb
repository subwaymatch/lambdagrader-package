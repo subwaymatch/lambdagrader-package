{
 "cells": [
  {
   "cell_type": "markdown",
   "id": "204faa59",
   "metadata": {},
   "source": [
    "# Analyzing Starbucks App Customer Data\n",
    "\n",
    "- 🏆 80 points available\n",
    "- 🤠 Author: Park (ypark32@illinois.edu)\n",
    "- ✏️ Last updated on 09/19/2022"
   ]
  },
  {
   "cell_type": "markdown",
   "id": "127f0009",
   "metadata": {},
   "source": [
    "---\n",
    "\n",
    "## 💎 Case overview\n",
    "\n",
    "You're hired by Starbucks as a business analyst to identify what type of loyalty offers have been successful in the past. Before diving into loyalty offers, you first want to understand the customer behaviors by demographics (gender, age, and income) without taking loyalty offers into account.\n",
    "\n",
    "![Starbucks Image](https://github.com/bdi475/images/blob/ab5405d6b8bdcadf788034d957475d272d5f7c3e/case-studies/starbucks-rewards-app/starbucks-case-intro.jpg?raw=true)\n",
    "\n",
    "The dataset was originally provided to Udacity by Starbucks as a part of a Data Science nanodegree. Three datasets were provided.\n",
    "\n",
    "1. Transcript: a list of all purchases (transactions) and events related loyalty offers\n",
    "2. Profile: demographics data for each customer in the Rewards app; customers who have not provided their demographics information will show up as `np.nan`\n",
    "3. Portfolio: offer information\n",
    "\n",
    "For the purpose of this case study, we will only use the first two datasets.\n",
    "\n",
    "### ⚔️ Your goal\n",
    "\n",
    "Below are some of the questions you want to answer.\n",
    "\n",
    "- How many purchases were made through the rewards app?\n",
    "- What were the mean, median, and max transaction amounts?\n",
    "- How many customers have not provided their demographic information?\n",
    "- On average, which gender makes the largest purchases? Which gender are most likely to spend the least amount?\n",
    "- Is there a correlation between the age group and customer behaviors?\n",
    "- How about the income group?\n",
    "- Which gender/age groups are more “lucrative” compared to others?"
   ]
  },
  {
   "cell_type": "markdown",
   "id": "e2761943",
   "metadata": {
    "id": "DiznwS2xem7h",
    "nbgrader": {
     "grade": false,
     "locked": true,
     "solution": false
    }
   },
   "source": [
    "▶️ First, run the code cell below to import `unittest`, a module used for **🧭 Check Your Work** sections."
   ]
  },
  {
   "cell_type": "code",
   "execution_count": 1,
   "id": "0aa20fd2",
   "metadata": {
    "id": "xOFvIip0em7h",
    "nbgrader": {
     "grade": false,
     "locked": false,
     "solution": false
    }
   },
   "outputs": [],
   "source": [
    "# DO NOT MODIFY THE CODE IN THIS CELL\n",
    "import unittest\n",
    "tc = unittest.TestCase()"
   ]
  },
  {
   "cell_type": "markdown",
   "id": "ab88dd13",
   "metadata": {
    "nbgrader": {
     "grade": false,
     "locked": true,
     "solution": false
    },
    "tags": []
   },
   "source": [
    "---\n",
    "\n",
    "### 🎯 Part 1: Import Pandas and NumPy"
   ]
  },
  {
   "cell_type": "markdown",
   "id": "e72cc48c",
   "metadata": {
    "id": "i3PWWkSaem7i",
    "nbgrader": {
     "grade": false,
     "locked": true,
     "solution": false
    }
   },
   "source": [
    "#### 👇 Tasks\n",
    "\n",
    "- ✔️ Import the following Python packages.\n",
    "    1. `pandas`: Use alias `pd`.\n",
    "    2. `numpy`: Use alias `np`."
   ]
  },
  {
   "cell_type": "code",
   "execution_count": 2,
   "id": "2fb6f3df",
   "metadata": {
    "id": "jfnhv8_Yem7j"
   },
   "outputs": [],
   "source": [
    "# YOUR CODE BEGINS\n",
    "import pandas as pd\n",
    "import numpy as np\n",
    "# YOUR CODE ENDS"
   ]
  },
  {
   "cell_type": "markdown",
   "id": "4de4a413",
   "metadata": {
    "id": "EdrK-mBsem7r",
    "nbgrader": {
     "grade": false,
     "locked": true,
     "solution": false
    }
   },
   "source": [
    "#### 🧭 Check Your Work\n",
    "\n",
    "- Once you're done, run the code cell below to test correctness.\n",
    "- ✔️ If the code cell runs without an error, you're good to move on.\n",
    "- ❌ If the code cell throws an error, go back and fix any incorrect parts."
   ]
  },
  {
   "cell_type": "code",
   "execution_count": 3,
   "id": "cf8c9152",
   "metadata": {
    "nbgrader": {
     "grade": true,
     "grade_id": "part-01",
     "locked": true,
     "points": "2",
     "solution": false
    }
   },
   "outputs": [],
   "source": [
    "# DO NOT CHANGE THE CODE IN THIS CELL\n",
    "_test_case = 'part-01'\n",
    "_points = 2\n",
    "\n",
    "tc.assertTrue('pd' in globals(), 'Check whether you have correctly import Pandas with an alias.')\n",
    "tc.assertTrue('np' in globals(), 'Check whether you have correctly import NumPy with an alias.')\n",
    "\n",
    "# prevent user mixing up pandas and numpy\n",
    "tc.assertTrue(hasattr(pd, 'DataFrame'))\n",
    "tc.assertTrue(hasattr(np, 'ufunc'))"
   ]
  },
  {
   "cell_type": "markdown",
   "id": "e5a3c188",
   "metadata": {
    "nbgrader": {
     "grade": false,
     "locked": true,
     "solution": false
    }
   },
   "source": [
    "---\n",
    "\n",
    "### 📌 Load data\n",
    "\n",
    "Throughout this problem set, you'll work with the Starbucks Customer Rewards Program dataset. ☕ The dataset was originally released as a part of a capstone project of a Udacity course.\n",
    "\n",
    "For the purpose of this course, the original dataset in JSON format has been transformed to CSV files for convenience. You can download the original JSON files [here](https://www.kaggle.com/blacktile/starbucks-app-customer-reward-program-data?select=portfolio.json).\n",
    "\n",
    "▶️ Run the code cell below to read the transcripts data into `df_transcript`."
   ]
  },
  {
   "cell_type": "code",
   "execution_count": 4,
   "id": "b16941aa",
   "metadata": {
    "nbgrader": {
     "grade": false,
     "locked": false,
     "solution": false
    }
   },
   "outputs": [
    {
     "data": {
      "text/html": [
       "<div>\n",
       "<style scoped>\n",
       "    .dataframe tbody tr th:only-of-type {\n",
       "        vertical-align: middle;\n",
       "    }\n",
       "\n",
       "    .dataframe tbody tr th {\n",
       "        vertical-align: top;\n",
       "    }\n",
       "\n",
       "    .dataframe thead th {\n",
       "        text-align: right;\n",
       "    }\n",
       "</style>\n",
       "<table border=\"1\" class=\"dataframe\">\n",
       "  <thead>\n",
       "    <tr style=\"text-align: right;\">\n",
       "      <th></th>\n",
       "      <th>member_id</th>\n",
       "      <th>event</th>\n",
       "      <th>time</th>\n",
       "      <th>offer_id</th>\n",
       "      <th>amount</th>\n",
       "    </tr>\n",
       "  </thead>\n",
       "  <tbody>\n",
       "    <tr>\n",
       "      <th>306524</th>\n",
       "      <td>d613ca9c59dd42f497bdbf6178da54a7</td>\n",
       "      <td>transaction</td>\n",
       "      <td>714</td>\n",
       "      <td>NaN</td>\n",
       "      <td>25.14</td>\n",
       "    </tr>\n",
       "    <tr>\n",
       "      <th>306525</th>\n",
       "      <td>eec70ab28af74a22a4aeb889c0317944</td>\n",
       "      <td>transaction</td>\n",
       "      <td>714</td>\n",
       "      <td>NaN</td>\n",
       "      <td>43.58</td>\n",
       "    </tr>\n",
       "    <tr>\n",
       "      <th>306526</th>\n",
       "      <td>24f56b5e1849462093931b164eb803b5</td>\n",
       "      <td>transaction</td>\n",
       "      <td>714</td>\n",
       "      <td>NaN</td>\n",
       "      <td>22.64</td>\n",
       "    </tr>\n",
       "    <tr>\n",
       "      <th>306527</th>\n",
       "      <td>24f56b5e1849462093931b164eb803b5</td>\n",
       "      <td>offer completed</td>\n",
       "      <td>714</td>\n",
       "      <td>fafdcd668e3743c1bb461111dcafc2a4</td>\n",
       "      <td>NaN</td>\n",
       "    </tr>\n",
       "    <tr>\n",
       "      <th>306528</th>\n",
       "      <td>5ca2620962114246ab218fc648eb3934</td>\n",
       "      <td>transaction</td>\n",
       "      <td>714</td>\n",
       "      <td>NaN</td>\n",
       "      <td>2.20</td>\n",
       "    </tr>\n",
       "    <tr>\n",
       "      <th>306529</th>\n",
       "      <td>b3a1272bc9904337b331bf348c3e8c17</td>\n",
       "      <td>transaction</td>\n",
       "      <td>714</td>\n",
       "      <td>NaN</td>\n",
       "      <td>1.59</td>\n",
       "    </tr>\n",
       "    <tr>\n",
       "      <th>306530</th>\n",
       "      <td>68213b08d99a4ae1b0dcb72aebd9aa35</td>\n",
       "      <td>transaction</td>\n",
       "      <td>714</td>\n",
       "      <td>NaN</td>\n",
       "      <td>9.53</td>\n",
       "    </tr>\n",
       "    <tr>\n",
       "      <th>306531</th>\n",
       "      <td>a00058cf10334a308c68e7631c529907</td>\n",
       "      <td>transaction</td>\n",
       "      <td>714</td>\n",
       "      <td>NaN</td>\n",
       "      <td>3.61</td>\n",
       "    </tr>\n",
       "    <tr>\n",
       "      <th>306532</th>\n",
       "      <td>76ddbd6576844afe811f1a3c0fbb5bec</td>\n",
       "      <td>transaction</td>\n",
       "      <td>714</td>\n",
       "      <td>NaN</td>\n",
       "      <td>3.53</td>\n",
       "    </tr>\n",
       "    <tr>\n",
       "      <th>306533</th>\n",
       "      <td>c02b10e8752c4d8e9b73f918558531f7</td>\n",
       "      <td>transaction</td>\n",
       "      <td>714</td>\n",
       "      <td>NaN</td>\n",
       "      <td>4.05</td>\n",
       "    </tr>\n",
       "  </tbody>\n",
       "</table>\n",
       "</div>"
      ],
      "text/plain": [
       "                               member_id            event  time  \\\n",
       "306524  d613ca9c59dd42f497bdbf6178da54a7      transaction   714   \n",
       "306525  eec70ab28af74a22a4aeb889c0317944      transaction   714   \n",
       "306526  24f56b5e1849462093931b164eb803b5      transaction   714   \n",
       "306527  24f56b5e1849462093931b164eb803b5  offer completed   714   \n",
       "306528  5ca2620962114246ab218fc648eb3934      transaction   714   \n",
       "306529  b3a1272bc9904337b331bf348c3e8c17      transaction   714   \n",
       "306530  68213b08d99a4ae1b0dcb72aebd9aa35      transaction   714   \n",
       "306531  a00058cf10334a308c68e7631c529907      transaction   714   \n",
       "306532  76ddbd6576844afe811f1a3c0fbb5bec      transaction   714   \n",
       "306533  c02b10e8752c4d8e9b73f918558531f7      transaction   714   \n",
       "\n",
       "                                offer_id  amount  \n",
       "306524                               NaN   25.14  \n",
       "306525                               NaN   43.58  \n",
       "306526                               NaN   22.64  \n",
       "306527  fafdcd668e3743c1bb461111dcafc2a4     NaN  \n",
       "306528                               NaN    2.20  \n",
       "306529                               NaN    1.59  \n",
       "306530                               NaN    9.53  \n",
       "306531                               NaN    3.61  \n",
       "306532                               NaN    3.53  \n",
       "306533                               NaN    4.05  "
      ]
     },
     "execution_count": 4,
     "metadata": {},
     "output_type": "execute_result"
    }
   ],
   "source": [
    "# DO NOT CHANGE THE CODE IN THIS CELL\n",
    "df_transcript = pd.read_csv('https://github.com/bdi475/datasets/raw/main/starbucks-rewards/transcript.v2.csv.gz')\n",
    "\n",
    "# Used for intermediate checks\n",
    "df_transcript_backup = df_transcript.copy()\n",
    "\n",
    "# Print 10 last rows\n",
    "df_transcript.tail(10)"
   ]
  },
  {
   "cell_type": "markdown",
   "id": "7e36852c",
   "metadata": {
    "id": "LI33A8-jem7m",
    "nbgrader": {
     "grade": false,
     "locked": true,
     "solution": false
    }
   },
   "source": [
    "The table below describes the columns in `df_transcript`.\n",
    "\n",
    "| Field | Description |\n",
    "|---|---|\n",
    "| member_id | Member ID |\n",
    "| event | Type of event ('offer received',   'offer completed', 'transaction') |\n",
    "| time | Time as continuous value |\n",
    "| offer_id | Offer ID |\n",
    "| amount | Amount of purchase or NaN if   non-purchase |"
   ]
  },
  {
   "cell_type": "markdown",
   "id": "7fa406ba",
   "metadata": {
    "id": "Dg-bBkF8fGaN",
    "nbgrader": {
     "grade": false,
     "locked": true,
     "solution": false
    }
   },
   "source": [
    "---\n",
    "\n",
    "### 🎯 Part 2: Find the number of rows and columns\n",
    "\n",
    "#### 👇 Tasks\n",
    "\n",
    "- ✔️ Store the number of rows in `df_transcript` to a new variable named `num_rows`.\n",
    "- ✔️ Store the number of columns in `df_transcript` to a new variable named `num_cols`.\n",
    "- ✔️ Use `.shape`, not `len()`."
   ]
  },
  {
   "cell_type": "code",
   "execution_count": 5,
   "id": "169b18eb",
   "metadata": {
    "nbgrader": {
     "grade": false,
     "locked": false,
     "solution": false
    }
   },
   "outputs": [
    {
     "name": "stdout",
     "output_type": "stream",
     "text": [
      "Number of rows: 306534\n",
      "Number of columns: 5\n"
     ]
    }
   ],
   "source": [
    "# YOUR CODE BEGINS\n",
    "num_rows = df_transcript.shape[0]\n",
    "num_cols = df_transcript.shape[1]\n",
    "# YOUR CODE ENDS\n",
    "\n",
    "print(f\"Number of rows: {num_rows}\")\n",
    "print(f\"Number of columns: {num_cols}\")"
   ]
  },
  {
   "cell_type": "markdown",
   "id": "ee5ccd37",
   "metadata": {
    "id": "EdrK-mBsem7r",
    "nbgrader": {
     "grade": false,
     "locked": true,
     "solution": false
    }
   },
   "source": [
    "#### 🧭 Check Your Work"
   ]
  },
  {
   "cell_type": "code",
   "execution_count": 6,
   "id": "56a0d599",
   "metadata": {
    "nbgrader": {
     "grade": true,
     "grade_id": "part-02",
     "locked": true,
     "points": "2",
     "solution": false
    }
   },
   "outputs": [],
   "source": [
    "# DO NOT CHANGE THE CODE IN THIS CELL\n",
    "_test_case = 'part-02'\n",
    "_points = 2\n",
    "\n",
    "tc.assertEqual(num_rows, len(df_transcript_backup.index), f\"Number of rows should be {len(df_transcript_backup.index)}\")\n",
    "tc.assertEqual(num_cols, len(df_transcript_backup.columns), f\"Number of columns should be {len(df_transcript_backup.columns)}\")"
   ]
  },
  {
   "cell_type": "markdown",
   "id": "8f958796",
   "metadata": {
    "id": "Dg-bBkF8fGaN"
   },
   "source": [
    "---\n",
    "\n",
    "### 🎯 Part 3: Find unique event types\n",
    "\n",
    "#### 👇 Tasks\n",
    "\n",
    "- ✔️ Using `df_transcript`, find the unique list of event types.\n",
    "- ✔️ In other words, find the unique values in the `event` column.\n",
    "- ✔️ Store the result to a new variable named `unique_events`.\n",
    "- ✔️ `unique_events` can either be a Python `list` or a Pandas `Series`.\n",
    "\n",
    "#### 🚀 Sample code\n",
    "\n",
    "```python\n",
    "unique_values = my_dataframe['my_column'].unique()\n",
    "```"
   ]
  },
  {
   "cell_type": "code",
   "execution_count": 7,
   "id": "c6e17710",
   "metadata": {
    "nbgrader": {
     "grade": false,
     "locked": false,
     "solution": false
    }
   },
   "outputs": [
    {
     "name": "stdout",
     "output_type": "stream",
     "text": [
      "Event types: ['offer received' 'offer viewed' 'transaction' 'offer completed']\n"
     ]
    }
   ],
   "source": [
    "# YOUR CODE BEGINS\n",
    "unique_events = df_transcript[\"event\"].unique()\n",
    "# YOUR CODE ENDS\n",
    "\n",
    "print(f'Event types: {unique_events}')"
   ]
  },
  {
   "cell_type": "markdown",
   "id": "a5e8228f",
   "metadata": {
    "id": "EdrK-mBsem7r"
   },
   "source": [
    "#### 🧭 Check Your Work"
   ]
  },
  {
   "cell_type": "code",
   "execution_count": 8,
   "id": "afbea34a",
   "metadata": {
    "nbgrader": {
     "grade": true,
     "grade_id": "part-03",
     "locked": true,
     "points": "3",
     "solution": false
    }
   },
   "outputs": [],
   "source": [
    "# DO NOT CHANGE THE CODE IN THIS CELL\n",
    "_test_case = 'part-03'\n",
    "_points = 3\n",
    "\n",
    "unique_set = set(unique_events)\n",
    "unique_CHECK = pd.Series(['received', 'viewed', 'completed'])\n",
    "unique_CHECK = 'offer ' + unique_CHECK\n",
    "unique_CHECK = pd.concat([unique_CHECK, pd.Series(['transaction'])])\n",
    "\n",
    "tc.assertEqual(unique_set, set(unique_CHECK))"
   ]
  },
  {
   "cell_type": "markdown",
   "id": "e6ccd957",
   "metadata": {
    "id": "Dg-bBkF8fGaN"
   },
   "source": [
    "---\n",
    "\n",
    "### 🎯 Part 4: Find all customer purchases\n",
    "\n",
    "There are four event types. We'll first only look at customer purchases (transactions).\n",
    "\n",
    "#### 👇 Tasks\n",
    "\n",
    "- ✔️ Using `df_transcript`, find rows where the `event` is `\"transaction\"`.\n",
    "    - We're excluding any events related to loyalty offers for now.\n",
    "- ✔️ Store the filtered rows to `df_transactions`.\n",
    "- ✔️ `df_transcript` should remain unaltered."
   ]
  },
  {
   "cell_type": "code",
   "execution_count": 9,
   "id": "6e017889",
   "metadata": {},
   "outputs": [
    {
     "data": {
      "text/html": [
       "<div>\n",
       "<style scoped>\n",
       "    .dataframe tbody tr th:only-of-type {\n",
       "        vertical-align: middle;\n",
       "    }\n",
       "\n",
       "    .dataframe tbody tr th {\n",
       "        vertical-align: top;\n",
       "    }\n",
       "\n",
       "    .dataframe thead th {\n",
       "        text-align: right;\n",
       "    }\n",
       "</style>\n",
       "<table border=\"1\" class=\"dataframe\">\n",
       "  <thead>\n",
       "    <tr style=\"text-align: right;\">\n",
       "      <th></th>\n",
       "      <th>member_id</th>\n",
       "      <th>event</th>\n",
       "      <th>time</th>\n",
       "      <th>offer_id</th>\n",
       "      <th>amount</th>\n",
       "    </tr>\n",
       "  </thead>\n",
       "  <tbody>\n",
       "    <tr>\n",
       "      <th>12654</th>\n",
       "      <td>02c083884c7d45b39cc68e1314fec56c</td>\n",
       "      <td>transaction</td>\n",
       "      <td>0</td>\n",
       "      <td>NaN</td>\n",
       "      <td>0.83</td>\n",
       "    </tr>\n",
       "    <tr>\n",
       "      <th>12657</th>\n",
       "      <td>9fa9ae8f57894cc9a3b8a9bbe0fc1b2f</td>\n",
       "      <td>transaction</td>\n",
       "      <td>0</td>\n",
       "      <td>NaN</td>\n",
       "      <td>34.56</td>\n",
       "    </tr>\n",
       "    <tr>\n",
       "      <th>12659</th>\n",
       "      <td>54890f68699049c2a04d415abc25e717</td>\n",
       "      <td>transaction</td>\n",
       "      <td>0</td>\n",
       "      <td>NaN</td>\n",
       "      <td>13.23</td>\n",
       "    </tr>\n",
       "  </tbody>\n",
       "</table>\n",
       "</div>"
      ],
      "text/plain": [
       "                              member_id        event  time offer_id  amount\n",
       "12654  02c083884c7d45b39cc68e1314fec56c  transaction     0      NaN    0.83\n",
       "12657  9fa9ae8f57894cc9a3b8a9bbe0fc1b2f  transaction     0      NaN   34.56\n",
       "12659  54890f68699049c2a04d415abc25e717  transaction     0      NaN   13.23"
      ]
     },
     "execution_count": 9,
     "metadata": {},
     "output_type": "execute_result"
    }
   ],
   "source": [
    "# YOUR CODE BEGINS\n",
    "df_transactions = df_transcript[df_transcript[\"event\"] == \"transaction\"]\n",
    "# YOUR CODE ENDS\n",
    "\n",
    "df_transactions.head(3)"
   ]
  },
  {
   "cell_type": "markdown",
   "id": "39d5a03d",
   "metadata": {},
   "source": [
    "#### 🔑 Expected Output of `df_transactions.head(3)`\n",
    "\n",
    "|       |                        member_id |       event | time | offer_id | amount |\n",
    "|------:|---------------------------------:|------------:|-----:|---------:|-------:|\n",
    "| 12654 | 02c083884c7d45b39cc68e1314fec56c | transaction |    0 |      NaN |   0.83 |\n",
    "| 12657 | 9fa9ae8f57894cc9a3b8a9bbe0fc1b2f | transaction |    0 |      NaN |  34.56 |\n",
    "| 12659 | 54890f68699049c2a04d415abc25e717 | transaction |    0 |      NaN |  13.23 |"
   ]
  },
  {
   "cell_type": "markdown",
   "id": "afb9368b",
   "metadata": {
    "id": "EdrK-mBsem7r"
   },
   "source": [
    "#### 🧭 Check Your Work"
   ]
  },
  {
   "cell_type": "code",
   "execution_count": 10,
   "id": "b156e751",
   "metadata": {
    "nbgrader": {
     "grade": true,
     "grade_id": "part-04",
     "locked": true,
     "points": "3",
     "solution": false
    }
   },
   "outputs": [],
   "source": [
    "# DO NOT CHANGE THE CODE IN THIS CELL\n",
    "_test_case = 'part-04'\n",
    "_points = 3\n",
    "\n",
    "# df_you should remain unaltered\n",
    "pd.testing.assert_frame_equal(df_transcript, df_transcript_backup, \"The original DataFrame should remain unaltered\")\n",
    "\n",
    "# Check result\n",
    "pd.testing.assert_frame_equal(df_transactions.sort_values(df_transactions.columns.to_list()).reset_index(drop=True),\n",
    "                              df_transcript_backup.query('event == \"transaction\"')\n",
    "                                 .sort_values(df_transcript_backup.columns.tolist()).reset_index(drop=True))"
   ]
  },
  {
   "cell_type": "markdown",
   "id": "fc6b3bd2",
   "metadata": {},
   "source": [
    "---\n",
    "\n",
    "### 🎯 Part 5: Drop unused columns\n",
    "\n",
    "▶️ Before proceeding, run the code cell below."
   ]
  },
  {
   "cell_type": "code",
   "execution_count": 11,
   "id": "77501bf3",
   "metadata": {},
   "outputs": [],
   "source": [
    "# DO NOT CHANGE THE CODE BELOW\n",
    "df_transactions = df_transactions.copy()"
   ]
  },
  {
   "cell_type": "markdown",
   "id": "075f2aa3",
   "metadata": {
    "nbgrader": {
     "grade": false,
     "locked": true,
     "solution": false
    }
   },
   "source": [
    "#### 👇 Tasks\n",
    "\n",
    "- ✔️ Drop `event`, `time`, and `offer_id` columns from `df_transactions` **in-place**.\n",
    "- ✔️ You should directly drop the columns from `df_transactions` using the `inplace=True` option.\n",
    "\n",
    "#### 🚀 Hints\n",
    "\n",
    "Use the following code as a reference.\n",
    "\n",
    "```python\n",
    "my_dataframe.drop(columns=[\"my_column1\", \"my_column2\"], inplace=True)\n",
    "```"
   ]
  },
  {
   "cell_type": "code",
   "execution_count": 12,
   "id": "c3477221",
   "metadata": {},
   "outputs": [
    {
     "data": {
      "text/html": [
       "<div>\n",
       "<style scoped>\n",
       "    .dataframe tbody tr th:only-of-type {\n",
       "        vertical-align: middle;\n",
       "    }\n",
       "\n",
       "    .dataframe tbody tr th {\n",
       "        vertical-align: top;\n",
       "    }\n",
       "\n",
       "    .dataframe thead th {\n",
       "        text-align: right;\n",
       "    }\n",
       "</style>\n",
       "<table border=\"1\" class=\"dataframe\">\n",
       "  <thead>\n",
       "    <tr style=\"text-align: right;\">\n",
       "      <th></th>\n",
       "      <th>member_id</th>\n",
       "      <th>amount</th>\n",
       "    </tr>\n",
       "  </thead>\n",
       "  <tbody>\n",
       "    <tr>\n",
       "      <th>12654</th>\n",
       "      <td>02c083884c7d45b39cc68e1314fec56c</td>\n",
       "      <td>0.83</td>\n",
       "    </tr>\n",
       "    <tr>\n",
       "      <th>12657</th>\n",
       "      <td>9fa9ae8f57894cc9a3b8a9bbe0fc1b2f</td>\n",
       "      <td>34.56</td>\n",
       "    </tr>\n",
       "    <tr>\n",
       "      <th>12659</th>\n",
       "      <td>54890f68699049c2a04d415abc25e717</td>\n",
       "      <td>13.23</td>\n",
       "    </tr>\n",
       "  </tbody>\n",
       "</table>\n",
       "</div>"
      ],
      "text/plain": [
       "                              member_id  amount\n",
       "12654  02c083884c7d45b39cc68e1314fec56c    0.83\n",
       "12657  9fa9ae8f57894cc9a3b8a9bbe0fc1b2f   34.56\n",
       "12659  54890f68699049c2a04d415abc25e717   13.23"
      ]
     },
     "execution_count": 12,
     "metadata": {},
     "output_type": "execute_result"
    }
   ],
   "source": [
    "# YOUR CODE BEGINS\n",
    "df_transactions.drop(columns=[\"event\", \"time\", \"offer_id\"], inplace=True)\n",
    "# YOUR CODE ENDS\n",
    "\n",
    "df_transactions.head(3)"
   ]
  },
  {
   "cell_type": "markdown",
   "id": "1666d472",
   "metadata": {},
   "source": [
    "#### 🔑 Expected Output\n",
    "\n",
    "|       |                        member_id | amount |\n",
    "|------:|---------------------------------:|-------:|\n",
    "| 12654 | 02c083884c7d45b39cc68e1314fec56c |   0.83 |\n",
    "| 12657 | 9fa9ae8f57894cc9a3b8a9bbe0fc1b2f |  34.56 |\n",
    "| 12659 | 54890f68699049c2a04d415abc25e717 |  13.23 |"
   ]
  },
  {
   "cell_type": "markdown",
   "id": "6834e2f9",
   "metadata": {
    "id": "EdrK-mBsem7r",
    "nbgrader": {
     "grade": false,
     "locked": true,
     "solution": false
    }
   },
   "source": [
    "#### 🧭 Check Your Work"
   ]
  },
  {
   "cell_type": "code",
   "execution_count": 13,
   "id": "f036545a",
   "metadata": {
    "nbgrader": {
     "grade": true,
     "grade_id": "part-05",
     "locked": true,
     "points": "3",
     "solution": false
    }
   },
   "outputs": [],
   "source": [
    "# DO NOT CHANGE THE CODE IN THIS CELL\n",
    "_test_case = 'part-05'\n",
    "_points = 3\n",
    "\n",
    "df_check = df_transcript_backup.query('event == \"transaction\"')[['member_id', 'amount']]\n",
    "\n",
    "# Check result\n",
    "pd.testing.assert_frame_equal(df_transactions.sort_values(df_transactions.columns.to_list()).reset_index(drop=True),\n",
    "                              df_check.sort_values(df_check.columns.tolist()).reset_index(drop=True))"
   ]
  },
  {
   "cell_type": "markdown",
   "id": "c204dd41",
   "metadata": {
    "nbgrader": {
     "grade": false,
     "locked": true,
     "solution": false
    }
   },
   "source": [
    "---\n",
    "\n",
    "### 🎯 Part 6: Count, mean, median, and max transaction amount\n",
    "\n",
    "#### 👇 Tasks\n",
    "\n",
    "- ✔️ Find the count, mean (average), max, and median of all purchase amounts.\n",
    "    - Use the `amount` column in `df_transactions`.\n",
    "- ✔️ Store the calculated results to the following three new variables:\n",
    "    - `num_transactions`: Number of transactions\n",
    "    - `amount_mean`: Average transaction amount\n",
    "    - `amount_median`: Median transaction amount\n",
    "    - `amount_max`: Maximum transaction amount\n",
    "\n",
    "#### 🚀 Hints\n",
    "\n",
    "```python\n",
    "len(my_dataframe['my_column'])     # Returns the number of row s\n",
    "my_dataframe['my_column'].mean()   # Returns the mean of a Series\n",
    "my_dataframe['my_column'].median() # Returns the median of a Series\n",
    "my_dataframe['my_column'].max()    # Returns the max of a Series\n",
    "```\n",
    "\n",
    "#### 🔑 Expected Output\n",
    "\n",
    "```\n",
    "138953 transactions\n",
    "mean=12.78, median=8.89, max=1062.28\n",
    "```"
   ]
  },
  {
   "cell_type": "code",
   "execution_count": 14,
   "id": "12e3d7ed",
   "metadata": {},
   "outputs": [
    {
     "name": "stdout",
     "output_type": "stream",
     "text": [
      "138953 transactions\n",
      "mean=12.78, median=8.89, max=1062.28\n"
     ]
    }
   ],
   "source": [
    "# YOUR CODE BEGINS\n",
    "num_transactions = len(df_transactions['amount'])\n",
    "amount_mean = df_transactions['amount'].mean()\n",
    "amount_median = df_transactions['amount'].median()\n",
    "amount_max = df_transactions['amount'].max()\n",
    "# YOUR CODE ENDS\n",
    "\n",
    "print(f'{num_transactions} transactions')\n",
    "print(f'mean={amount_mean:.2f}, median={amount_median:.2f}, max={amount_max:.2f}')"
   ]
  },
  {
   "cell_type": "markdown",
   "id": "37653474",
   "metadata": {
    "id": "EdrK-mBsem7r",
    "nbgrader": {
     "grade": false,
     "locked": true,
     "solution": false
    }
   },
   "source": [
    "#### 🧭 Check Your Work"
   ]
  },
  {
   "cell_type": "code",
   "execution_count": 15,
   "id": "fccc6648",
   "metadata": {
    "nbgrader": {
     "grade": true,
     "grade_id": "part-06",
     "locked": true,
     "points": "4",
     "solution": false
    }
   },
   "outputs": [],
   "source": [
    "# DO NOT CHANGE THE CODE IN THIS CELL\n",
    "_test_case = 'part-06'\n",
    "_points = 4\n",
    "\n",
    "tc.assertEqual(num_transactions, 138953)\n",
    "tc.assertAlmostEqual(amount_mean, 12.777356156398204)\n",
    "tc.assertAlmostEqual(amount_median, 8.89)\n",
    "tc.assertAlmostEqual(amount_max, 1062.28)"
   ]
  },
  {
   "cell_type": "markdown",
   "id": "9b5972d6",
   "metadata": {
    "nbgrader": {
     "grade": false,
     "locked": true,
     "solution": false
    }
   },
   "source": [
    "---\n",
    "\n",
    "### 📌 Load customer profiles\n",
    "\n",
    "We want to go further with the purchase data analysis by looking at the customers. Unfortunately, the information we currently have about the customers in each purchase is limited. We only have their unique IDs (e.g., `02c083884c7d45b39cc68e1314fec56c`, `9fa9ae8f57894cc9a3b8a9bbe0fc1b2f`).\n",
    "\n",
    "In the next few steps, you'll read the customer profiles data and link them to `df_transactions` using `member_id`.\n",
    "\n",
    "▶️ Run the code cell below to read the customer profiles data into `df_profiles`."
   ]
  },
  {
   "cell_type": "code",
   "execution_count": 16,
   "id": "4d187a33",
   "metadata": {},
   "outputs": [
    {
     "data": {
      "text/html": [
       "<div>\n",
       "<style scoped>\n",
       "    .dataframe tbody tr th:only-of-type {\n",
       "        vertical-align: middle;\n",
       "    }\n",
       "\n",
       "    .dataframe tbody tr th {\n",
       "        vertical-align: top;\n",
       "    }\n",
       "\n",
       "    .dataframe thead th {\n",
       "        text-align: right;\n",
       "    }\n",
       "</style>\n",
       "<table border=\"1\" class=\"dataframe\">\n",
       "  <thead>\n",
       "    <tr style=\"text-align: right;\">\n",
       "      <th></th>\n",
       "      <th>member_id</th>\n",
       "      <th>gender</th>\n",
       "      <th>age</th>\n",
       "      <th>became_member_on</th>\n",
       "      <th>income</th>\n",
       "    </tr>\n",
       "  </thead>\n",
       "  <tbody>\n",
       "    <tr>\n",
       "      <th>0</th>\n",
       "      <td>68be06ca386d4c31939f3a4f0e3dd783</td>\n",
       "      <td>NaN</td>\n",
       "      <td>NaN</td>\n",
       "      <td>2017-02-12</td>\n",
       "      <td>NaN</td>\n",
       "    </tr>\n",
       "    <tr>\n",
       "      <th>1</th>\n",
       "      <td>0610b486422d4921ae7d2bf64640c50b</td>\n",
       "      <td>F</td>\n",
       "      <td>55.0</td>\n",
       "      <td>2017-07-15</td>\n",
       "      <td>112000.0</td>\n",
       "    </tr>\n",
       "    <tr>\n",
       "      <th>2</th>\n",
       "      <td>38fe809add3b4fcf9315a9694bb96ff5</td>\n",
       "      <td>NaN</td>\n",
       "      <td>NaN</td>\n",
       "      <td>2018-07-12</td>\n",
       "      <td>NaN</td>\n",
       "    </tr>\n",
       "    <tr>\n",
       "      <th>3</th>\n",
       "      <td>78afa995795e4d85b5d9ceeca43f5fef</td>\n",
       "      <td>F</td>\n",
       "      <td>75.0</td>\n",
       "      <td>2017-05-09</td>\n",
       "      <td>100000.0</td>\n",
       "    </tr>\n",
       "    <tr>\n",
       "      <th>4</th>\n",
       "      <td>a03223e636434f42ac4c3df47e8bac43</td>\n",
       "      <td>NaN</td>\n",
       "      <td>NaN</td>\n",
       "      <td>2017-08-04</td>\n",
       "      <td>NaN</td>\n",
       "    </tr>\n",
       "    <tr>\n",
       "      <th>5</th>\n",
       "      <td>e2127556f4f64592b11af22de27a7932</td>\n",
       "      <td>M</td>\n",
       "      <td>68.0</td>\n",
       "      <td>2018-04-26</td>\n",
       "      <td>70000.0</td>\n",
       "    </tr>\n",
       "    <tr>\n",
       "      <th>6</th>\n",
       "      <td>8ec6ce2a7e7949b1bf142def7d0e0586</td>\n",
       "      <td>NaN</td>\n",
       "      <td>NaN</td>\n",
       "      <td>2017-09-25</td>\n",
       "      <td>NaN</td>\n",
       "    </tr>\n",
       "    <tr>\n",
       "      <th>7</th>\n",
       "      <td>68617ca6246f4fbc85e91a2a49552598</td>\n",
       "      <td>NaN</td>\n",
       "      <td>NaN</td>\n",
       "      <td>2017-10-02</td>\n",
       "      <td>NaN</td>\n",
       "    </tr>\n",
       "    <tr>\n",
       "      <th>8</th>\n",
       "      <td>389bc3fa690240e798340f5a15918d5c</td>\n",
       "      <td>M</td>\n",
       "      <td>65.0</td>\n",
       "      <td>2018-02-09</td>\n",
       "      <td>53000.0</td>\n",
       "    </tr>\n",
       "    <tr>\n",
       "      <th>9</th>\n",
       "      <td>8974fc5686fe429db53ddde067b88302</td>\n",
       "      <td>NaN</td>\n",
       "      <td>NaN</td>\n",
       "      <td>2016-11-22</td>\n",
       "      <td>NaN</td>\n",
       "    </tr>\n",
       "  </tbody>\n",
       "</table>\n",
       "</div>"
      ],
      "text/plain": [
       "                          member_id gender   age became_member_on    income\n",
       "0  68be06ca386d4c31939f3a4f0e3dd783    NaN   NaN       2017-02-12       NaN\n",
       "1  0610b486422d4921ae7d2bf64640c50b      F  55.0       2017-07-15  112000.0\n",
       "2  38fe809add3b4fcf9315a9694bb96ff5    NaN   NaN       2018-07-12       NaN\n",
       "3  78afa995795e4d85b5d9ceeca43f5fef      F  75.0       2017-05-09  100000.0\n",
       "4  a03223e636434f42ac4c3df47e8bac43    NaN   NaN       2017-08-04       NaN\n",
       "5  e2127556f4f64592b11af22de27a7932      M  68.0       2018-04-26   70000.0\n",
       "6  8ec6ce2a7e7949b1bf142def7d0e0586    NaN   NaN       2017-09-25       NaN\n",
       "7  68617ca6246f4fbc85e91a2a49552598    NaN   NaN       2017-10-02       NaN\n",
       "8  389bc3fa690240e798340f5a15918d5c      M  65.0       2018-02-09   53000.0\n",
       "9  8974fc5686fe429db53ddde067b88302    NaN   NaN       2016-11-22       NaN"
      ]
     },
     "execution_count": 16,
     "metadata": {},
     "output_type": "execute_result"
    }
   ],
   "source": [
    "# DO NOT CHANGE THE CODE IN THIS CELL\n",
    "df_profiles = pd.read_csv('https://github.com/bdi475/datasets/raw/main/starbucks-rewards/profile.csv')\n",
    "\n",
    "# Used for intermediate checks\n",
    "df_profiles_backup = df_profiles.copy()\n",
    "\n",
    "# Print first 10 rows\n",
    "df_profiles.head(10)"
   ]
  },
  {
   "cell_type": "markdown",
   "id": "06f5c3f8",
   "metadata": {
    "id": "LI33A8-jem7m",
    "nbgrader": {
     "grade": false,
     "locked": true,
     "solution": false
    }
   },
   "source": [
    "The table below describes the columns in `df_profiles`.\n",
    "\n",
    "| Field | Description |\n",
    "|---|---|\n",
    "| member_id | Unique identifier for each Starbucks app member |\n",
    "| gender | Gender (NaN if unknown) |\n",
    "| age | Age (NaN if unknown) |\n",
    "| became_member_on | Sign-up date |\n",
    "| income | Annual income (NaN if unknown) |"
   ]
  },
  {
   "cell_type": "markdown",
   "id": "198ca053",
   "metadata": {
    "id": "Dg-bBkF8fGaN",
    "nbgrader": {
     "grade": false,
     "locked": true,
     "solution": false
    }
   },
   "source": [
    "---\n",
    "\n",
    "### 🎯 Part 7: Find the number of rows and columns\n",
    "\n",
    "#### 👇 Tasks\n",
    "\n",
    "- ✔️ Store the number of rows in `df_profiles` to `num_rows`.\n",
    "- ✔️ Store the number of columns in `df_profiles` to `num_cols`.\n",
    "- ✔️ Use `.shape`, not `len()`."
   ]
  },
  {
   "cell_type": "code",
   "execution_count": 17,
   "id": "ca85f309",
   "metadata": {
    "nbgrader": {
     "grade": false,
     "locked": false,
     "solution": false
    }
   },
   "outputs": [
    {
     "name": "stdout",
     "output_type": "stream",
     "text": [
      "Number of rows: 17000\n",
      "Number of columns: 5\n"
     ]
    }
   ],
   "source": [
    "# YOUR CODE BEGINS\n",
    "num_rows = df_profiles.shape[0]\n",
    "num_cols = df_profiles.shape[1]\n",
    "# YOUR CODE ENDS\n",
    "\n",
    "print(f\"Number of rows: {num_rows}\")\n",
    "print(f\"Number of columns: {num_cols}\")"
   ]
  },
  {
   "cell_type": "markdown",
   "id": "1564e989",
   "metadata": {
    "id": "EdrK-mBsem7r",
    "nbgrader": {
     "grade": false,
     "locked": true,
     "solution": false
    }
   },
   "source": [
    "#### 🧭 Check Your Work"
   ]
  },
  {
   "cell_type": "code",
   "execution_count": 18,
   "id": "bd7ce578",
   "metadata": {
    "nbgrader": {
     "grade": true,
     "grade_id": "part-07",
     "locked": true,
     "points": "2",
     "solution": false
    }
   },
   "outputs": [],
   "source": [
    "# DO NOT CHANGE THE CODE IN THIS CELL\n",
    "_test_case = 'part-07'\n",
    "_points = 2\n",
    "\n",
    "tc.assertEqual(num_rows, len(df_profiles_backup.index), f\"Number of rows should be {len(df_profiles_backup.index)}\")\n",
    "tc.assertEqual(num_cols, len(df_profiles_backup.columns), f\"Number of columns should be {len(df_profiles_backup.columns)}\")"
   ]
  },
  {
   "cell_type": "markdown",
   "id": "8d08df0a",
   "metadata": {
    "nbgrader": {
     "grade": false,
     "locked": true,
     "solution": false
    }
   },
   "source": [
    "---\n",
    "### 🎯 Part 8: Find the number of rows with missing gender value\n",
    "\n",
    "#### 👇 Tasks\n",
    "\n",
    "- ✔️ Find the number of rows where the value in the `gender` column is missing (`NaN`).\n",
    "- ✔️ Store the count to a new variable named `num_missing`.\n",
    "\n",
    "#### 🚀 Hints\n",
    "\n",
    "1. `df[\"my_column\"].isna()` returns a Series of boolean values where rows with missing values return `True`.\n",
    "2. `my_boolean_series.sum()` returns the number of `True` values in a boolean Series.\n",
    "    - Python will convert `True` to `1` and `False` to `0` when performing arithmetic operations on boolean values.\n",
    "\n",
    "#### 🔑 Expected Output\n",
    "\n",
    "`There are 2175 rows where the gender value is missing.`"
   ]
  },
  {
   "cell_type": "code",
   "execution_count": 19,
   "id": "6a3d135a",
   "metadata": {},
   "outputs": [
    {
     "name": "stdout",
     "output_type": "stream",
     "text": [
      "There are 2175 rows with missing gender value.\n"
     ]
    }
   ],
   "source": [
    "# YOUR CODE BEGINS\n",
    "num_missing = df_profiles[\"gender\"].isna().sum()\n",
    "# YOUR CODE ENDS\n",
    "\n",
    "print(f'There are {num_missing} rows with missing gender value.')"
   ]
  },
  {
   "cell_type": "markdown",
   "id": "f1515c6e",
   "metadata": {
    "id": "EdrK-mBsem7r",
    "nbgrader": {
     "grade": false,
     "locked": true,
     "solution": false
    }
   },
   "source": [
    "#### 🧭 Check Your Work"
   ]
  },
  {
   "cell_type": "code",
   "execution_count": 20,
   "id": "ef0db095",
   "metadata": {
    "nbgrader": {
     "grade": true,
     "grade_id": "part-08",
     "locked": true,
     "points": "3",
     "solution": false
    }
   },
   "outputs": [],
   "source": [
    "# DO NOT CHANGE THE CODE IN THIS CELL\n",
    "_test_case = 'part-08'\n",
    "_points = 3\n",
    "\n",
    "tc.assertEqual(num_missing, 2175)"
   ]
  },
  {
   "cell_type": "markdown",
   "id": "8e03436b",
   "metadata": {
    "nbgrader": {
     "grade": false,
     "locked": true,
     "solution": false
    }
   },
   "source": [
    "---\n",
    "\n",
    "### 🎯 Part 9: Remove rows with missing values\n",
    "\n",
    "#### 👇 Tasks\n",
    "\n",
    "- ✔️ Update `df_profiles` so that it only contains rows where `gender` is NOT missing.\n",
    "\n",
    "#### 🚀 Hints\n",
    "\n",
    "```python\n",
    "my_dataframe = my_dataframe[my_dataframe['my_column'].notna()]\n",
    "```"
   ]
  },
  {
   "cell_type": "code",
   "execution_count": 21,
   "id": "7d63d57d",
   "metadata": {},
   "outputs": [
    {
     "data": {
      "text/html": [
       "<div>\n",
       "<style scoped>\n",
       "    .dataframe tbody tr th:only-of-type {\n",
       "        vertical-align: middle;\n",
       "    }\n",
       "\n",
       "    .dataframe tbody tr th {\n",
       "        vertical-align: top;\n",
       "    }\n",
       "\n",
       "    .dataframe thead th {\n",
       "        text-align: right;\n",
       "    }\n",
       "</style>\n",
       "<table border=\"1\" class=\"dataframe\">\n",
       "  <thead>\n",
       "    <tr style=\"text-align: right;\">\n",
       "      <th></th>\n",
       "      <th>member_id</th>\n",
       "      <th>gender</th>\n",
       "      <th>age</th>\n",
       "      <th>became_member_on</th>\n",
       "      <th>income</th>\n",
       "    </tr>\n",
       "  </thead>\n",
       "  <tbody>\n",
       "    <tr>\n",
       "      <th>1</th>\n",
       "      <td>0610b486422d4921ae7d2bf64640c50b</td>\n",
       "      <td>F</td>\n",
       "      <td>55.0</td>\n",
       "      <td>2017-07-15</td>\n",
       "      <td>112000.0</td>\n",
       "    </tr>\n",
       "    <tr>\n",
       "      <th>3</th>\n",
       "      <td>78afa995795e4d85b5d9ceeca43f5fef</td>\n",
       "      <td>F</td>\n",
       "      <td>75.0</td>\n",
       "      <td>2017-05-09</td>\n",
       "      <td>100000.0</td>\n",
       "    </tr>\n",
       "    <tr>\n",
       "      <th>5</th>\n",
       "      <td>e2127556f4f64592b11af22de27a7932</td>\n",
       "      <td>M</td>\n",
       "      <td>68.0</td>\n",
       "      <td>2018-04-26</td>\n",
       "      <td>70000.0</td>\n",
       "    </tr>\n",
       "    <tr>\n",
       "      <th>8</th>\n",
       "      <td>389bc3fa690240e798340f5a15918d5c</td>\n",
       "      <td>M</td>\n",
       "      <td>65.0</td>\n",
       "      <td>2018-02-09</td>\n",
       "      <td>53000.0</td>\n",
       "    </tr>\n",
       "    <tr>\n",
       "      <th>12</th>\n",
       "      <td>2eeac8d8feae4a8cad5a6af0499a211d</td>\n",
       "      <td>M</td>\n",
       "      <td>58.0</td>\n",
       "      <td>2017-11-11</td>\n",
       "      <td>51000.0</td>\n",
       "    </tr>\n",
       "  </tbody>\n",
       "</table>\n",
       "</div>"
      ],
      "text/plain": [
       "                           member_id gender   age became_member_on    income\n",
       "1   0610b486422d4921ae7d2bf64640c50b      F  55.0       2017-07-15  112000.0\n",
       "3   78afa995795e4d85b5d9ceeca43f5fef      F  75.0       2017-05-09  100000.0\n",
       "5   e2127556f4f64592b11af22de27a7932      M  68.0       2018-04-26   70000.0\n",
       "8   389bc3fa690240e798340f5a15918d5c      M  65.0       2018-02-09   53000.0\n",
       "12  2eeac8d8feae4a8cad5a6af0499a211d      M  58.0       2017-11-11   51000.0"
      ]
     },
     "execution_count": 21,
     "metadata": {},
     "output_type": "execute_result"
    }
   ],
   "source": [
    "# YOUR CODE BEGINS\n",
    "df_profiles = df_profiles[df_profiles['gender'].notna()]\n",
    "# YOUR CODE ENDS\n",
    "\n",
    "df_profiles.head(5)"
   ]
  },
  {
   "cell_type": "markdown",
   "id": "a629d98c",
   "metadata": {},
   "source": [
    "#### 🔑 Expected Output\n",
    "\n",
    "|  | member_id | gender | age | became_member_on | income |\n",
    "|---:|---:|---:|---:|---:|---:|\n",
    "| 1 | 0610b486422d4921ae7d2bf64640c50b | F | 55.0 | 2017-07-15 | 112000.0 |\n",
    "| 3 | 78afa995795e4d85b5d9ceeca43f5fef | F | 75.0 | 2017-05-09 | 100000.0 |\n",
    "| 5 | e2127556f4f64592b11af22de27a7932 | M | 68.0 | 2018-04-26 | 70000.0 |\n",
    "| 8 | 389bc3fa690240e798340f5a15918d5c | M | 65.0 | 2018-02-09 | 53000.0 |\n",
    "| 12 | 2eeac8d8feae4a8cad5a6af0499a211d | M | 58.0 | 2017-11-11 | 51000.0 |"
   ]
  },
  {
   "cell_type": "markdown",
   "id": "f6cb85e5",
   "metadata": {
    "id": "EdrK-mBsem7r"
   },
   "source": [
    "#### 🧭 Check Your Work"
   ]
  },
  {
   "cell_type": "code",
   "execution_count": 22,
   "id": "159cdc09",
   "metadata": {
    "nbgrader": {
     "grade": true,
     "grade_id": "part-09",
     "locked": true,
     "points": "3",
     "solution": false
    }
   },
   "outputs": [],
   "source": [
    "# DO NOT CHANGE THE CODE IN THIS CELL\n",
    "_test_case = 'part-09'\n",
    "_points = 3\n",
    "\n",
    "df_check = df_profiles_backup.query('gender == gender')\n",
    "\n",
    "# Check result\n",
    "pd.testing.assert_frame_equal(df_profiles.sort_values(df_profiles.columns.to_list()).reset_index(drop=True),\n",
    "                              df_check.sort_values(df_check.columns.tolist()).reset_index(drop=True))"
   ]
  },
  {
   "cell_type": "markdown",
   "id": "e00d2c0e",
   "metadata": {
    "nbgrader": {
     "grade": false,
     "locked": true,
     "solution": false
    }
   },
   "source": [
    "---\n",
    "### 🎯 Part 10: Find the number of rows with missing gender value again\n",
    "\n",
    "#### 👇 Tasks\n",
    "\n",
    "- ✔️ Create the following three new variables:\n",
    "    1. `num_missing_gender`: number of rows where the value in the `gender` column is missing (`NaN`)\n",
    "    2. `num_missing_age`: number of rows where the value in the `age` column is missing\n",
    "    3. `num_missing_income`: number of rows where the value in the `income` column is missing\n",
    "    \n",
    "#### 🚀 Hints\n",
    "\n",
    "```python\n",
    "# find the number of missing rows in my_column\n",
    "my_dataframe[\"my_column\"].isna().sum()\n",
    "```"
   ]
  },
  {
   "cell_type": "code",
   "execution_count": 23,
   "id": "c55ca9d2",
   "metadata": {},
   "outputs": [
    {
     "name": "stdout",
     "output_type": "stream",
     "text": [
      "There are 0 rows with missing gender value.\n",
      "There are 0 rows with missing age value.\n",
      "There are 0 rows with missing income value.\n"
     ]
    }
   ],
   "source": [
    "# YOUR CODE BEGINS\n",
    "num_missing_gender = df_profiles[\"gender\"].isna().sum()\n",
    "num_missing_age = df_profiles[\"age\"].isna().sum()\n",
    "num_missing_income = df_profiles[\"income\"].isna().sum()\n",
    "# YOUR CODE ENDS\n",
    "\n",
    "print(f'There are {num_missing_gender} rows with missing gender value.')\n",
    "print(f'There are {num_missing_age} rows with missing age value.')\n",
    "print(f'There are {num_missing_income} rows with missing income value.')"
   ]
  },
  {
   "cell_type": "markdown",
   "id": "269c490b",
   "metadata": {},
   "source": [
    "#### 🔑 Expected Output\n",
    "\n",
    "```\n",
    "There are 0 rows with missing gender value.\n",
    "There are 0 rows with missing age value.\n",
    "There are 0 rows with missing income value.\n",
    "```"
   ]
  },
  {
   "cell_type": "markdown",
   "id": "cad626e4",
   "metadata": {
    "id": "EdrK-mBsem7r",
    "nbgrader": {
     "grade": false,
     "locked": true,
     "solution": false
    }
   },
   "source": [
    "#### 🧭 Check Your Work"
   ]
  },
  {
   "cell_type": "code",
   "execution_count": 24,
   "id": "06b18735",
   "metadata": {
    "nbgrader": {
     "grade": true,
     "grade_id": "part-10",
     "locked": true,
     "points": "3",
     "solution": false
    }
   },
   "outputs": [],
   "source": [
    "# DO NOT CHANGE THE CODE IN THIS CELL\n",
    "_test_case = 'part-10'\n",
    "_points = 3\n",
    "\n",
    "tc.assertEqual(num_missing_gender, 0)\n",
    "tc.assertEqual(num_missing_age, 0)\n",
    "tc.assertEqual(num_missing_income, 0)"
   ]
  },
  {
   "cell_type": "markdown",
   "id": "1bf2148d",
   "metadata": {
    "nbgrader": {
     "grade": false,
     "locked": true,
     "solution": false
    }
   },
   "source": [
    "---\n",
    "\n",
    "### 🎯 Part 11: Merge profiles into transactions\n",
    "\n",
    "▶️ Run the code below to:\n",
    "1. Convert `age` and `income` columns in `df_profiles` to integer types (from float types).\n",
    "    - By default, Pandas uses `np.float64` data type for numeric columns with missing values even if the values are integers.\n",
    "    - Now that we have removed all the rows with missing values, we're converting the columns to `np.int64` columns.\n",
    "2. Print out the first three rows of `df_transactions` and `df_profiles`."
   ]
  },
  {
   "cell_type": "code",
   "execution_count": 25,
   "id": "a698099d",
   "metadata": {},
   "outputs": [
    {
     "data": {
      "text/html": [
       "<div>\n",
       "<style scoped>\n",
       "    .dataframe tbody tr th:only-of-type {\n",
       "        vertical-align: middle;\n",
       "    }\n",
       "\n",
       "    .dataframe tbody tr th {\n",
       "        vertical-align: top;\n",
       "    }\n",
       "\n",
       "    .dataframe thead th {\n",
       "        text-align: right;\n",
       "    }\n",
       "</style>\n",
       "<table border=\"1\" class=\"dataframe\">\n",
       "  <thead>\n",
       "    <tr style=\"text-align: right;\">\n",
       "      <th></th>\n",
       "      <th>member_id</th>\n",
       "      <th>amount</th>\n",
       "    </tr>\n",
       "  </thead>\n",
       "  <tbody>\n",
       "    <tr>\n",
       "      <th>12654</th>\n",
       "      <td>02c083884c7d45b39cc68e1314fec56c</td>\n",
       "      <td>0.83</td>\n",
       "    </tr>\n",
       "    <tr>\n",
       "      <th>12657</th>\n",
       "      <td>9fa9ae8f57894cc9a3b8a9bbe0fc1b2f</td>\n",
       "      <td>34.56</td>\n",
       "    </tr>\n",
       "    <tr>\n",
       "      <th>12659</th>\n",
       "      <td>54890f68699049c2a04d415abc25e717</td>\n",
       "      <td>13.23</td>\n",
       "    </tr>\n",
       "  </tbody>\n",
       "</table>\n",
       "</div>"
      ],
      "text/plain": [
       "                              member_id  amount\n",
       "12654  02c083884c7d45b39cc68e1314fec56c    0.83\n",
       "12657  9fa9ae8f57894cc9a3b8a9bbe0fc1b2f   34.56\n",
       "12659  54890f68699049c2a04d415abc25e717   13.23"
      ]
     },
     "metadata": {},
     "output_type": "display_data"
    },
    {
     "data": {
      "text/html": [
       "<div>\n",
       "<style scoped>\n",
       "    .dataframe tbody tr th:only-of-type {\n",
       "        vertical-align: middle;\n",
       "    }\n",
       "\n",
       "    .dataframe tbody tr th {\n",
       "        vertical-align: top;\n",
       "    }\n",
       "\n",
       "    .dataframe thead th {\n",
       "        text-align: right;\n",
       "    }\n",
       "</style>\n",
       "<table border=\"1\" class=\"dataframe\">\n",
       "  <thead>\n",
       "    <tr style=\"text-align: right;\">\n",
       "      <th></th>\n",
       "      <th>member_id</th>\n",
       "      <th>gender</th>\n",
       "      <th>age</th>\n",
       "      <th>became_member_on</th>\n",
       "      <th>income</th>\n",
       "    </tr>\n",
       "  </thead>\n",
       "  <tbody>\n",
       "    <tr>\n",
       "      <th>1</th>\n",
       "      <td>0610b486422d4921ae7d2bf64640c50b</td>\n",
       "      <td>F</td>\n",
       "      <td>55</td>\n",
       "      <td>2017-07-15</td>\n",
       "      <td>112000</td>\n",
       "    </tr>\n",
       "    <tr>\n",
       "      <th>3</th>\n",
       "      <td>78afa995795e4d85b5d9ceeca43f5fef</td>\n",
       "      <td>F</td>\n",
       "      <td>75</td>\n",
       "      <td>2017-05-09</td>\n",
       "      <td>100000</td>\n",
       "    </tr>\n",
       "    <tr>\n",
       "      <th>5</th>\n",
       "      <td>e2127556f4f64592b11af22de27a7932</td>\n",
       "      <td>M</td>\n",
       "      <td>68</td>\n",
       "      <td>2018-04-26</td>\n",
       "      <td>70000</td>\n",
       "    </tr>\n",
       "  </tbody>\n",
       "</table>\n",
       "</div>"
      ],
      "text/plain": [
       "                          member_id gender  age became_member_on  income\n",
       "1  0610b486422d4921ae7d2bf64640c50b      F   55       2017-07-15  112000\n",
       "3  78afa995795e4d85b5d9ceeca43f5fef      F   75       2017-05-09  100000\n",
       "5  e2127556f4f64592b11af22de27a7932      M   68       2018-04-26   70000"
      ]
     },
     "metadata": {},
     "output_type": "display_data"
    }
   ],
   "source": [
    "# convert age and income to int64 types\n",
    "df_profiles['age'] = df_profiles['age'].astype(np.int64)\n",
    "df_profiles['income'] = df_profiles['income'].astype(np.int64)\n",
    "\n",
    "display(df_transactions.head(3))\n",
    "display(df_profiles.head(3))"
   ]
  },
  {
   "cell_type": "markdown",
   "id": "24e831a2",
   "metadata": {
    "nbgrader": {
     "grade": false,
     "locked": true,
     "solution": false
    }
   },
   "source": [
    "#### 👇 Tasks\n",
    "\n",
    "- ✔️ Merge `df_transactions` and `df_profiles` using an **inner** join type.\n",
    "    - By using an inner join, we are intentionally removing transactions made by customers with missing gender information.\n",
    "    - Don't worry about the different types of joins yet. Google \"pandas types of joins\" if you'd like to find out more.\n",
    "- ✔️ Place `df_transactions` on the \"left\" side.\n",
    "- ✔️ Store the merged DataFrame to `df_merged`.\n",
    "\n",
    "#### 🚀 Hints\n",
    "\n",
    "```python\n",
    "my_merged_dataframe = pd.merge(\n",
    "    left=left_dataframe,\n",
    "    right=right_dataframe,\n",
    "    on='my_common_column',\n",
    "    how='inner'\n",
    ")\n",
    "```"
   ]
  },
  {
   "cell_type": "code",
   "execution_count": 26,
   "id": "3c0a2916",
   "metadata": {},
   "outputs": [
    {
     "data": {
      "text/html": [
       "<div>\n",
       "<style scoped>\n",
       "    .dataframe tbody tr th:only-of-type {\n",
       "        vertical-align: middle;\n",
       "    }\n",
       "\n",
       "    .dataframe tbody tr th {\n",
       "        vertical-align: top;\n",
       "    }\n",
       "\n",
       "    .dataframe thead th {\n",
       "        text-align: right;\n",
       "    }\n",
       "</style>\n",
       "<table border=\"1\" class=\"dataframe\">\n",
       "  <thead>\n",
       "    <tr style=\"text-align: right;\">\n",
       "      <th></th>\n",
       "      <th>member_id</th>\n",
       "      <th>amount</th>\n",
       "      <th>gender</th>\n",
       "      <th>age</th>\n",
       "      <th>became_member_on</th>\n",
       "      <th>income</th>\n",
       "    </tr>\n",
       "  </thead>\n",
       "  <tbody>\n",
       "    <tr>\n",
       "      <th>0</th>\n",
       "      <td>02c083884c7d45b39cc68e1314fec56c</td>\n",
       "      <td>0.83</td>\n",
       "      <td>F</td>\n",
       "      <td>20</td>\n",
       "      <td>2016-07-11</td>\n",
       "      <td>30000</td>\n",
       "    </tr>\n",
       "    <tr>\n",
       "      <th>1</th>\n",
       "      <td>02c083884c7d45b39cc68e1314fec56c</td>\n",
       "      <td>1.44</td>\n",
       "      <td>F</td>\n",
       "      <td>20</td>\n",
       "      <td>2016-07-11</td>\n",
       "      <td>30000</td>\n",
       "    </tr>\n",
       "    <tr>\n",
       "      <th>2</th>\n",
       "      <td>02c083884c7d45b39cc68e1314fec56c</td>\n",
       "      <td>4.56</td>\n",
       "      <td>F</td>\n",
       "      <td>20</td>\n",
       "      <td>2016-07-11</td>\n",
       "      <td>30000</td>\n",
       "    </tr>\n",
       "    <tr>\n",
       "      <th>3</th>\n",
       "      <td>02c083884c7d45b39cc68e1314fec56c</td>\n",
       "      <td>1.53</td>\n",
       "      <td>F</td>\n",
       "      <td>20</td>\n",
       "      <td>2016-07-11</td>\n",
       "      <td>30000</td>\n",
       "    </tr>\n",
       "    <tr>\n",
       "      <th>4</th>\n",
       "      <td>02c083884c7d45b39cc68e1314fec56c</td>\n",
       "      <td>0.50</td>\n",
       "      <td>F</td>\n",
       "      <td>20</td>\n",
       "      <td>2016-07-11</td>\n",
       "      <td>30000</td>\n",
       "    </tr>\n",
       "  </tbody>\n",
       "</table>\n",
       "</div>"
      ],
      "text/plain": [
       "                          member_id  amount gender  age became_member_on  \\\n",
       "0  02c083884c7d45b39cc68e1314fec56c    0.83      F   20       2016-07-11   \n",
       "1  02c083884c7d45b39cc68e1314fec56c    1.44      F   20       2016-07-11   \n",
       "2  02c083884c7d45b39cc68e1314fec56c    4.56      F   20       2016-07-11   \n",
       "3  02c083884c7d45b39cc68e1314fec56c    1.53      F   20       2016-07-11   \n",
       "4  02c083884c7d45b39cc68e1314fec56c    0.50      F   20       2016-07-11   \n",
       "\n",
       "   income  \n",
       "0   30000  \n",
       "1   30000  \n",
       "2   30000  \n",
       "3   30000  \n",
       "4   30000  "
      ]
     },
     "execution_count": 26,
     "metadata": {},
     "output_type": "execute_result"
    }
   ],
   "source": [
    "# YOUR CODE BEGINS\n",
    "df_merged = pd.merge(\n",
    "    left=df_transactions,\n",
    "    right=df_profiles,\n",
    "    on='member_id',\n",
    "    how='inner'\n",
    ")\n",
    "# YOUR CODE ENDS\n",
    "\n",
    "df_merged.head(5)"
   ]
  },
  {
   "cell_type": "markdown",
   "id": "2c31dd43",
   "metadata": {},
   "source": [
    "#### 🔑 Expected Output\n",
    "\n",
    "|  | member_id | amount | gender | age | became_member_on | income |\n",
    "|---:|---:|---:|---:|---:|---:|---:|\n",
    "| 0 | 02c083884c7d45b39cc68e1314fec56c | 0.83 | F | 20 | 2016-07-11 | 30000 |\n",
    "| 1 | 02c083884c7d45b39cc68e1314fec56c | 1.44 | F | 20 | 2016-07-11 | 30000 |\n",
    "| 2 | 02c083884c7d45b39cc68e1314fec56c | 4.56 | F | 20 | 2016-07-11 | 30000 |\n",
    "| 3 | 02c083884c7d45b39cc68e1314fec56c | 1.53 | F | 20 | 2016-07-11 | 30000 |\n",
    "| 4 | 02c083884c7d45b39cc68e1314fec56c | 0.50 | F | 20 | 2016-07-11 | 30000 |"
   ]
  },
  {
   "cell_type": "markdown",
   "id": "234d369b",
   "metadata": {
    "id": "EdrK-mBsem7r",
    "nbgrader": {
     "grade": false,
     "locked": true,
     "solution": false
    }
   },
   "source": [
    "#### 🧭 Check Your Work"
   ]
  },
  {
   "cell_type": "code",
   "execution_count": 27,
   "id": "c6c68a50",
   "metadata": {
    "nbgrader": {
     "grade": true,
     "grade_id": "part-11",
     "locked": true,
     "points": "5",
     "solution": false
    }
   },
   "outputs": [],
   "source": [
    "# DO NOT CHANGE THE CODE IN THIS CELL\n",
    "_test_case = 'part-11'\n",
    "_points = 5\n",
    "\n",
    "df_check = df_transcript_backup.query('event == \"transaction\"').merge(\n",
    "    df_profiles_backup.query('gender == gender'),\n",
    "    on='member_id',\n",
    "    how='inner'\n",
    ").drop(columns=['event', 'time', 'offer_id'])\n",
    "df_check['age'] = df_check['age'].astype(np.int64)\n",
    "df_check['income'] = df_check['income'].astype(np.int64)\n",
    "df_merged_backup = df_check.copy()\n",
    "\n",
    "# Check result\n",
    "pd.testing.assert_frame_equal(df_merged.sort_values(df_merged.columns.to_list()).reset_index(drop=True),\n",
    "                              df_check.sort_values(df_check.columns.tolist()).reset_index(drop=True))"
   ]
  },
  {
   "cell_type": "markdown",
   "id": "fd803819",
   "metadata": {
    "nbgrader": {
     "grade": false,
     "locked": true,
     "solution": false
    }
   },
   "source": [
    "---\n",
    "\n",
    "### 🎯 Part 12: Average transaction amount by gender\n",
    "\n",
    "#### 👇 Tasks\n",
    "\n",
    "- ✔️ Using `df_merged`, find the average transaction amount by gender.\n",
    "- ✔️ Store the summary DataFrame to `df_mean_by_gender`.\n",
    "- ✔️ `df_mean_by_gender` should have two non-index columns.\n",
    "    - `df_mean_by_gender.columns.to_list()` should print out `['gender', 'amount']`.\n",
    "- ✔️ `df_merged` should remain unaltered.\n",
    "\n",
    "#### 🚀 Hints\n",
    "\n",
    "```python\n",
    "my_result = df.groupby('some_column', as_index=False).agg({\n",
    "      'another_column': 'mean'\n",
    "})\n",
    "```"
   ]
  },
  {
   "cell_type": "code",
   "execution_count": 28,
   "id": "ce65576e",
   "metadata": {},
   "outputs": [
    {
     "data": {
      "text/html": [
       "<div>\n",
       "<style scoped>\n",
       "    .dataframe tbody tr th:only-of-type {\n",
       "        vertical-align: middle;\n",
       "    }\n",
       "\n",
       "    .dataframe tbody tr th {\n",
       "        vertical-align: top;\n",
       "    }\n",
       "\n",
       "    .dataframe thead th {\n",
       "        text-align: right;\n",
       "    }\n",
       "</style>\n",
       "<table border=\"1\" class=\"dataframe\">\n",
       "  <thead>\n",
       "    <tr style=\"text-align: right;\">\n",
       "      <th></th>\n",
       "      <th>gender</th>\n",
       "      <th>amount</th>\n",
       "    </tr>\n",
       "  </thead>\n",
       "  <tbody>\n",
       "    <tr>\n",
       "      <th>0</th>\n",
       "      <td>F</td>\n",
       "      <td>17.490077</td>\n",
       "    </tr>\n",
       "    <tr>\n",
       "      <th>1</th>\n",
       "      <td>M</td>\n",
       "      <td>11.606600</td>\n",
       "    </tr>\n",
       "    <tr>\n",
       "      <th>2</th>\n",
       "      <td>O</td>\n",
       "      <td>14.798731</td>\n",
       "    </tr>\n",
       "  </tbody>\n",
       "</table>\n",
       "</div>"
      ],
      "text/plain": [
       "  gender     amount\n",
       "0      F  17.490077\n",
       "1      M  11.606600\n",
       "2      O  14.798731"
      ]
     },
     "execution_count": 28,
     "metadata": {},
     "output_type": "execute_result"
    }
   ],
   "source": [
    "# YOUR CODE BEGINS\n",
    "df_mean_by_gender = df_merged.groupby('gender', as_index=False).agg({\n",
    "      'amount': np.mean\n",
    "})\n",
    "# YOUR CODE ENDS\n",
    "\n",
    "df_mean_by_gender"
   ]
  },
  {
   "cell_type": "markdown",
   "id": "e236fd58",
   "metadata": {},
   "source": [
    "#### 🔑 Expected Output\n",
    "\n",
    "|  | gender | amount |\n",
    "|---:|---:|---|\n",
    "| 0 | F | 17.490077 |\n",
    "| 1 | M | 11.606600 |\n",
    "| 2 | O | 14.798731 |"
   ]
  },
  {
   "cell_type": "markdown",
   "id": "0306d5fe",
   "metadata": {
    "id": "EdrK-mBsem7r",
    "nbgrader": {
     "grade": false,
     "locked": true,
     "solution": false
    }
   },
   "source": [
    "#### 🧭 Check Your Work"
   ]
  },
  {
   "cell_type": "code",
   "execution_count": 29,
   "id": "5fe8219b",
   "metadata": {
    "nbgrader": {
     "grade": true,
     "grade_id": "part-12",
     "locked": true,
     "points": "4",
     "solution": false
    }
   },
   "outputs": [],
   "source": [
    "# DO NOT CHANGE THE CODE IN THIS CELL\n",
    "_test_case = 'part-12'\n",
    "_points = 4\n",
    "\n",
    "df_check = pd.DataFrame({'gender': {0: 'F', 1: 'M', 2: 'O'},\n",
    " 'amount': {0: 17.490077356121578,\n",
    "  1: 11.606600269252956,\n",
    "  2: 14.798731049971932}})\n",
    "\n",
    "# Check result\n",
    "tc.assertEqual(df_merged.shape, df_merged_backup.shape)\n",
    "pd.testing.assert_frame_equal(df_mean_by_gender.sort_values(df_mean_by_gender.columns.to_list()).reset_index(drop=True),\n",
    "                              df_check.sort_values(df_check.columns.tolist()).reset_index(drop=True))"
   ]
  },
  {
   "cell_type": "markdown",
   "id": "00f3d9d1",
   "metadata": {
    "nbgrader": {
     "grade": false,
     "locked": true,
     "solution": false
    }
   },
   "source": [
    "---\n",
    "\n",
    "### 🎯 Part 13: Multiple statistics by gender\n",
    "\n",
    "We already can see that females spend more on average than other genders. Your goal is to expand the analysis that you just did to derive more insights.\n",
    "\n",
    "#### 👇 Tasks\n",
    "\n",
    "- ✔️ Using `df_merged`, find the following statistics by gender:\n",
    "    - `count`: number of transactions\n",
    "    - `mean`: average amount of transactions\n",
    "    - `median`: median amount\n",
    "    - `sum`: total amount of transactions\n",
    "    - `std`: standard deviation of transactions\n",
    "- ✔️ Store the summary DataFrame to `df_stats_by_gender`.\n",
    "- ✔️ `df_stats_by_gender` should have six non-index columns.\n",
    "    - `print(df_stats_by_gender.columns.to_list())` should print out `['gender', 'count', 'mean', 'median', 'sum', 'std']`.\n",
    "- ✔️ `df_merged` should remain unaltered.\n",
    "\n",
    "#### 🚀 Hints\n",
    "\n",
    "```python\n",
    "my_result = my_dataframe.groupby('my_column', as_index=False).agg({\n",
    "    'some_column': ['count', 'mean', 'median', 'sum', 'std']\n",
    "})\n",
    "\n",
    "# rename columns with a flat list\n",
    "# replace ... with your own strings\n",
    "my_result.columns = ['gender', 'count', ..., ..., ..., ...]\n",
    "```"
   ]
  },
  {
   "cell_type": "code",
   "execution_count": 30,
   "id": "bf1eb743",
   "metadata": {},
   "outputs": [
    {
     "name": "stdout",
     "output_type": "stream",
     "text": [
      "['gender', 'count', 'mean', 'median', 'sum', 'std']\n"
     ]
    },
    {
     "data": {
      "text/html": [
       "<div>\n",
       "<style scoped>\n",
       "    .dataframe tbody tr th:only-of-type {\n",
       "        vertical-align: middle;\n",
       "    }\n",
       "\n",
       "    .dataframe tbody tr th {\n",
       "        vertical-align: top;\n",
       "    }\n",
       "\n",
       "    .dataframe thead th {\n",
       "        text-align: right;\n",
       "    }\n",
       "</style>\n",
       "<table border=\"1\" class=\"dataframe\">\n",
       "  <thead>\n",
       "    <tr style=\"text-align: right;\">\n",
       "      <th></th>\n",
       "      <th>gender</th>\n",
       "      <th>count</th>\n",
       "      <th>mean</th>\n",
       "      <th>median</th>\n",
       "      <th>sum</th>\n",
       "      <th>std</th>\n",
       "    </tr>\n",
       "  </thead>\n",
       "  <tbody>\n",
       "    <tr>\n",
       "      <th>0</th>\n",
       "      <td>F</td>\n",
       "      <td>49382</td>\n",
       "      <td>17.490077</td>\n",
       "      <td>15.00</td>\n",
       "      <td>863695.00</td>\n",
       "      <td>35.342611</td>\n",
       "    </tr>\n",
       "    <tr>\n",
       "      <th>1</th>\n",
       "      <td>M</td>\n",
       "      <td>72794</td>\n",
       "      <td>11.606600</td>\n",
       "      <td>7.05</td>\n",
       "      <td>844890.86</td>\n",
       "      <td>28.964542</td>\n",
       "    </tr>\n",
       "    <tr>\n",
       "      <th>2</th>\n",
       "      <td>O</td>\n",
       "      <td>1781</td>\n",
       "      <td>14.798731</td>\n",
       "      <td>13.30</td>\n",
       "      <td>26356.54</td>\n",
       "      <td>25.748149</td>\n",
       "    </tr>\n",
       "  </tbody>\n",
       "</table>\n",
       "</div>"
      ],
      "text/plain": [
       "  gender  count       mean  median        sum        std\n",
       "0      F  49382  17.490077   15.00  863695.00  35.342611\n",
       "1      M  72794  11.606600    7.05  844890.86  28.964542\n",
       "2      O   1781  14.798731   13.30   26356.54  25.748149"
      ]
     },
     "metadata": {},
     "output_type": "display_data"
    }
   ],
   "source": [
    "# YOUR CODE BEGINS\n",
    "df_stats_by_gender = df_merged.groupby('gender', as_index=False).agg({\n",
    "    'amount': ['count', 'mean', 'median', 'sum', 'std']\n",
    "})\n",
    "\n",
    "df_stats_by_gender.columns = ['gender', 'count', 'mean', 'median', 'sum', 'std']\n",
    "# YOUR CODE ENDS\n",
    "\n",
    "print(df_stats_by_gender.columns.to_list())\n",
    "display(df_stats_by_gender)"
   ]
  },
  {
   "cell_type": "markdown",
   "id": "a3a3a4af",
   "metadata": {},
   "source": [
    "#### 🔑 Expected Output\n",
    "\n",
    "|  | gender | count | mean | median | sum | std |\n",
    "|---:|---:|---:|---:|---:|---:|---:|\n",
    "| 0 | F | 49382 | 17.490077 | 15.00 | 863695.00 | 35.342611 |\n",
    "| 1 | M | 72794 | 11.606600 | 7.05 | 844890.86 | 28.964542 |\n",
    "| 2 | O | 1781 | 14.798731 | 13.30 | 26356.54 | 25.748149 |"
   ]
  },
  {
   "cell_type": "markdown",
   "id": "06134194",
   "metadata": {
    "id": "EdrK-mBsem7r",
    "nbgrader": {
     "grade": false,
     "locked": true,
     "solution": false
    }
   },
   "source": [
    "#### 🧭 Check Your Work"
   ]
  },
  {
   "cell_type": "code",
   "execution_count": 31,
   "id": "f538aaee",
   "metadata": {
    "nbgrader": {
     "grade": true,
     "grade_id": "part-13",
     "locked": true,
     "points": "7",
     "solution": false
    }
   },
   "outputs": [],
   "source": [
    "# DO NOT CHANGE THE CODE IN THIS CELL\n",
    "_test_case = 'part-13'\n",
    "_points = 7\n",
    "\n",
    "df_check = pd.DataFrame({'gender': ['F', 'M', 'O'], 'count': [49382, 72794, 1781],\n",
    " 'mean': [17.490077356121663, 11.60660026925296, 14.798731049971927],\n",
    " 'median': [15.0, 7.05, 13.3], 'sum': [863695.0, 844890.86, 26356.54],\n",
    " 'std': [35.34261142117411, 28.96454214855915, 25.74814916149888]})\n",
    "\n",
    "# Check result\n",
    "pd.testing.assert_frame_equal(df_stats_by_gender.sort_values(df_stats_by_gender.columns.to_list()).reset_index(drop=True),\n",
    "                              df_check.sort_values(df_check.columns.tolist()).reset_index(drop=True))"
   ]
  },
  {
   "cell_type": "markdown",
   "id": "7f79d6d7",
   "metadata": {
    "nbgrader": {
     "grade": false,
     "locked": true,
     "solution": false
    }
   },
   "source": [
    "---\n",
    "\n",
    "### 🎯 Part 14: Create age groups\n",
    "\n",
    "Next, you would like to find out the average transaction amount by different age groups(e.g., 10-20, 20-30, 30-40, etc). In order to perform that analysis, we'll create a new column containing the age group information.\n",
    "\n",
    "A fully-working code is given to you since we haven't learned `pd.cut()` in class. 🦊 `pd.cut()` converts a numerical values into a set of categorical values.\n",
    "\n",
    "#### 👇 Tasks\n",
    "\n",
    "- ✔️ Copy and run the code below.\n",
    "\n",
    "```python\n",
    "df_merged['age_group'] = pd.cut(\n",
    "    df_merged['age'],\n",
    "    bins=[10, 20, 30, 40, 50, 999],\n",
    "    labels=['10-20', '20-30', '30-40', '40-50', '50>']\n",
    ")\n",
    "```"
   ]
  },
  {
   "cell_type": "code",
   "execution_count": 32,
   "id": "5cc034bb",
   "metadata": {},
   "outputs": [
    {
     "data": {
      "text/html": [
       "<div>\n",
       "<style scoped>\n",
       "    .dataframe tbody tr th:only-of-type {\n",
       "        vertical-align: middle;\n",
       "    }\n",
       "\n",
       "    .dataframe tbody tr th {\n",
       "        vertical-align: top;\n",
       "    }\n",
       "\n",
       "    .dataframe thead th {\n",
       "        text-align: right;\n",
       "    }\n",
       "</style>\n",
       "<table border=\"1\" class=\"dataframe\">\n",
       "  <thead>\n",
       "    <tr style=\"text-align: right;\">\n",
       "      <th></th>\n",
       "      <th>member_id</th>\n",
       "      <th>amount</th>\n",
       "      <th>gender</th>\n",
       "      <th>age</th>\n",
       "      <th>became_member_on</th>\n",
       "      <th>income</th>\n",
       "      <th>age_group</th>\n",
       "    </tr>\n",
       "  </thead>\n",
       "  <tbody>\n",
       "    <tr>\n",
       "      <th>0</th>\n",
       "      <td>02c083884c7d45b39cc68e1314fec56c</td>\n",
       "      <td>0.83</td>\n",
       "      <td>F</td>\n",
       "      <td>20</td>\n",
       "      <td>2016-07-11</td>\n",
       "      <td>30000</td>\n",
       "      <td>10-20</td>\n",
       "    </tr>\n",
       "    <tr>\n",
       "      <th>1</th>\n",
       "      <td>02c083884c7d45b39cc68e1314fec56c</td>\n",
       "      <td>1.44</td>\n",
       "      <td>F</td>\n",
       "      <td>20</td>\n",
       "      <td>2016-07-11</td>\n",
       "      <td>30000</td>\n",
       "      <td>10-20</td>\n",
       "    </tr>\n",
       "    <tr>\n",
       "      <th>2</th>\n",
       "      <td>02c083884c7d45b39cc68e1314fec56c</td>\n",
       "      <td>4.56</td>\n",
       "      <td>F</td>\n",
       "      <td>20</td>\n",
       "      <td>2016-07-11</td>\n",
       "      <td>30000</td>\n",
       "      <td>10-20</td>\n",
       "    </tr>\n",
       "    <tr>\n",
       "      <th>3</th>\n",
       "      <td>02c083884c7d45b39cc68e1314fec56c</td>\n",
       "      <td>1.53</td>\n",
       "      <td>F</td>\n",
       "      <td>20</td>\n",
       "      <td>2016-07-11</td>\n",
       "      <td>30000</td>\n",
       "      <td>10-20</td>\n",
       "    </tr>\n",
       "    <tr>\n",
       "      <th>4</th>\n",
       "      <td>02c083884c7d45b39cc68e1314fec56c</td>\n",
       "      <td>0.50</td>\n",
       "      <td>F</td>\n",
       "      <td>20</td>\n",
       "      <td>2016-07-11</td>\n",
       "      <td>30000</td>\n",
       "      <td>10-20</td>\n",
       "    </tr>\n",
       "  </tbody>\n",
       "</table>\n",
       "</div>"
      ],
      "text/plain": [
       "                          member_id  amount gender  age became_member_on  \\\n",
       "0  02c083884c7d45b39cc68e1314fec56c    0.83      F   20       2016-07-11   \n",
       "1  02c083884c7d45b39cc68e1314fec56c    1.44      F   20       2016-07-11   \n",
       "2  02c083884c7d45b39cc68e1314fec56c    4.56      F   20       2016-07-11   \n",
       "3  02c083884c7d45b39cc68e1314fec56c    1.53      F   20       2016-07-11   \n",
       "4  02c083884c7d45b39cc68e1314fec56c    0.50      F   20       2016-07-11   \n",
       "\n",
       "   income age_group  \n",
       "0   30000     10-20  \n",
       "1   30000     10-20  \n",
       "2   30000     10-20  \n",
       "3   30000     10-20  \n",
       "4   30000     10-20  "
      ]
     },
     "execution_count": 32,
     "metadata": {},
     "output_type": "execute_result"
    }
   ],
   "source": [
    "# YOUR CODE BEGINS\n",
    "df_merged['age_group'] = pd.cut(\n",
    "    df_merged['age'],\n",
    "    bins=[10, 20, 30, 40, 50, 999],\n",
    "    labels=['10-20', '20-30', '30-40', '40-50', '50>']\n",
    ")\n",
    "# YOUR CODE ENDS\n",
    "\n",
    "df_merged.head(5)"
   ]
  },
  {
   "cell_type": "markdown",
   "id": "0af3b0af",
   "metadata": {
    "nbgrader": {
     "grade": false,
     "locked": true,
     "solution": false
    }
   },
   "source": [
    "#### 🔑 Expected Output\n",
    "\n",
    "|  | member_id | amount | gender | age | became_member_on | income | age_group |\n",
    "|---:|---:|---:|---:|---:|---:|---:|---:|\n",
    "| 0 | 02c083884c7d45b39cc68e1314fec56c | 0.83 | F | 20 | 2016-07-11 | 30000 | 10-20 |\n",
    "| 1 | 02c083884c7d45b39cc68e1314fec56c | 1.44 | F | 20 | 2016-07-11 | 30000 | 10-20 |\n",
    "| 2 | 02c083884c7d45b39cc68e1314fec56c | 4.56 | F | 20 | 2016-07-11 | 30000 | 10-20 |\n",
    "| 3 | 02c083884c7d45b39cc68e1314fec56c | 1.53 | F | 20 | 2016-07-11 | 30000 | 10-20 |\n",
    "| 4 | 02c083884c7d45b39cc68e1314fec56c | 0.50 | F | 20 | 2016-07-11 | 30000 | 10-20 |"
   ]
  },
  {
   "cell_type": "markdown",
   "id": "ede81949",
   "metadata": {
    "id": "EdrK-mBsem7r",
    "nbgrader": {
     "grade": false,
     "locked": true,
     "solution": false
    }
   },
   "source": [
    "#### 🧭 Check Your Work"
   ]
  },
  {
   "cell_type": "code",
   "execution_count": 33,
   "id": "b2e630db",
   "metadata": {
    "nbgrader": {
     "grade": true,
     "grade_id": "part-14",
     "locked": true,
     "points": "3",
     "solution": false
    }
   },
   "outputs": [],
   "source": [
    "# DO NOT CHANGE THE CODE IN THIS CELL\n",
    "_test_case = 'part-14'\n",
    "_points = 3\n",
    "\n",
    "df_check = df_merged.copy()\n",
    "age_groups = ['50>', '40-50', '30-40', '20-30', '10-20']\n",
    "age_groups.reverse()\n",
    "df_check['age_group'] = pd.cut(\n",
    "    df_check['AGE'.lower()],\n",
    "    bins=[x * 10 for x in [1, 2, 3, 4, 5]] + [1000],\n",
    "    labels=age_groups\n",
    ")\n",
    "\n",
    "# Check result\n",
    "pd.testing.assert_frame_equal(df_merged.sort_values(df_merged.columns.to_list()).reset_index(drop=True),\n",
    "                              df_check.sort_values(df_check.columns.tolist()).reset_index(drop=True))"
   ]
  },
  {
   "cell_type": "markdown",
   "id": "f286d665",
   "metadata": {
    "nbgrader": {
     "grade": false,
     "locked": true,
     "solution": false
    }
   },
   "source": [
    "---\n",
    "\n",
    "### 🎯 Part 15: Average transaction amount by age group\n",
    "\n",
    "#### 👇 Tasks\n",
    "\n",
    "- ✔️ Using `df_merged`, find the average transaction amount by age group (`age_group` column).\n",
    "- ✔️ Store the summary DataFrame to `df_mean_by_age_group`.\n",
    "- ✔️ `df_mean_by_age_group` should contain two non-index columns.\n",
    "    - `df_mean_by_age_group.columns.to_list()` should print out `['age_group', 'amount']`.\n",
    "- ✔️ `df_merged` should remain unaltered."
   ]
  },
  {
   "cell_type": "code",
   "execution_count": 34,
   "id": "6c85d62d",
   "metadata": {},
   "outputs": [
    {
     "data": {
      "text/html": [
       "<div>\n",
       "<style scoped>\n",
       "    .dataframe tbody tr th:only-of-type {\n",
       "        vertical-align: middle;\n",
       "    }\n",
       "\n",
       "    .dataframe tbody tr th {\n",
       "        vertical-align: top;\n",
       "    }\n",
       "\n",
       "    .dataframe thead th {\n",
       "        text-align: right;\n",
       "    }\n",
       "</style>\n",
       "<table border=\"1\" class=\"dataframe\">\n",
       "  <thead>\n",
       "    <tr style=\"text-align: right;\">\n",
       "      <th></th>\n",
       "      <th>age_group</th>\n",
       "      <th>amount</th>\n",
       "    </tr>\n",
       "  </thead>\n",
       "  <tbody>\n",
       "    <tr>\n",
       "      <th>0</th>\n",
       "      <td>10-20</td>\n",
       "      <td>7.480393</td>\n",
       "    </tr>\n",
       "    <tr>\n",
       "      <th>1</th>\n",
       "      <td>20-30</td>\n",
       "      <td>8.407166</td>\n",
       "    </tr>\n",
       "    <tr>\n",
       "      <th>2</th>\n",
       "      <td>30-40</td>\n",
       "      <td>10.251975</td>\n",
       "    </tr>\n",
       "    <tr>\n",
       "      <th>3</th>\n",
       "      <td>40-50</td>\n",
       "      <td>13.473675</td>\n",
       "    </tr>\n",
       "    <tr>\n",
       "      <th>4</th>\n",
       "      <td>50&gt;</td>\n",
       "      <td>16.409890</td>\n",
       "    </tr>\n",
       "  </tbody>\n",
       "</table>\n",
       "</div>"
      ],
      "text/plain": [
       "  age_group     amount\n",
       "0     10-20   7.480393\n",
       "1     20-30   8.407166\n",
       "2     30-40  10.251975\n",
       "3     40-50  13.473675\n",
       "4       50>  16.409890"
      ]
     },
     "execution_count": 34,
     "metadata": {},
     "output_type": "execute_result"
    }
   ],
   "source": [
    "# YOUR CODE BEGINS\n",
    "df_mean_by_age_group = df_merged.groupby('age_group', as_index=False).agg({\n",
    "      'amount': np.mean\n",
    "})\n",
    "# YOUR CODE ENDS\n",
    "\n",
    "df_mean_by_age_group"
   ]
  },
  {
   "cell_type": "markdown",
   "id": "b60dac98",
   "metadata": {},
   "source": [
    "#### 🔑 Expected Output\n",
    "\n",
    "|    | age_group   |   amount |\n",
    "|---:|:------------|---------:|\n",
    "|  0 | 10-20       |  7.48039 |\n",
    "|  1 | 20-30       |  8.40717 |\n",
    "|  2 | 30-40       | 10.252   |\n",
    "|  3 | 40-50       | 13.4737  |\n",
    "|  4 | 50>         | 16.4099  |"
   ]
  },
  {
   "cell_type": "markdown",
   "id": "275b922a",
   "metadata": {
    "id": "EdrK-mBsem7r",
    "nbgrader": {
     "grade": false,
     "locked": true,
     "solution": false
    }
   },
   "source": [
    "#### 🧭 Check Your Work\n",
    "\n",
    "- Once you're done, run the code cell below to test correctness.\n",
    "- ✔️ If the code cell runs without an error, you're good to move on.\n",
    "- ❌ If the code cell throws an error, go back and fix any incorrect parts."
   ]
  },
  {
   "cell_type": "code",
   "execution_count": 35,
   "id": "8dc83805",
   "metadata": {
    "nbgrader": {
     "grade": true,
     "grade_id": "part-15",
     "locked": true,
     "points": "4",
     "solution": false
    }
   },
   "outputs": [],
   "source": [
    "# DO NOT CHANGE THE CODE IN THIS CELL\n",
    "_test_case = 'part-15'\n",
    "_points = 4\n",
    "\n",
    "df_check = pd.DataFrame({'age_group': {0: '10-20', 1: '20-30', 2: '30-40', 3: '40-50', 4: '50>'},\n",
    " 'amount': {0: 7.4803926701570775, 1: 8.407165820643007, 2: 10.251975269699113, 3: 13.473675454312783, 4: 16.40988963903655}})\n",
    "df_mean_by_age_group_copy = df_mean_by_age_group.copy()\n",
    "df_mean_by_age_group_copy['age_group'] = df_mean_by_age_group_copy['age_group'].astype(str)\n",
    "# Check result\n",
    "pd.testing.assert_frame_equal(df_mean_by_age_group_copy.sort_values(df_mean_by_age_group_copy.columns.to_list()).reset_index(drop=True),\n",
    "                              df_check.sort_values(df_check.columns.tolist()).reset_index(drop=True))\n"
   ]
  },
  {
   "cell_type": "markdown",
   "id": "51e2dccc",
   "metadata": {
    "nbgrader": {
     "grade": false,
     "locked": true,
     "solution": false
    }
   },
   "source": [
    "---\n",
    "\n",
    "### 🎯 Part 16: Multiple statistics by age group\n",
    "\n",
    "#### 👇 Tasks\n",
    "\n",
    "- ✔️ Using `df_merged`, find the following statistics by age group:\n",
    "    - `count`: number of transactions\n",
    "    - `mean`: average amount of transactions\n",
    "    - `median`: median amount\n",
    "    - `sum`: total amount of transactions\n",
    "    - `std`: standard deviation of transactions\n",
    "- ✔️ Store the summary DataFrame to `df_stats_by_age_group`.\n",
    "- ✔️ `df_stats_by_age_group` should have six non-index columns.\n",
    "    - `print(df_stats_by_age_group.columns.to_list())` should print out `['age_group', 'count', 'mean', 'median', 'sum', 'std']`.\n",
    "- ✔️ `df_merged` should remain unaltered.\n",
    "\n",
    "#### 🚀 Hints\n",
    "\n",
    "```python\n",
    "my_result = my_dataframe.groupby('my_column', as_index=False).agg({\n",
    "    'some_column': ['count', 'mean', 'median', 'sum', 'std']\n",
    "})\n",
    "\n",
    "# rename columns with a flat list\n",
    "# replace ... with your own strings\n",
    "my_result.columns = ['gender', 'count', ..., ..., ..., ...]\n",
    "```"
   ]
  },
  {
   "cell_type": "code",
   "execution_count": 36,
   "id": "93c9d6b3",
   "metadata": {},
   "outputs": [
    {
     "name": "stdout",
     "output_type": "stream",
     "text": [
      "['age_group', 'count', 'mean', 'median', 'sum', 'std']\n"
     ]
    },
    {
     "data": {
      "text/html": [
       "<div>\n",
       "<style scoped>\n",
       "    .dataframe tbody tr th:only-of-type {\n",
       "        vertical-align: middle;\n",
       "    }\n",
       "\n",
       "    .dataframe tbody tr th {\n",
       "        vertical-align: top;\n",
       "    }\n",
       "\n",
       "    .dataframe thead th {\n",
       "        text-align: right;\n",
       "    }\n",
       "</style>\n",
       "<table border=\"1\" class=\"dataframe\">\n",
       "  <thead>\n",
       "    <tr style=\"text-align: right;\">\n",
       "      <th></th>\n",
       "      <th>age_group</th>\n",
       "      <th>count</th>\n",
       "      <th>mean</th>\n",
       "      <th>median</th>\n",
       "      <th>sum</th>\n",
       "      <th>std</th>\n",
       "    </tr>\n",
       "  </thead>\n",
       "  <tbody>\n",
       "    <tr>\n",
       "      <th>0</th>\n",
       "      <td>10-20</td>\n",
       "      <td>3438</td>\n",
       "      <td>7.480393</td>\n",
       "      <td>4.345</td>\n",
       "      <td>25717.59</td>\n",
       "      <td>18.218205</td>\n",
       "    </tr>\n",
       "    <tr>\n",
       "      <th>1</th>\n",
       "      <td>20-30</td>\n",
       "      <td>14184</td>\n",
       "      <td>8.407166</td>\n",
       "      <td>4.920</td>\n",
       "      <td>119247.24</td>\n",
       "      <td>22.433536</td>\n",
       "    </tr>\n",
       "    <tr>\n",
       "      <th>2</th>\n",
       "      <td>30-40</td>\n",
       "      <td>15851</td>\n",
       "      <td>10.251975</td>\n",
       "      <td>6.650</td>\n",
       "      <td>162504.06</td>\n",
       "      <td>25.777848</td>\n",
       "    </tr>\n",
       "    <tr>\n",
       "      <th>3</th>\n",
       "      <td>40-50</td>\n",
       "      <td>19535</td>\n",
       "      <td>13.473675</td>\n",
       "      <td>11.040</td>\n",
       "      <td>263208.25</td>\n",
       "      <td>26.798969</td>\n",
       "    </tr>\n",
       "    <tr>\n",
       "      <th>4</th>\n",
       "      <td>50&gt;</td>\n",
       "      <td>70949</td>\n",
       "      <td>16.409890</td>\n",
       "      <td>13.980</td>\n",
       "      <td>1164265.26</td>\n",
       "      <td>35.790405</td>\n",
       "    </tr>\n",
       "  </tbody>\n",
       "</table>\n",
       "</div>"
      ],
      "text/plain": [
       "  age_group  count       mean  median         sum        std\n",
       "0     10-20   3438   7.480393   4.345    25717.59  18.218205\n",
       "1     20-30  14184   8.407166   4.920   119247.24  22.433536\n",
       "2     30-40  15851  10.251975   6.650   162504.06  25.777848\n",
       "3     40-50  19535  13.473675  11.040   263208.25  26.798969\n",
       "4       50>  70949  16.409890  13.980  1164265.26  35.790405"
      ]
     },
     "metadata": {},
     "output_type": "display_data"
    }
   ],
   "source": [
    "# YOUR CODE BEGINS\n",
    "df_stats_by_age_group = df_merged.groupby('age_group', as_index=False).agg({\n",
    "    'amount': ['count', 'mean', 'median', 'sum', 'std']\n",
    "})\n",
    "\n",
    "df_stats_by_age_group.columns = ['age_group', 'count', 'mean', 'median', 'sum', 'std']\n",
    "# YOUR CODE ENDS\n",
    "\n",
    "print(df_stats_by_age_group.columns.to_list())\n",
    "display(df_stats_by_age_group)"
   ]
  },
  {
   "cell_type": "markdown",
   "id": "c09fc3de",
   "metadata": {},
   "source": [
    "#### 🔑 Expected Output\n",
    "\n",
    "|  | age_group | count | mean | median | sum | std |\n",
    "|---:|---:|---:|---:|---:|---:|---:|\n",
    "| 0 | 10-20 | 3438 | 7.480393 | 4.345 | 25717.59 | 18.218205 |\n",
    "| 1 | 20-30 | 14184 | 8.407166 | 4.920 | 119247.24 | 22.433536 |\n",
    "| 2 | 30-40 | 15851 | 10.251975 | 6.650 | 162504.06 | 25.777848 |\n",
    "| 3 | 40-50 | 19535 | 13.473675 | 11.040 | 263208.25 | 26.798969 |\n",
    "| 4 | 50> | 70949 | 16.409890 | 13.980 | 1164265.26 | 35.790405 |"
   ]
  },
  {
   "cell_type": "markdown",
   "id": "73422102",
   "metadata": {
    "id": "EdrK-mBsem7r",
    "nbgrader": {
     "grade": false,
     "locked": true,
     "solution": false
    }
   },
   "source": [
    "#### 🧭 Check Your Work"
   ]
  },
  {
   "cell_type": "code",
   "execution_count": 37,
   "id": "f2020b40",
   "metadata": {
    "nbgrader": {
     "grade": true,
     "grade_id": "part-16",
     "locked": true,
     "points": "7",
     "solution": false
    }
   },
   "outputs": [],
   "source": [
    "# DO NOT CHANGE THE CODE IN THIS CELL\n",
    "_test_case = 'part-16'\n",
    "_points = 7\n",
    "\n",
    "df_check = pd.DataFrame({'age_group': pd.Categorical(['10-20', '20-30', '30-40', '40-50', '50>'],\n",
    "                        categories=['10-20', '20-30', '30-40', '40-50', '50>'], ordered=True),\n",
    " 'count': [3438, 14184, 15851, 19535, 70949], 'mean': [7.480392670157068, 8.407165820642978, 10.251975269699072,\n",
    "  13.473675454312772, 16.409889639036493], 'median': [4.345, 4.92, 6.65, 11.04, 13.98],\n",
    " 'sum': [25717.59, 119247.24, 162504.06, 263208.25, 1164265.26], 'std': [18.218205201054083,\n",
    "  22.43353563734416, 25.777847730288666, 26.798968600597718, 35.79040508301137]})\n",
    "\n",
    "# Check result\n",
    "pd.testing.assert_frame_equal(df_stats_by_age_group.sort_values(df_stats_by_age_group.columns.to_list()).reset_index(drop=True),\n",
    "                              df_check.sort_values(df_check.columns.tolist()).reset_index(drop=True))"
   ]
  },
  {
   "cell_type": "markdown",
   "id": "918e7d58",
   "metadata": {
    "nbgrader": {
     "grade": false,
     "locked": true,
     "solution": false
    }
   },
   "source": [
    "---\n",
    "\n",
    "### 🎯 Part 17: Create income range groups\n",
    "\n",
    "We're going to repeat the previous method on customers' income.\n",
    "\n",
    "#### 👇 Tasks\n",
    "\n",
    "- ✔️ Copy and run the code below.\n",
    "\n",
    "```python\n",
    "df_merged['income_group'] = pd.cut(\n",
    "    df_merged['income'],\n",
    "    bins=[0, 40000, 60000, 80000, 100000, 999999],\n",
    "    labels=['<40k', '40k-60k', '60k-80k', '80k-100k', '>100k']\n",
    ")\n",
    "```"
   ]
  },
  {
   "cell_type": "code",
   "execution_count": 38,
   "id": "6491c185",
   "metadata": {},
   "outputs": [
    {
     "data": {
      "text/html": [
       "<div>\n",
       "<style scoped>\n",
       "    .dataframe tbody tr th:only-of-type {\n",
       "        vertical-align: middle;\n",
       "    }\n",
       "\n",
       "    .dataframe tbody tr th {\n",
       "        vertical-align: top;\n",
       "    }\n",
       "\n",
       "    .dataframe thead th {\n",
       "        text-align: right;\n",
       "    }\n",
       "</style>\n",
       "<table border=\"1\" class=\"dataframe\">\n",
       "  <thead>\n",
       "    <tr style=\"text-align: right;\">\n",
       "      <th></th>\n",
       "      <th>member_id</th>\n",
       "      <th>amount</th>\n",
       "      <th>gender</th>\n",
       "      <th>age</th>\n",
       "      <th>became_member_on</th>\n",
       "      <th>income</th>\n",
       "      <th>age_group</th>\n",
       "      <th>income_group</th>\n",
       "    </tr>\n",
       "  </thead>\n",
       "  <tbody>\n",
       "    <tr>\n",
       "      <th>0</th>\n",
       "      <td>02c083884c7d45b39cc68e1314fec56c</td>\n",
       "      <td>0.83</td>\n",
       "      <td>F</td>\n",
       "      <td>20</td>\n",
       "      <td>2016-07-11</td>\n",
       "      <td>30000</td>\n",
       "      <td>10-20</td>\n",
       "      <td>&lt;40k</td>\n",
       "    </tr>\n",
       "    <tr>\n",
       "      <th>1</th>\n",
       "      <td>02c083884c7d45b39cc68e1314fec56c</td>\n",
       "      <td>1.44</td>\n",
       "      <td>F</td>\n",
       "      <td>20</td>\n",
       "      <td>2016-07-11</td>\n",
       "      <td>30000</td>\n",
       "      <td>10-20</td>\n",
       "      <td>&lt;40k</td>\n",
       "    </tr>\n",
       "    <tr>\n",
       "      <th>2</th>\n",
       "      <td>02c083884c7d45b39cc68e1314fec56c</td>\n",
       "      <td>4.56</td>\n",
       "      <td>F</td>\n",
       "      <td>20</td>\n",
       "      <td>2016-07-11</td>\n",
       "      <td>30000</td>\n",
       "      <td>10-20</td>\n",
       "      <td>&lt;40k</td>\n",
       "    </tr>\n",
       "    <tr>\n",
       "      <th>3</th>\n",
       "      <td>02c083884c7d45b39cc68e1314fec56c</td>\n",
       "      <td>1.53</td>\n",
       "      <td>F</td>\n",
       "      <td>20</td>\n",
       "      <td>2016-07-11</td>\n",
       "      <td>30000</td>\n",
       "      <td>10-20</td>\n",
       "      <td>&lt;40k</td>\n",
       "    </tr>\n",
       "    <tr>\n",
       "      <th>4</th>\n",
       "      <td>02c083884c7d45b39cc68e1314fec56c</td>\n",
       "      <td>0.50</td>\n",
       "      <td>F</td>\n",
       "      <td>20</td>\n",
       "      <td>2016-07-11</td>\n",
       "      <td>30000</td>\n",
       "      <td>10-20</td>\n",
       "      <td>&lt;40k</td>\n",
       "    </tr>\n",
       "  </tbody>\n",
       "</table>\n",
       "</div>"
      ],
      "text/plain": [
       "                          member_id  amount gender  age became_member_on  \\\n",
       "0  02c083884c7d45b39cc68e1314fec56c    0.83      F   20       2016-07-11   \n",
       "1  02c083884c7d45b39cc68e1314fec56c    1.44      F   20       2016-07-11   \n",
       "2  02c083884c7d45b39cc68e1314fec56c    4.56      F   20       2016-07-11   \n",
       "3  02c083884c7d45b39cc68e1314fec56c    1.53      F   20       2016-07-11   \n",
       "4  02c083884c7d45b39cc68e1314fec56c    0.50      F   20       2016-07-11   \n",
       "\n",
       "   income age_group income_group  \n",
       "0   30000     10-20         <40k  \n",
       "1   30000     10-20         <40k  \n",
       "2   30000     10-20         <40k  \n",
       "3   30000     10-20         <40k  \n",
       "4   30000     10-20         <40k  "
      ]
     },
     "execution_count": 38,
     "metadata": {},
     "output_type": "execute_result"
    }
   ],
   "source": [
    "# YOUR CODE BEGINS\n",
    "df_merged['income_group'] = pd.cut(\n",
    "    df_merged['income'],\n",
    "    bins=[0, 40000, 60000, 80000, 100000, 999999],\n",
    "    labels=['<40k', '40k-60k', '60k-80k', '80k-100k', '>100k']\n",
    ")\n",
    "# YOUR CODE ENDS\n",
    "\n",
    "df_merged.head(5)"
   ]
  },
  {
   "cell_type": "markdown",
   "id": "3728542a",
   "metadata": {
    "nbgrader": {
     "grade": false,
     "locked": true,
     "solution": false
    }
   },
   "source": [
    "#### 🔑 Expected Output\n",
    "\n",
    "|    | member_id                        |   amount | gender   |   age | became_member_on   |   income | age_group   | income_group   |\n",
    "|---:|:---------------------------------|---------:|:---------|------:|:-------------------|---------:|:------------|:---------------|\n",
    "|  0 | 02c083884c7d45b39cc68e1314fec56c |     0.83 | F        |    20 | 2016-07-11         |    30000 | 10-20       | <40k           |\n",
    "|  1 | 02c083884c7d45b39cc68e1314fec56c |     1.44 | F        |    20 | 2016-07-11         |    30000 | 10-20       | <40k           |\n",
    "|  2 | 02c083884c7d45b39cc68e1314fec56c |     4.56 | F        |    20 | 2016-07-11         |    30000 | 10-20       | <40k           |\n",
    "|  3 | 02c083884c7d45b39cc68e1314fec56c |     1.53 | F        |    20 | 2016-07-11         |    30000 | 10-20       | <40k           |\n",
    "|  4 | 02c083884c7d45b39cc68e1314fec56c |     0.5  | F        |    20 | 2016-07-11         |    30000 | 10-20       | <40k           |"
   ]
  },
  {
   "cell_type": "markdown",
   "id": "67445b99",
   "metadata": {
    "id": "EdrK-mBsem7r",
    "nbgrader": {
     "grade": false,
     "locked": true,
     "solution": false
    }
   },
   "source": [
    "#### 🧭 Check Your Work"
   ]
  },
  {
   "cell_type": "code",
   "execution_count": 39,
   "id": "17b39d38",
   "metadata": {
    "nbgrader": {
     "grade": true,
     "grade_id": "part-17",
     "locked": true,
     "points": "3",
     "solution": false
    }
   },
   "outputs": [],
   "source": [
    "# DO NOT CHANGE THE CODE IN THIS CELL\n",
    "_test_case = 'part-17'\n",
    "_points = 3\n",
    "\n",
    "df_check = df_merged.copy()\n",
    "income_groups = ['>100k', '80k-100k', '60k-80k', '40k-60k', '<40k']\n",
    "income_groups.reverse()\n",
    "df_check['income_group'] = pd.cut(\n",
    "    df_check['INCOME'.lower()],\n",
    "    bins=[x * 10000 for x in [0, 4, 6, 8, 10]] + [999999],\n",
    "    labels=income_groups\n",
    ")\n",
    "# Check result\n",
    "pd.testing.assert_frame_equal(df_merged.sort_values(df_merged.columns.to_list()).reset_index(drop=True),\n",
    "                              df_check.sort_values(df_check.columns.tolist()).reset_index(drop=True))"
   ]
  },
  {
   "cell_type": "markdown",
   "id": "db82feea",
   "metadata": {
    "nbgrader": {
     "grade": false,
     "locked": true,
     "solution": false
    }
   },
   "source": [
    "---\n",
    "\n",
    "### 🎯 Part 18: Average transaction amount by income group\n",
    "\n",
    "#### 👇 Tasks\n",
    "\n",
    "- ✔️ Using `df_merged`, find the average transaction amount by income group (`income_group` column).\n",
    "- ✔️ Store the summary DataFrame to `df_mean_by_income_group`.\n",
    "- ✔️ `df_mean_by_income_group` should contain two non-index columns.\n",
    "    - `df_mean_by_income_group.columns.to_list()` should print out `['income_group', 'amount']`.\n",
    "- ✔️ `df_merged` should remain unaltered."
   ]
  },
  {
   "cell_type": "code",
   "execution_count": 40,
   "id": "e159a505",
   "metadata": {},
   "outputs": [
    {
     "data": {
      "text/html": [
       "<div>\n",
       "<style scoped>\n",
       "    .dataframe tbody tr th:only-of-type {\n",
       "        vertical-align: middle;\n",
       "    }\n",
       "\n",
       "    .dataframe tbody tr th {\n",
       "        vertical-align: top;\n",
       "    }\n",
       "\n",
       "    .dataframe thead th {\n",
       "        text-align: right;\n",
       "    }\n",
       "</style>\n",
       "<table border=\"1\" class=\"dataframe\">\n",
       "  <thead>\n",
       "    <tr style=\"text-align: right;\">\n",
       "      <th></th>\n",
       "      <th>income_group</th>\n",
       "      <th>amount</th>\n",
       "    </tr>\n",
       "  </thead>\n",
       "  <tbody>\n",
       "    <tr>\n",
       "      <th>0</th>\n",
       "      <td>&lt;40k</td>\n",
       "      <td>6.198411</td>\n",
       "    </tr>\n",
       "    <tr>\n",
       "      <th>1</th>\n",
       "      <td>40k-60k</td>\n",
       "      <td>9.353796</td>\n",
       "    </tr>\n",
       "    <tr>\n",
       "      <th>2</th>\n",
       "      <td>60k-80k</td>\n",
       "      <td>15.186843</td>\n",
       "    </tr>\n",
       "    <tr>\n",
       "      <th>3</th>\n",
       "      <td>80k-100k</td>\n",
       "      <td>27.448400</td>\n",
       "    </tr>\n",
       "    <tr>\n",
       "      <th>4</th>\n",
       "      <td>&gt;100k</td>\n",
       "      <td>30.897049</td>\n",
       "    </tr>\n",
       "  </tbody>\n",
       "</table>\n",
       "</div>"
      ],
      "text/plain": [
       "  income_group     amount\n",
       "0         <40k   6.198411\n",
       "1      40k-60k   9.353796\n",
       "2      60k-80k  15.186843\n",
       "3     80k-100k  27.448400\n",
       "4        >100k  30.897049"
      ]
     },
     "execution_count": 40,
     "metadata": {},
     "output_type": "execute_result"
    }
   ],
   "source": [
    "# YOUR CODE BEGINS\n",
    "df_mean_by_income_group = df_merged.groupby('income_group', as_index=False).agg({\n",
    "      'amount': np.mean\n",
    "})\n",
    "# YOUR CODE ENDS\n",
    "\n",
    "df_mean_by_income_group"
   ]
  },
  {
   "cell_type": "markdown",
   "id": "76a0ede3",
   "metadata": {},
   "source": [
    "#### 🔑 Expected Output\n",
    "\n",
    "|    | income_group   |   amount |\n",
    "|---:|:---------------|---------:|\n",
    "|  0 | <40k           |  6.19841 |\n",
    "|  1 | 40k-60k        |  9.3538  |\n",
    "|  2 | 60k-80k        | 15.1868  |\n",
    "|  3 | 80k-100k       | 27.4484  |\n",
    "|  4 | >100k          | 30.897   |"
   ]
  },
  {
   "cell_type": "markdown",
   "id": "7b3069a0",
   "metadata": {
    "id": "EdrK-mBsem7r",
    "nbgrader": {
     "grade": false,
     "locked": true,
     "solution": false
    }
   },
   "source": [
    "#### 🧭 Check Your Work"
   ]
  },
  {
   "cell_type": "code",
   "execution_count": 41,
   "id": "9cf7880e",
   "metadata": {
    "nbgrader": {
     "grade": true,
     "grade_id": "part-18",
     "locked": true,
     "points": "4",
     "solution": false
    }
   },
   "outputs": [],
   "source": [
    "# DO NOT CHANGE THE CODE IN THIS CELL\n",
    "_test_case = 'part-18'\n",
    "_points = 4\n",
    "\n",
    "df_check = pd.DataFrame({'income_group': {0: '<40k',  1: '40k-60k', 2: '60k-80k', 3: '80k-100k',\n",
    "  4: '>100k'}, 'amount': {0: 6.198411429621467, 1: 9.353795970427743, 2: 15.186842961106798,\n",
    "  3: 27.44839995065385, 4: 30.897049126815634}})\n",
    "df_mean_by_income_group_copy = df_mean_by_income_group.copy()\n",
    "df_mean_by_income_group_copy['income_group'] = df_mean_by_income_group_copy['income_group'].astype(str)\n",
    "# Check result\n",
    "pd.testing.assert_frame_equal(df_mean_by_income_group_copy.sort_values(df_mean_by_income_group_copy.columns.to_list()).reset_index(drop=True),\n",
    "                              df_check.sort_values(df_check.columns.tolist()).reset_index(drop=True))"
   ]
  },
  {
   "cell_type": "markdown",
   "id": "88fb550c",
   "metadata": {
    "nbgrader": {
     "grade": false,
     "locked": true,
     "solution": false
    }
   },
   "source": [
    "---\n",
    "\n",
    "### 🎯 Part 19: Multiple statistics by income group\n",
    "\n",
    "#### 👇 Tasks\n",
    "\n",
    "- ✔️ Using `df_merged`, find the following statistics by income group:\n",
    "    - `count`: number of transactions\n",
    "    - `mean`: average amount of transactions\n",
    "    - `median`: median amount\n",
    "    - `sum`: total amount of transactions\n",
    "    - `std`: standard deviation of transactions\n",
    "- ✔️ Store the summary DataFrame to `df_stats_by_income_group`.\n",
    "- ✔️ `df_stats_by_age_group` should have six non-index columns.\n",
    "    - `print(df_stats_by_income_group.columns.to_list())` should print out `['income_group', 'count', 'mean', 'median', 'sum', 'std']`.\n",
    "- ✔️ `df_merged` should remain unaltered."
   ]
  },
  {
   "cell_type": "code",
   "execution_count": 42,
   "id": "5d99495c",
   "metadata": {},
   "outputs": [
    {
     "name": "stdout",
     "output_type": "stream",
     "text": [
      "['income_group', 'count', 'mean', 'median', 'sum', 'std']\n"
     ]
    },
    {
     "data": {
      "text/html": [
       "<div>\n",
       "<style scoped>\n",
       "    .dataframe tbody tr th:only-of-type {\n",
       "        vertical-align: middle;\n",
       "    }\n",
       "\n",
       "    .dataframe tbody tr th {\n",
       "        vertical-align: top;\n",
       "    }\n",
       "\n",
       "    .dataframe thead th {\n",
       "        text-align: right;\n",
       "    }\n",
       "</style>\n",
       "<table border=\"1\" class=\"dataframe\">\n",
       "  <thead>\n",
       "    <tr style=\"text-align: right;\">\n",
       "      <th></th>\n",
       "      <th>income_group</th>\n",
       "      <th>count</th>\n",
       "      <th>mean</th>\n",
       "      <th>median</th>\n",
       "      <th>sum</th>\n",
       "      <th>std</th>\n",
       "    </tr>\n",
       "  </thead>\n",
       "  <tbody>\n",
       "    <tr>\n",
       "      <th>0</th>\n",
       "      <td>&lt;40k</td>\n",
       "      <td>21768</td>\n",
       "      <td>6.198411</td>\n",
       "      <td>4.30</td>\n",
       "      <td>134927.02</td>\n",
       "      <td>14.279654</td>\n",
       "    </tr>\n",
       "    <tr>\n",
       "      <th>1</th>\n",
       "      <td>40k-60k</td>\n",
       "      <td>42337</td>\n",
       "      <td>9.353796</td>\n",
       "      <td>6.97</td>\n",
       "      <td>396011.66</td>\n",
       "      <td>20.842805</td>\n",
       "    </tr>\n",
       "    <tr>\n",
       "      <th>2</th>\n",
       "      <td>60k-80k</td>\n",
       "      <td>37513</td>\n",
       "      <td>15.186843</td>\n",
       "      <td>14.01</td>\n",
       "      <td>569704.04</td>\n",
       "      <td>29.959209</td>\n",
       "    </tr>\n",
       "    <tr>\n",
       "      <th>3</th>\n",
       "      <td>80k-100k</td>\n",
       "      <td>16212</td>\n",
       "      <td>27.448400</td>\n",
       "      <td>23.26</td>\n",
       "      <td>444993.46</td>\n",
       "      <td>51.150685</td>\n",
       "    </tr>\n",
       "    <tr>\n",
       "      <th>4</th>\n",
       "      <td>&gt;100k</td>\n",
       "      <td>6127</td>\n",
       "      <td>30.897049</td>\n",
       "      <td>26.57</td>\n",
       "      <td>189306.22</td>\n",
       "      <td>55.785360</td>\n",
       "    </tr>\n",
       "  </tbody>\n",
       "</table>\n",
       "</div>"
      ],
      "text/plain": [
       "  income_group  count       mean  median        sum        std\n",
       "0         <40k  21768   6.198411    4.30  134927.02  14.279654\n",
       "1      40k-60k  42337   9.353796    6.97  396011.66  20.842805\n",
       "2      60k-80k  37513  15.186843   14.01  569704.04  29.959209\n",
       "3     80k-100k  16212  27.448400   23.26  444993.46  51.150685\n",
       "4        >100k   6127  30.897049   26.57  189306.22  55.785360"
      ]
     },
     "metadata": {},
     "output_type": "display_data"
    }
   ],
   "source": [
    "# YOUR CODE BEGINS\n",
    "df_stats_by_income_group = df_merged.groupby('income_group', as_index=False).agg({\n",
    "    'amount': ['count', 'mean', 'median', 'sum', 'std']\n",
    "})\n",
    "\n",
    "df_stats_by_income_group.columns = ['income_group', 'count', 'mean', 'median', 'sum', 'std']\n",
    "# YOUR CODE ENDS\n",
    "\n",
    "print(df_stats_by_income_group.columns.to_list())\n",
    "display(df_stats_by_income_group)"
   ]
  },
  {
   "cell_type": "markdown",
   "id": "d419c49b",
   "metadata": {},
   "source": [
    "#### 🔑 Expected Output\n",
    "\n",
    "|  | income_group | count | mean | median | sum | std |\n",
    "|---:|---:|---:|---:|---:|---:|---:|\n",
    "| 0 | <40k | 21768 | 6.198411 | 4.30 | 134927.02 | 14.279654 |\n",
    "| 1 | 40k-60k | 42337 | 9.353796 | 6.97 | 396011.66 | 20.842805 |\n",
    "| 2 | 60k-80k | 37513 | 15.186843 | 14.01 | 569704.04 | 29.959209 |\n",
    "| 3 | 80k-100k | 16212 | 27.448400 | 23.26 | 444993.46 | 51.150685 |\n",
    "| 4 | >100k | 6127 | 30.897049 | 26.57 | 189306.22 | 55.785360 |"
   ]
  },
  {
   "cell_type": "markdown",
   "id": "d5d8c4a2",
   "metadata": {
    "id": "EdrK-mBsem7r",
    "nbgrader": {
     "grade": false,
     "locked": true,
     "solution": false
    }
   },
   "source": [
    "#### 🧭 Check Your Work"
   ]
  },
  {
   "cell_type": "code",
   "execution_count": 43,
   "id": "0325e483",
   "metadata": {
    "nbgrader": {
     "grade": true,
     "grade_id": "part-19",
     "locked": true,
     "points": "7",
     "solution": false
    }
   },
   "outputs": [],
   "source": [
    "# DO NOT CHANGE THE CODE IN THIS CELL\n",
    "_test_case = 'part-19'\n",
    "_points = 7\n",
    "\n",
    "df_check = pd.DataFrame({'income_group': ['<40k', '40k-60k', '60k-80k', '80k-100k', '>100k'],\n",
    " 'count': [21768, 42337, 37513, 16212, 6127], 'mean': [6.198411429621462,  9.353795970427758,\n",
    "  15.186842961106818, 27.448399950653837, 30.897049126815734], 'median': [4.3, 6.97, 14.01, 23.26, 26.57],\n",
    " 'sum': [134927.02, 396011.66, 569704.04, 444993.46, 189306.22],'std': [14.279653533711084,\n",
    "  20.842804835779052, 29.95920866138207, 51.150685436236365, 55.78535978944457]})\n",
    "df_stats_by_income_group_copy = df_stats_by_income_group.copy()\n",
    "df_stats_by_income_group_copy['income_group'] = df_stats_by_income_group_copy['income_group'].astype(str)\n",
    "# Check result\n",
    "pd.testing.assert_frame_equal(df_stats_by_income_group_copy.sort_values(df_stats_by_income_group_copy.columns.to_list()).reset_index(drop=True),\n",
    "                              df_check.sort_values(df_check.columns.tolist()).reset_index(drop=True))"
   ]
  },
  {
   "cell_type": "markdown",
   "id": "34c09491",
   "metadata": {
    "nbgrader": {
     "grade": false,
     "locked": true,
     "solution": false
    }
   },
   "source": [
    "---\n",
    "\n",
    "### 🎯 Part 20: Multiple statistics by gender and age group\n",
    "\n",
    "#### 👇 Tasks\n",
    "\n",
    "- ✔️ Using `df_merged`, find the following statistics by both gender and age group (combined):\n",
    "    - `count`: number of transactions\n",
    "    - `mean`: average amount of transactions\n",
    "    - `median`: median amount\n",
    "    - `sum`: total amount of transactions\n",
    "    - `std`: standard deviation of transactions\n",
    "- ✔️ Store the summary DataFrame to `df_stats_by_gender_and_age_group`.\n",
    "- ✔️ `df_stats_by_gender_and_age_group` should have seven non-index columns.\n",
    "    - `print(df_stats_by_gender_and_age_group.columns.to_list())` should print out `['gender', 'age_group', 'count', 'mean', 'median', 'sum', 'std']`.\n",
    "- ✔️ `df_merged` should remain unaltered.\n",
    "\n",
    "#### 🚀 Sample code\n",
    "\n",
    "```python\n",
    "my_result = my_dataframe.groupby(['my_column1', 'my_column2'], as_index=False).agg({\n",
    "    'some_column': ['count', 'mean', 'median', 'sum', 'std']\n",
    "})\n",
    "\n",
    "# rename columns with a flat list\n",
    "# replace ... with your own strings\n",
    "my_result.columns = ['gender', 'age_group', 'count', ..., ..., ..., ...]\n",
    "```"
   ]
  },
  {
   "cell_type": "code",
   "execution_count": 44,
   "id": "21e32784",
   "metadata": {},
   "outputs": [
    {
     "name": "stdout",
     "output_type": "stream",
     "text": [
      "['gender', 'age_group', 'count', 'mean', 'median', 'sum', 'std']\n"
     ]
    },
    {
     "data": {
      "text/html": [
       "<div>\n",
       "<style scoped>\n",
       "    .dataframe tbody tr th:only-of-type {\n",
       "        vertical-align: middle;\n",
       "    }\n",
       "\n",
       "    .dataframe tbody tr th {\n",
       "        vertical-align: top;\n",
       "    }\n",
       "\n",
       "    .dataframe thead th {\n",
       "        text-align: right;\n",
       "    }\n",
       "</style>\n",
       "<table border=\"1\" class=\"dataframe\">\n",
       "  <thead>\n",
       "    <tr style=\"text-align: right;\">\n",
       "      <th></th>\n",
       "      <th>gender</th>\n",
       "      <th>age_group</th>\n",
       "      <th>count</th>\n",
       "      <th>mean</th>\n",
       "      <th>median</th>\n",
       "      <th>sum</th>\n",
       "      <th>std</th>\n",
       "    </tr>\n",
       "  </thead>\n",
       "  <tbody>\n",
       "    <tr>\n",
       "      <th>0</th>\n",
       "      <td>F</td>\n",
       "      <td>10-20</td>\n",
       "      <td>876</td>\n",
       "      <td>9.772363</td>\n",
       "      <td>8.200</td>\n",
       "      <td>8560.59</td>\n",
       "      <td>16.684214</td>\n",
       "    </tr>\n",
       "    <tr>\n",
       "      <th>1</th>\n",
       "      <td>F</td>\n",
       "      <td>20-30</td>\n",
       "      <td>4410</td>\n",
       "      <td>11.390574</td>\n",
       "      <td>8.300</td>\n",
       "      <td>50232.43</td>\n",
       "      <td>29.497469</td>\n",
       "    </tr>\n",
       "    <tr>\n",
       "      <th>2</th>\n",
       "      <td>F</td>\n",
       "      <td>30-40</td>\n",
       "      <td>5369</td>\n",
       "      <td>12.562378</td>\n",
       "      <td>10.270</td>\n",
       "      <td>67447.41</td>\n",
       "      <td>25.669856</td>\n",
       "    </tr>\n",
       "    <tr>\n",
       "      <th>3</th>\n",
       "      <td>F</td>\n",
       "      <td>40-50</td>\n",
       "      <td>7133</td>\n",
       "      <td>16.735238</td>\n",
       "      <td>14.650</td>\n",
       "      <td>119372.45</td>\n",
       "      <td>31.372290</td>\n",
       "    </tr>\n",
       "    <tr>\n",
       "      <th>4</th>\n",
       "      <td>F</td>\n",
       "      <td>50&gt;</td>\n",
       "      <td>31594</td>\n",
       "      <td>19.563275</td>\n",
       "      <td>17.290</td>\n",
       "      <td>618082.12</td>\n",
       "      <td>38.388897</td>\n",
       "    </tr>\n",
       "    <tr>\n",
       "      <th>5</th>\n",
       "      <td>M</td>\n",
       "      <td>10-20</td>\n",
       "      <td>2517</td>\n",
       "      <td>6.633190</td>\n",
       "      <td>3.560</td>\n",
       "      <td>16695.74</td>\n",
       "      <td>18.791151</td>\n",
       "    </tr>\n",
       "    <tr>\n",
       "      <th>6</th>\n",
       "      <td>M</td>\n",
       "      <td>20-30</td>\n",
       "      <td>9618</td>\n",
       "      <td>7.052608</td>\n",
       "      <td>3.930</td>\n",
       "      <td>67831.98</td>\n",
       "      <td>18.351805</td>\n",
       "    </tr>\n",
       "    <tr>\n",
       "      <th>7</th>\n",
       "      <td>M</td>\n",
       "      <td>30-40</td>\n",
       "      <td>10258</td>\n",
       "      <td>9.015572</td>\n",
       "      <td>4.940</td>\n",
       "      <td>92481.74</td>\n",
       "      <td>25.999063</td>\n",
       "    </tr>\n",
       "    <tr>\n",
       "      <th>8</th>\n",
       "      <td>M</td>\n",
       "      <td>40-50</td>\n",
       "      <td>12079</td>\n",
       "      <td>11.517318</td>\n",
       "      <td>8.100</td>\n",
       "      <td>139117.69</td>\n",
       "      <td>23.831984</td>\n",
       "    </tr>\n",
       "    <tr>\n",
       "      <th>9</th>\n",
       "      <td>M</td>\n",
       "      <td>50&gt;</td>\n",
       "      <td>38322</td>\n",
       "      <td>13.797915</td>\n",
       "      <td>10.090</td>\n",
       "      <td>528763.71</td>\n",
       "      <td>33.354972</td>\n",
       "    </tr>\n",
       "    <tr>\n",
       "      <th>10</th>\n",
       "      <td>O</td>\n",
       "      <td>10-20</td>\n",
       "      <td>45</td>\n",
       "      <td>10.250222</td>\n",
       "      <td>9.580</td>\n",
       "      <td>461.26</td>\n",
       "      <td>6.761075</td>\n",
       "    </tr>\n",
       "    <tr>\n",
       "      <th>11</th>\n",
       "      <td>O</td>\n",
       "      <td>20-30</td>\n",
       "      <td>156</td>\n",
       "      <td>7.582244</td>\n",
       "      <td>6.075</td>\n",
       "      <td>1182.83</td>\n",
       "      <td>6.015835</td>\n",
       "    </tr>\n",
       "    <tr>\n",
       "      <th>12</th>\n",
       "      <td>O</td>\n",
       "      <td>30-40</td>\n",
       "      <td>224</td>\n",
       "      <td>11.495134</td>\n",
       "      <td>10.550</td>\n",
       "      <td>2574.91</td>\n",
       "      <td>8.773994</td>\n",
       "    </tr>\n",
       "    <tr>\n",
       "      <th>13</th>\n",
       "      <td>O</td>\n",
       "      <td>40-50</td>\n",
       "      <td>323</td>\n",
       "      <td>14.607152</td>\n",
       "      <td>13.730</td>\n",
       "      <td>4718.11</td>\n",
       "      <td>9.186122</td>\n",
       "    </tr>\n",
       "    <tr>\n",
       "      <th>14</th>\n",
       "      <td>O</td>\n",
       "      <td>50&gt;</td>\n",
       "      <td>1033</td>\n",
       "      <td>16.862953</td>\n",
       "      <td>14.880</td>\n",
       "      <td>17419.43</td>\n",
       "      <td>32.828666</td>\n",
       "    </tr>\n",
       "  </tbody>\n",
       "</table>\n",
       "</div>"
      ],
      "text/plain": [
       "   gender age_group  count       mean  median        sum        std\n",
       "0       F     10-20    876   9.772363   8.200    8560.59  16.684214\n",
       "1       F     20-30   4410  11.390574   8.300   50232.43  29.497469\n",
       "2       F     30-40   5369  12.562378  10.270   67447.41  25.669856\n",
       "3       F     40-50   7133  16.735238  14.650  119372.45  31.372290\n",
       "4       F       50>  31594  19.563275  17.290  618082.12  38.388897\n",
       "5       M     10-20   2517   6.633190   3.560   16695.74  18.791151\n",
       "6       M     20-30   9618   7.052608   3.930   67831.98  18.351805\n",
       "7       M     30-40  10258   9.015572   4.940   92481.74  25.999063\n",
       "8       M     40-50  12079  11.517318   8.100  139117.69  23.831984\n",
       "9       M       50>  38322  13.797915  10.090  528763.71  33.354972\n",
       "10      O     10-20     45  10.250222   9.580     461.26   6.761075\n",
       "11      O     20-30    156   7.582244   6.075    1182.83   6.015835\n",
       "12      O     30-40    224  11.495134  10.550    2574.91   8.773994\n",
       "13      O     40-50    323  14.607152  13.730    4718.11   9.186122\n",
       "14      O       50>   1033  16.862953  14.880   17419.43  32.828666"
      ]
     },
     "metadata": {},
     "output_type": "display_data"
    }
   ],
   "source": [
    "# YOUR CODE BEGINS\n",
    "df_stats_by_gender_and_age_group = df_merged.groupby(['gender', 'age_group'], as_index=False).agg({\n",
    "    'amount': ['count', 'mean', 'median', 'sum', 'std']\n",
    "})\n",
    "\n",
    "df_stats_by_gender_and_age_group.columns = ['gender', 'age_group', 'count', 'mean', 'median', 'sum', 'std']\n",
    "# YOUR CODE ENDS\n",
    "\n",
    "print(df_stats_by_gender_and_age_group.columns.to_list())\n",
    "display(df_stats_by_gender_and_age_group)"
   ]
  },
  {
   "cell_type": "markdown",
   "id": "3d7f7c99",
   "metadata": {},
   "source": [
    "#### 🔑 Expected Output\n",
    "\n",
    "|  | gender | age_group | count | mean | median | sum | std |\n",
    "|---:|---:|---:|---:|---:|---:|---:|---:|\n",
    "| 0 | F | 10-20 | 876 | 9.772363 | 8.200 | 8560.59 | 16.684214 |\n",
    "| 1 | F | 20-30 | 4410 | 11.390574 | 8.300 | 50232.43 | 29.497469 |\n",
    "| 2 | F | 30-40 | 5369 | 12.562378 | 10.270 | 67447.41 | 25.669856 |\n",
    "| 3 | F | 40-50 | 7133 | 16.735238 | 14.650 | 119372.45 | 31.372290 |\n",
    "| 4 | F | 50> | 31594 | 19.563275 | 17.290 | 618082.12 | 38.388897 |\n",
    "| 5 | M | 10-20 | 2517 | 6.633190 | 3.560 | 16695.74 | 18.791151 |\n",
    "| 6 | M | 20-30 | 9618 | 7.052608 | 3.930 | 67831.98 | 18.351805 |\n",
    "| 7 | M | 30-40 | 10258 | 9.015572 | 4.940 | 92481.74 | 25.999063 |\n",
    "| 8 | M | 40-50 | 12079 | 11.517318 | 8.100 | 139117.69 | 23.831984 |\n",
    "| 9 | M | 50> | 38322 | 13.797915 | 10.090 | 528763.71 | 33.354972 |\n",
    "| 10 | O | 10-20 | 45 | 10.250222 | 9.580 | 461.26 | 6.761075 |\n",
    "| 11 | O | 20-30 | 156 | 7.582244 | 6.075 | 1182.83 | 6.015835 |\n",
    "| 12 | O | 30-40 | 224 | 11.495134 | 10.550 | 2574.91 | 8.773994 |\n",
    "| 13 | O | 40-50 | 323 | 14.607152 | 13.730 | 4718.11 | 9.186122 |\n",
    "| 14 | O | 50> | 1033 | 16.862953 | 14.880 | 17419.43 | 32.828666 |"
   ]
  },
  {
   "cell_type": "markdown",
   "id": "e8756e4e",
   "metadata": {
    "id": "EdrK-mBsem7r",
    "nbgrader": {
     "grade": false,
     "locked": true,
     "solution": false
    }
   },
   "source": [
    "#### 🧭 Check Your Work"
   ]
  },
  {
   "cell_type": "code",
   "execution_count": 45,
   "id": "7ab2f83e",
   "metadata": {
    "nbgrader": {
     "grade": true,
     "grade_id": "part-20",
     "locked": true,
     "points": "8",
     "solution": false
    }
   },
   "outputs": [],
   "source": [
    "# DO NOT CHANGE THE CODE IN THIS CELL\n",
    "_test_case = 'part-20'\n",
    "_points = 8\n",
    "\n",
    "df_check = pd.DataFrame({'gender': ['F', 'F', 'F', 'F', 'F', 'M', 'M', 'M', 'M', 'M', 'O', 'O', 'O', 'O', 'O'],\n",
    "  'age_group': ['10-20', '20-30', '30-40', '40-50', '50>', '10-20', '20-30', '30-40', '40-50', '50>', '10-20', \n",
    "  '20-30', '30-40', '40-50', '50>'], 'count': [876, 4410, 5369, 7133, 31594, 2517, 9618, 10258, 12079, 38322, 45, \n",
    "  156, 224, 323, 1033], 'mean': [9.8, 11.4, 12.6, 16.7, 19.6, 6.6, 7.1, 9.0, 11.5, 13.8, 10.3, 7.6, 11.5, 14.6, 16.9], \n",
    "  'median': [8.2, 8.3, 10.3, 14.6, 17.3, 3.6, 3.9, 4.9, 8.1, 10.1, 9.6, 6.1, 10.6, 13.7, 14.9], 'sum': [8560.6, \n",
    "  50232.4, 67447.4, 119372.4, 618082.1, 16695.7, 67832.0, 92481.7, 139117.7, 528763.7, 461.3, 1182.8, 2574.9, \n",
    "  4718.1, 17419.4], 'std': [16.7, 29.5, 25.7, 31.4, 38.4, 18.8, 18.4, 26.0, 23.8, 33.4, 6.8, 6.0, 8.8, 9.2, 32.8]})\n",
    "df_stats_by_gender_and_age_group = df_stats_by_gender_and_age_group.copy()\n",
    "df_stats_by_gender_and_age_group['age_group'] = df_stats_by_gender_and_age_group['age_group'].astype(str)\n",
    "# Check result\n",
    "pd.testing.assert_frame_equal(df_stats_by_gender_and_age_group.round(1).sort_values(df_stats_by_gender_and_age_group.columns.to_list()).reset_index(drop=True),\n",
    "                              df_check.sort_values(df_check.columns.tolist()).reset_index(drop=True))"
   ]
  },
  {
   "cell_type": "markdown",
   "id": "67650ec4",
   "metadata": {
    "nbgrader": {
     "grade": false,
     "locked": true,
     "solution": false
    }
   },
   "source": [
    "---\n",
    "\n",
    "## 🍸 Congratulations!\n",
    "\n",
    "If you've made it this far without an error, go ahead and submit your notebook."
   ]
  }
 ],
 "metadata": {
  "kernelspec": {
   "display_name": "Python 3 (ipykernel)",
   "language": "python",
   "name": "python3"
  },
  "language_info": {
   "codemirror_mode": {
    "name": "ipython",
    "version": 3
   },
   "file_extension": ".py",
   "mimetype": "text/x-python",
   "name": "python",
   "nbconvert_exporter": "python",
   "pygments_lexer": "ipython3",
   "version": "3.9.7"
  },
  "toc-autonumbering": false
 },
 "nbformat": 4,
 "nbformat_minor": 5
}
